{
 "cells": [
  {
   "cell_type": "markdown",
   "id": "728bdc01-7c44-4b7e-bf13-1f8d1968ea67",
   "metadata": {},
   "source": [
    "# MLOps for NLP"
   ]
  },
  {
   "cell_type": "markdown",
   "id": "206a340d-442b-4fce-96bb-bf9c31fe7784",
   "metadata": {},
   "source": [
    "## Understanding the problem "
   ]
  },
  {
   "cell_type": "code",
   "execution_count": null,
   "id": "33107bd1-ddb0-434d-b6f7-31bb277f9fa3",
   "metadata": {},
   "outputs": [],
   "source": []
  },
  {
   "cell_type": "code",
   "execution_count": null,
   "id": "0094eb7a-8427-4eef-8268-282f2d53bb7a",
   "metadata": {},
   "outputs": [],
   "source": []
  },
  {
   "cell_type": "markdown",
   "id": "81ae1645-ac76-41e1-bcb0-78a65aa5fdd8",
   "metadata": {},
   "source": [
    "## Setup"
   ]
  },
  {
   "cell_type": "code",
   "execution_count": 17,
   "id": "2f137648-2cfb-497b-a7e5-79317865eaaa",
   "metadata": {
    "scrolled": true
   },
   "outputs": [
    {
     "name": "stdout",
     "output_type": "stream",
     "text": [
      "Requirement already satisfied: mlflow in /home/develop/.anaconda3/envs/mlops/lib/python3.10/site-packages (from -r requirements.txt (line 1)) (2.13.2)\n",
      "Requirement already satisfied: scikit-learn in /home/develop/.anaconda3/envs/mlops/lib/python3.10/site-packages (from -r requirements.txt (line 2)) (1.5.0)\n",
      "Requirement already satisfied: xgboost in /home/develop/.anaconda3/envs/mlops/lib/python3.10/site-packages (from -r requirements.txt (line 3)) (2.0.3)\n",
      "Requirement already satisfied: ray in /home/develop/.anaconda3/envs/mlops/lib/python3.10/site-packages (from -r requirements.txt (line 4)) (2.24.0)\n",
      "Requirement already satisfied: starlette in /home/develop/.anaconda3/envs/mlops/lib/python3.10/site-packages (from -r requirements.txt (line 5)) (0.37.2)\n",
      "Requirement already satisfied: transformers in /home/develop/.anaconda3/envs/mlops/lib/python3.10/site-packages (from -r requirements.txt (line 6)) (4.41.2)\n",
      "Requirement already satisfied: Flask<4 in /home/develop/.anaconda3/envs/mlops/lib/python3.10/site-packages (from mlflow->-r requirements.txt (line 1)) (3.0.3)\n",
      "Requirement already satisfied: alembic!=1.10.0,<2 in /home/develop/.anaconda3/envs/mlops/lib/python3.10/site-packages (from mlflow->-r requirements.txt (line 1)) (1.13.1)\n",
      "Requirement already satisfied: cachetools<6,>=5.0.0 in /home/develop/.anaconda3/envs/mlops/lib/python3.10/site-packages (from mlflow->-r requirements.txt (line 1)) (5.3.3)\n",
      "Requirement already satisfied: click<9,>=7.0 in /home/develop/.anaconda3/envs/mlops/lib/python3.10/site-packages (from mlflow->-r requirements.txt (line 1)) (8.1.7)\n",
      "Requirement already satisfied: cloudpickle<4 in /home/develop/.anaconda3/envs/mlops/lib/python3.10/site-packages (from mlflow->-r requirements.txt (line 1)) (3.0.0)\n",
      "Requirement already satisfied: docker<8,>=4.0.0 in /home/develop/.anaconda3/envs/mlops/lib/python3.10/site-packages (from mlflow->-r requirements.txt (line 1)) (7.1.0)\n",
      "Requirement already satisfied: entrypoints<1 in /home/develop/.anaconda3/envs/mlops/lib/python3.10/site-packages (from mlflow->-r requirements.txt (line 1)) (0.4)\n",
      "Requirement already satisfied: gitpython<4,>=3.1.9 in /home/develop/.anaconda3/envs/mlops/lib/python3.10/site-packages (from mlflow->-r requirements.txt (line 1)) (3.1.43)\n",
      "Requirement already satisfied: graphene<4 in /home/develop/.anaconda3/envs/mlops/lib/python3.10/site-packages (from mlflow->-r requirements.txt (line 1)) (3.3)\n",
      "Requirement already satisfied: importlib-metadata!=4.7.0,<8,>=3.7.0 in /home/develop/.anaconda3/envs/mlops/lib/python3.10/site-packages (from mlflow->-r requirements.txt (line 1)) (7.1.0)\n",
      "Requirement already satisfied: markdown<4,>=3.3 in /home/develop/.anaconda3/envs/mlops/lib/python3.10/site-packages (from mlflow->-r requirements.txt (line 1)) (3.6)\n",
      "Requirement already satisfied: matplotlib<4 in /home/develop/.anaconda3/envs/mlops/lib/python3.10/site-packages (from mlflow->-r requirements.txt (line 1)) (3.9.0)\n",
      "Requirement already satisfied: numpy<2 in /home/develop/.anaconda3/envs/mlops/lib/python3.10/site-packages (from mlflow->-r requirements.txt (line 1)) (1.26.4)\n",
      "Requirement already satisfied: opentelemetry-api<3,>=1.0.0 in /home/develop/.anaconda3/envs/mlops/lib/python3.10/site-packages (from mlflow->-r requirements.txt (line 1)) (1.25.0)\n",
      "Requirement already satisfied: opentelemetry-sdk<3,>=1.0.0 in /home/develop/.anaconda3/envs/mlops/lib/python3.10/site-packages (from mlflow->-r requirements.txt (line 1)) (1.25.0)\n",
      "Requirement already satisfied: packaging<25 in /home/develop/.local/lib/python3.10/site-packages (from mlflow->-r requirements.txt (line 1)) (23.2)\n",
      "Requirement already satisfied: pandas<3 in /home/develop/.anaconda3/envs/mlops/lib/python3.10/site-packages (from mlflow->-r requirements.txt (line 1)) (2.2.2)\n",
      "Requirement already satisfied: protobuf<5,>=3.12.0 in /home/develop/.anaconda3/envs/mlops/lib/python3.10/site-packages (from mlflow->-r requirements.txt (line 1)) (4.25.3)\n",
      "Requirement already satisfied: pyarrow<16,>=4.0.0 in /home/develop/.anaconda3/envs/mlops/lib/python3.10/site-packages (from mlflow->-r requirements.txt (line 1)) (15.0.2)\n",
      "Requirement already satisfied: pytz<2025 in /home/develop/.anaconda3/envs/mlops/lib/python3.10/site-packages (from mlflow->-r requirements.txt (line 1)) (2024.1)\n",
      "Requirement already satisfied: pyyaml<7,>=5.1 in /home/develop/.anaconda3/envs/mlops/lib/python3.10/site-packages (from mlflow->-r requirements.txt (line 1)) (6.0.1)\n",
      "Requirement already satisfied: querystring-parser<2 in /home/develop/.anaconda3/envs/mlops/lib/python3.10/site-packages (from mlflow->-r requirements.txt (line 1)) (1.2.4)\n",
      "Requirement already satisfied: requests<3,>=2.17.3 in /home/develop/.anaconda3/envs/mlops/lib/python3.10/site-packages (from mlflow->-r requirements.txt (line 1)) (2.32.3)\n",
      "Requirement already satisfied: scipy<2 in /home/develop/.anaconda3/envs/mlops/lib/python3.10/site-packages (from mlflow->-r requirements.txt (line 1)) (1.13.1)\n",
      "Requirement already satisfied: sqlalchemy<3,>=1.4.0 in /home/develop/.anaconda3/envs/mlops/lib/python3.10/site-packages (from mlflow->-r requirements.txt (line 1)) (2.0.30)\n",
      "Requirement already satisfied: sqlparse<1,>=0.4.0 in /home/develop/.anaconda3/envs/mlops/lib/python3.10/site-packages (from mlflow->-r requirements.txt (line 1)) (0.5.0)\n",
      "Requirement already satisfied: Jinja2<4,>=2.11 in /home/develop/.anaconda3/envs/mlops/lib/python3.10/site-packages (from mlflow->-r requirements.txt (line 1)) (3.1.4)\n",
      "Requirement already satisfied: gunicorn<23 in /home/develop/.anaconda3/envs/mlops/lib/python3.10/site-packages (from mlflow->-r requirements.txt (line 1)) (22.0.0)\n",
      "Requirement already satisfied: joblib>=1.2.0 in /home/develop/.anaconda3/envs/mlops/lib/python3.10/site-packages (from scikit-learn->-r requirements.txt (line 2)) (1.4.2)\n",
      "Requirement already satisfied: threadpoolctl>=3.1.0 in /home/develop/.anaconda3/envs/mlops/lib/python3.10/site-packages (from scikit-learn->-r requirements.txt (line 2)) (3.5.0)\n",
      "Requirement already satisfied: filelock in /home/develop/.local/lib/python3.10/site-packages (from ray->-r requirements.txt (line 4)) (3.13.1)\n",
      "Requirement already satisfied: jsonschema in /home/develop/.anaconda3/envs/mlops/lib/python3.10/site-packages (from ray->-r requirements.txt (line 4)) (4.22.0)\n",
      "Requirement already satisfied: msgpack<2.0.0,>=1.0.0 in /home/develop/.anaconda3/envs/mlops/lib/python3.10/site-packages (from ray->-r requirements.txt (line 4)) (1.0.8)\n",
      "Requirement already satisfied: aiosignal in /home/develop/.anaconda3/envs/mlops/lib/python3.10/site-packages (from ray->-r requirements.txt (line 4)) (1.3.1)\n",
      "Requirement already satisfied: frozenlist in /home/develop/.anaconda3/envs/mlops/lib/python3.10/site-packages (from ray->-r requirements.txt (line 4)) (1.4.1)\n",
      "Requirement already satisfied: anyio<5,>=3.4.0 in /home/develop/.local/lib/python3.10/site-packages (from starlette->-r requirements.txt (line 5)) (4.2.0)\n",
      "Requirement already satisfied: huggingface-hub<1.0,>=0.23.0 in /home/develop/.anaconda3/envs/mlops/lib/python3.10/site-packages (from transformers->-r requirements.txt (line 6)) (0.23.4)\n",
      "Requirement already satisfied: regex!=2019.12.17 in /home/develop/.local/lib/python3.10/site-packages (from transformers->-r requirements.txt (line 6)) (2023.12.25)\n",
      "Requirement already satisfied: tokenizers<0.20,>=0.19 in /home/develop/.anaconda3/envs/mlops/lib/python3.10/site-packages (from transformers->-r requirements.txt (line 6)) (0.19.1)\n",
      "Requirement already satisfied: safetensors>=0.4.1 in /home/develop/.local/lib/python3.10/site-packages (from transformers->-r requirements.txt (line 6)) (0.4.2)\n",
      "Requirement already satisfied: tqdm>=4.27 in /home/develop/.anaconda3/envs/mlops/lib/python3.10/site-packages (from transformers->-r requirements.txt (line 6)) (4.66.4)\n",
      "Collecting virtualenv!=20.21.1,>=20.0.24 (from ray[serve]->-r requirements.txt (line 7))\n",
      "  Downloading virtualenv-20.26.2-py3-none-any.whl.metadata (4.4 kB)\n",
      "Collecting aiohttp>=3.7 (from ray[serve]->-r requirements.txt (line 7))\n",
      "  Using cached aiohttp-3.9.5-cp310-cp310-manylinux_2_17_x86_64.manylinux2014_x86_64.whl.metadata (7.5 kB)\n",
      "Requirement already satisfied: prometheus-client>=0.7.1 in /home/develop/.anaconda3/envs/mlops/lib/python3.10/site-packages (from ray[serve]->-r requirements.txt (line 7)) (0.20.0)\n",
      "Collecting watchfiles (from ray[serve]->-r requirements.txt (line 7))\n",
      "  Downloading watchfiles-0.22.0-cp310-cp310-manylinux_2_17_x86_64.manylinux2014_x86_64.whl.metadata (4.9 kB)\n",
      "Collecting smart-open (from ray[serve]->-r requirements.txt (line 7))\n",
      "  Using cached smart_open-7.0.4-py3-none-any.whl.metadata (23 kB)\n",
      "Collecting colorful (from ray[serve]->-r requirements.txt (line 7))\n",
      "  Using cached colorful-0.5.6-py2.py3-none-any.whl.metadata (16 kB)\n",
      "Collecting opencensus (from ray[serve]->-r requirements.txt (line 7))\n",
      "  Using cached opencensus-0.11.4-py2.py3-none-any.whl.metadata (12 kB)\n",
      "Collecting aiohttp-cors (from ray[serve]->-r requirements.txt (line 7))\n",
      "  Using cached aiohttp_cors-0.7.0-py3-none-any.whl.metadata (20 kB)\n",
      "Collecting fastapi (from ray[serve]->-r requirements.txt (line 7))\n",
      "  Using cached fastapi-0.111.0-py3-none-any.whl.metadata (25 kB)\n",
      "Requirement already satisfied: uvicorn[standard] in /home/develop/.local/lib/python3.10/site-packages (from ray[serve]->-r requirements.txt (line 7)) (0.27.1)\n",
      "Collecting py-spy>=0.2.0 (from ray[serve]->-r requirements.txt (line 7))\n",
      "  Using cached py_spy-0.3.14-py2.py3-none-manylinux_2_5_x86_64.manylinux1_x86_64.whl.metadata (16 kB)\n",
      "Collecting pydantic!=2.0.*,!=2.1.*,!=2.2.*,!=2.3.*,!=2.4.*,<3 (from ray[serve]->-r requirements.txt (line 7))\n",
      "  Downloading pydantic-2.7.4-py3-none-any.whl.metadata (109 kB)\n",
      "\u001b[2K     \u001b[38;2;114;156;31m━━━━━━━━━━━━━━━━━━━━━━━━━━━━━━━━━━━━━━━\u001b[0m \u001b[32m109.4/109.4 kB\u001b[0m \u001b[31m4.7 MB/s\u001b[0m eta \u001b[36m0:00:00\u001b[0m\n",
      "\u001b[?25hRequirement already satisfied: grpcio>=1.42.0 in /home/develop/.local/lib/python3.10/site-packages (from ray[serve]->-r requirements.txt (line 7)) (1.60.1)\n",
      "Collecting memray (from ray[serve]->-r requirements.txt (line 7))\n",
      "  Using cached memray-1.12.0-cp310-cp310-manylinux_2_12_x86_64.manylinux2010_x86_64.whl.metadata (19 kB)\n",
      "Requirement already satisfied: attrs>=17.3.0 in /home/develop/.anaconda3/envs/mlops/lib/python3.10/site-packages (from aiohttp>=3.7->ray[serve]->-r requirements.txt (line 7)) (23.2.0)\n",
      "Collecting multidict<7.0,>=4.5 (from aiohttp>=3.7->ray[serve]->-r requirements.txt (line 7))\n",
      "  Using cached multidict-6.0.5-cp310-cp310-manylinux_2_17_x86_64.manylinux2014_x86_64.whl.metadata (4.2 kB)\n",
      "Collecting yarl<2.0,>=1.0 (from aiohttp>=3.7->ray[serve]->-r requirements.txt (line 7))\n",
      "  Using cached yarl-1.9.4-cp310-cp310-manylinux_2_17_x86_64.manylinux2014_x86_64.whl.metadata (31 kB)\n",
      "Collecting async-timeout<5.0,>=4.0 (from aiohttp>=3.7->ray[serve]->-r requirements.txt (line 7))\n",
      "  Using cached async_timeout-4.0.3-py3-none-any.whl.metadata (4.2 kB)\n",
      "Requirement already satisfied: Mako in /home/develop/.anaconda3/envs/mlops/lib/python3.10/site-packages (from alembic!=1.10.0,<2->mlflow->-r requirements.txt (line 1)) (1.3.5)\n",
      "Requirement already satisfied: typing-extensions>=4 in /home/develop/.local/lib/python3.10/site-packages (from alembic!=1.10.0,<2->mlflow->-r requirements.txt (line 1)) (4.9.0)\n",
      "Requirement already satisfied: idna>=2.8 in /home/develop/.anaconda3/envs/mlops/lib/python3.10/site-packages (from anyio<5,>=3.4.0->starlette->-r requirements.txt (line 5)) (3.7)\n",
      "Requirement already satisfied: sniffio>=1.1 in /home/develop/.local/lib/python3.10/site-packages (from anyio<5,>=3.4.0->starlette->-r requirements.txt (line 5)) (1.3.0)\n",
      "Requirement already satisfied: exceptiongroup>=1.0.2 in /home/develop/.local/lib/python3.10/site-packages (from anyio<5,>=3.4.0->starlette->-r requirements.txt (line 5)) (1.2.0)\n",
      "Requirement already satisfied: urllib3>=1.26.0 in /home/develop/.anaconda3/envs/mlops/lib/python3.10/site-packages (from docker<8,>=4.0.0->mlflow->-r requirements.txt (line 1)) (2.2.1)\n",
      "Requirement already satisfied: Werkzeug>=3.0.0 in /home/develop/.anaconda3/envs/mlops/lib/python3.10/site-packages (from Flask<4->mlflow->-r requirements.txt (line 1)) (3.0.3)\n",
      "Requirement already satisfied: itsdangerous>=2.1.2 in /home/develop/.anaconda3/envs/mlops/lib/python3.10/site-packages (from Flask<4->mlflow->-r requirements.txt (line 1)) (2.2.0)\n",
      "Requirement already satisfied: blinker>=1.6.2 in /home/develop/.anaconda3/envs/mlops/lib/python3.10/site-packages (from Flask<4->mlflow->-r requirements.txt (line 1)) (1.8.2)\n",
      "Requirement already satisfied: gitdb<5,>=4.0.1 in /home/develop/.anaconda3/envs/mlops/lib/python3.10/site-packages (from gitpython<4,>=3.1.9->mlflow->-r requirements.txt (line 1)) (4.0.11)\n",
      "Requirement already satisfied: graphql-core<3.3,>=3.1 in /home/develop/.anaconda3/envs/mlops/lib/python3.10/site-packages (from graphene<4->mlflow->-r requirements.txt (line 1)) (3.2.3)\n",
      "Requirement already satisfied: graphql-relay<3.3,>=3.1 in /home/develop/.anaconda3/envs/mlops/lib/python3.10/site-packages (from graphene<4->mlflow->-r requirements.txt (line 1)) (3.2.0)\n",
      "Requirement already satisfied: aniso8601<10,>=8 in /home/develop/.anaconda3/envs/mlops/lib/python3.10/site-packages (from graphene<4->mlflow->-r requirements.txt (line 1)) (9.0.1)\n",
      "Requirement already satisfied: fsspec>=2023.5.0 in /home/develop/.anaconda3/envs/mlops/lib/python3.10/site-packages (from huggingface-hub<1.0,>=0.23.0->transformers->-r requirements.txt (line 6)) (2024.6.0)\n",
      "Requirement already satisfied: zipp>=0.5 in /home/develop/.anaconda3/envs/mlops/lib/python3.10/site-packages (from importlib-metadata!=4.7.0,<8,>=3.7.0->mlflow->-r requirements.txt (line 1)) (3.19.2)\n",
      "Requirement already satisfied: MarkupSafe>=2.0 in /home/develop/.anaconda3/envs/mlops/lib/python3.10/site-packages (from Jinja2<4,>=2.11->mlflow->-r requirements.txt (line 1)) (2.1.5)\n",
      "Requirement already satisfied: contourpy>=1.0.1 in /home/develop/.anaconda3/envs/mlops/lib/python3.10/site-packages (from matplotlib<4->mlflow->-r requirements.txt (line 1)) (1.2.1)\n",
      "Requirement already satisfied: cycler>=0.10 in /home/develop/.anaconda3/envs/mlops/lib/python3.10/site-packages (from matplotlib<4->mlflow->-r requirements.txt (line 1)) (0.12.1)\n",
      "Requirement already satisfied: fonttools>=4.22.0 in /home/develop/.anaconda3/envs/mlops/lib/python3.10/site-packages (from matplotlib<4->mlflow->-r requirements.txt (line 1)) (4.53.0)\n",
      "Requirement already satisfied: kiwisolver>=1.3.1 in /home/develop/.anaconda3/envs/mlops/lib/python3.10/site-packages (from matplotlib<4->mlflow->-r requirements.txt (line 1)) (1.4.5)\n",
      "Requirement already satisfied: pillow>=8 in /home/develop/.anaconda3/envs/mlops/lib/python3.10/site-packages (from matplotlib<4->mlflow->-r requirements.txt (line 1)) (10.3.0)\n",
      "Requirement already satisfied: pyparsing>=2.3.1 in /home/develop/.anaconda3/envs/mlops/lib/python3.10/site-packages (from matplotlib<4->mlflow->-r requirements.txt (line 1)) (3.1.2)\n",
      "Requirement already satisfied: python-dateutil>=2.7 in /home/develop/.local/lib/python3.10/site-packages (from matplotlib<4->mlflow->-r requirements.txt (line 1)) (2.8.2)\n",
      "Requirement already satisfied: deprecated>=1.2.6 in /home/develop/.anaconda3/envs/mlops/lib/python3.10/site-packages (from opentelemetry-api<3,>=1.0.0->mlflow->-r requirements.txt (line 1)) (1.2.14)\n",
      "Requirement already satisfied: opentelemetry-semantic-conventions==0.46b0 in /home/develop/.anaconda3/envs/mlops/lib/python3.10/site-packages (from opentelemetry-sdk<3,>=1.0.0->mlflow->-r requirements.txt (line 1)) (0.46b0)\n",
      "Requirement already satisfied: tzdata>=2022.7 in /home/develop/.local/lib/python3.10/site-packages (from pandas<3->mlflow->-r requirements.txt (line 1)) (2024.1)\n",
      "Requirement already satisfied: annotated-types>=0.4.0 in /home/develop/.local/lib/python3.10/site-packages (from pydantic!=2.0.*,!=2.1.*,!=2.2.*,!=2.3.*,!=2.4.*,<3->ray[serve]->-r requirements.txt (line 7)) (0.6.0)\n",
      "Collecting pydantic-core==2.18.4 (from pydantic!=2.0.*,!=2.1.*,!=2.2.*,!=2.3.*,!=2.4.*,<3->ray[serve]->-r requirements.txt (line 7))\n",
      "  Downloading pydantic_core-2.18.4-cp310-cp310-manylinux_2_17_x86_64.manylinux2014_x86_64.whl.metadata (6.5 kB)\n",
      "Requirement already satisfied: six in /home/develop/.anaconda3/envs/mlops/lib/python3.10/site-packages (from querystring-parser<2->mlflow->-r requirements.txt (line 1)) (1.16.0)\n",
      "Requirement already satisfied: charset-normalizer<4,>=2 in /home/develop/.anaconda3/envs/mlops/lib/python3.10/site-packages (from requests<3,>=2.17.3->mlflow->-r requirements.txt (line 1)) (3.3.2)\n",
      "Requirement already satisfied: certifi>=2017.4.17 in /home/develop/.anaconda3/envs/mlops/lib/python3.10/site-packages (from requests<3,>=2.17.3->mlflow->-r requirements.txt (line 1)) (2024.6.2)\n",
      "Requirement already satisfied: greenlet!=0.4.17 in /home/develop/.anaconda3/envs/mlops/lib/python3.10/site-packages (from sqlalchemy<3,>=1.4.0->mlflow->-r requirements.txt (line 1)) (3.0.3)\n",
      "Collecting distlib<1,>=0.3.7 (from virtualenv!=20.21.1,>=20.0.24->ray[serve]->-r requirements.txt (line 7))\n",
      "  Using cached distlib-0.3.8-py2.py3-none-any.whl.metadata (5.1 kB)\n",
      "Requirement already satisfied: platformdirs<5,>=3.9.1 in /home/develop/.anaconda3/envs/mlops/lib/python3.10/site-packages (from virtualenv!=20.21.1,>=20.0.24->ray[serve]->-r requirements.txt (line 7)) (4.2.2)\n",
      "Collecting fastapi-cli>=0.0.2 (from fastapi->ray[serve]->-r requirements.txt (line 7))\n",
      "  Using cached fastapi_cli-0.0.4-py3-none-any.whl.metadata (7.0 kB)\n",
      "Requirement already satisfied: httpx>=0.23.0 in /home/develop/.local/lib/python3.10/site-packages (from fastapi->ray[serve]->-r requirements.txt (line 7)) (0.26.0)\n",
      "Requirement already satisfied: python-multipart>=0.0.7 in /home/develop/.local/lib/python3.10/site-packages (from fastapi->ray[serve]->-r requirements.txt (line 7)) (0.0.9)\n",
      "Collecting ujson!=4.0.2,!=4.1.0,!=4.2.0,!=4.3.0,!=5.0.0,!=5.1.0,>=4.0.1 (from fastapi->ray[serve]->-r requirements.txt (line 7))\n",
      "  Using cached ujson-5.10.0-cp310-cp310-manylinux_2_17_x86_64.manylinux2014_x86_64.whl.metadata (9.3 kB)\n",
      "Collecting orjson>=3.2.1 (from fastapi->ray[serve]->-r requirements.txt (line 7))\n",
      "  Downloading orjson-3.10.5-cp310-cp310-manylinux_2_17_x86_64.manylinux2014_x86_64.whl.metadata (49 kB)\n",
      "\u001b[2K     \u001b[38;2;114;156;31m━━━━━━━━━━━━━━━━━━━━━━━━━━━━━━━━━━━━━━━━\u001b[0m \u001b[32m49.7/49.7 kB\u001b[0m \u001b[31m6.1 MB/s\u001b[0m eta \u001b[36m0:00:00\u001b[0m\n",
      "\u001b[?25hCollecting email_validator>=2.0.0 (from fastapi->ray[serve]->-r requirements.txt (line 7))\n",
      "  Downloading email_validator-2.1.2-py3-none-any.whl.metadata (26 kB)\n",
      "Requirement already satisfied: h11>=0.8 in /home/develop/.local/lib/python3.10/site-packages (from uvicorn[standard]; extra == \"serve\"->ray[serve]->-r requirements.txt (line 7)) (0.14.0)\n",
      "Collecting httptools>=0.5.0 (from uvicorn[standard]; extra == \"serve\"->ray[serve]->-r requirements.txt (line 7))\n",
      "  Using cached httptools-0.6.1-cp310-cp310-manylinux_2_5_x86_64.manylinux1_x86_64.manylinux_2_17_x86_64.manylinux2014_x86_64.whl.metadata (3.6 kB)\n",
      "Collecting python-dotenv>=0.13 (from uvicorn[standard]; extra == \"serve\"->ray[serve]->-r requirements.txt (line 7))\n",
      "  Using cached python_dotenv-1.0.1-py3-none-any.whl.metadata (23 kB)\n",
      "Collecting uvloop!=0.15.0,!=0.15.1,>=0.14.0 (from uvicorn[standard]; extra == \"serve\"->ray[serve]->-r requirements.txt (line 7))\n",
      "  Using cached uvloop-0.19.0-cp310-cp310-manylinux_2_17_x86_64.manylinux2014_x86_64.whl.metadata (4.9 kB)\n",
      "Collecting websockets>=10.4 (from uvicorn[standard]; extra == \"serve\"->ray[serve]->-r requirements.txt (line 7))\n",
      "  Using cached websockets-12.0-cp310-cp310-manylinux_2_5_x86_64.manylinux1_x86_64.manylinux_2_17_x86_64.manylinux2014_x86_64.whl.metadata (6.6 kB)\n",
      "Requirement already satisfied: jsonschema-specifications>=2023.03.6 in /home/develop/.anaconda3/envs/mlops/lib/python3.10/site-packages (from jsonschema->ray->-r requirements.txt (line 4)) (2023.12.1)\n",
      "Requirement already satisfied: referencing>=0.28.4 in /home/develop/.anaconda3/envs/mlops/lib/python3.10/site-packages (from jsonschema->ray->-r requirements.txt (line 4)) (0.35.1)\n",
      "Requirement already satisfied: rpds-py>=0.7.1 in /home/develop/.anaconda3/envs/mlops/lib/python3.10/site-packages (from jsonschema->ray->-r requirements.txt (line 4)) (0.18.1)\n",
      "Collecting rich>=11.2.0 (from memray->ray[serve]->-r requirements.txt (line 7))\n",
      "  Using cached rich-13.7.1-py3-none-any.whl.metadata (18 kB)\n",
      "Collecting textual>=0.41.0 (from memray->ray[serve]->-r requirements.txt (line 7))\n",
      "  Downloading textual-0.69.0-py3-none-any.whl.metadata (5.6 kB)\n",
      "Collecting opencensus-context>=0.1.3 (from opencensus->ray[serve]->-r requirements.txt (line 7))\n",
      "  Using cached opencensus_context-0.1.3-py2.py3-none-any.whl.metadata (3.3 kB)\n",
      "Collecting google-api-core<3.0.0,>=1.0.0 (from opencensus->ray[serve]->-r requirements.txt (line 7))\n",
      "  Downloading google_api_core-2.19.0-py3-none-any.whl.metadata (2.7 kB)\n",
      "Requirement already satisfied: wrapt in /home/develop/.anaconda3/envs/mlops/lib/python3.10/site-packages (from smart-open->ray[serve]->-r requirements.txt (line 7)) (1.16.0)\n",
      "Requirement already satisfied: dnspython>=2.0.0 in /home/develop/.local/lib/python3.10/site-packages (from email_validator>=2.0.0->fastapi->ray[serve]->-r requirements.txt (line 7)) (2.6.0)\n",
      "Collecting typer>=0.12.3 (from fastapi-cli>=0.0.2->fastapi->ray[serve]->-r requirements.txt (line 7))\n",
      "  Using cached typer-0.12.3-py3-none-any.whl.metadata (15 kB)\n",
      "Requirement already satisfied: smmap<6,>=3.0.1 in /home/develop/.anaconda3/envs/mlops/lib/python3.10/site-packages (from gitdb<5,>=4.0.1->gitpython<4,>=3.1.9->mlflow->-r requirements.txt (line 1)) (5.0.1)\n",
      "Collecting googleapis-common-protos<2.0.dev0,>=1.56.2 (from google-api-core<3.0.0,>=1.0.0->opencensus->ray[serve]->-r requirements.txt (line 7))\n",
      "  Downloading googleapis_common_protos-1.63.1-py2.py3-none-any.whl.metadata (1.5 kB)\n",
      "Collecting proto-plus<2.0.0dev,>=1.22.3 (from google-api-core<3.0.0,>=1.0.0->opencensus->ray[serve]->-r requirements.txt (line 7))\n",
      "  Using cached proto_plus-1.23.0-py3-none-any.whl.metadata (2.2 kB)\n",
      "Collecting google-auth<3.0.dev0,>=2.14.1 (from google-api-core<3.0.0,>=1.0.0->opencensus->ray[serve]->-r requirements.txt (line 7))\n",
      "  Downloading google_auth-2.30.0-py2.py3-none-any.whl.metadata (4.7 kB)\n",
      "Requirement already satisfied: httpcore==1.* in /home/develop/.local/lib/python3.10/site-packages (from httpx>=0.23.0->fastapi->ray[serve]->-r requirements.txt (line 7)) (1.0.3)\n",
      "Collecting markdown-it-py>=2.2.0 (from rich>=11.2.0->memray->ray[serve]->-r requirements.txt (line 7))\n",
      "  Using cached markdown_it_py-3.0.0-py3-none-any.whl.metadata (6.9 kB)\n",
      "Requirement already satisfied: pygments<3.0.0,>=2.13.0 in /home/develop/.anaconda3/envs/mlops/lib/python3.10/site-packages (from rich>=11.2.0->memray->ray[serve]->-r requirements.txt (line 7)) (2.18.0)\n",
      "Collecting pyasn1-modules>=0.2.1 (from google-auth<3.0.dev0,>=2.14.1->google-api-core<3.0.0,>=1.0.0->opencensus->ray[serve]->-r requirements.txt (line 7))\n",
      "  Using cached pyasn1_modules-0.4.0-py3-none-any.whl.metadata (3.4 kB)\n",
      "Collecting rsa<5,>=3.1.4 (from google-auth<3.0.dev0,>=2.14.1->google-api-core<3.0.0,>=1.0.0->opencensus->ray[serve]->-r requirements.txt (line 7))\n",
      "  Using cached rsa-4.9-py3-none-any.whl.metadata (4.2 kB)\n",
      "Collecting mdurl~=0.1 (from markdown-it-py>=2.2.0->rich>=11.2.0->memray->ray[serve]->-r requirements.txt (line 7))\n",
      "  Using cached mdurl-0.1.2-py3-none-any.whl.metadata (1.6 kB)\n",
      "Collecting linkify-it-py<3,>=1 (from markdown-it-py[linkify,plugins]>=2.1.0->textual>=0.41.0->memray->ray[serve]->-r requirements.txt (line 7))\n",
      "  Using cached linkify_it_py-2.0.3-py3-none-any.whl.metadata (8.5 kB)\n",
      "Collecting mdit-py-plugins (from markdown-it-py[linkify,plugins]>=2.1.0->textual>=0.41.0->memray->ray[serve]->-r requirements.txt (line 7))\n",
      "  Downloading mdit_py_plugins-0.4.1-py3-none-any.whl.metadata (2.8 kB)\n",
      "Collecting shellingham>=1.3.0 (from typer>=0.12.3->fastapi-cli>=0.0.2->fastapi->ray[serve]->-r requirements.txt (line 7))\n",
      "  Using cached shellingham-1.5.4-py2.py3-none-any.whl.metadata (3.5 kB)\n",
      "Collecting uc-micro-py (from linkify-it-py<3,>=1->markdown-it-py[linkify,plugins]>=2.1.0->textual>=0.41.0->memray->ray[serve]->-r requirements.txt (line 7))\n",
      "  Using cached uc_micro_py-1.0.3-py3-none-any.whl.metadata (2.0 kB)\n",
      "Collecting pyasn1<0.7.0,>=0.4.6 (from pyasn1-modules>=0.2.1->google-auth<3.0.dev0,>=2.14.1->google-api-core<3.0.0,>=1.0.0->opencensus->ray[serve]->-r requirements.txt (line 7))\n",
      "  Using cached pyasn1-0.6.0-py2.py3-none-any.whl.metadata (8.3 kB)\n",
      "Using cached aiohttp-3.9.5-cp310-cp310-manylinux_2_17_x86_64.manylinux2014_x86_64.whl (1.2 MB)\n",
      "Using cached py_spy-0.3.14-py2.py3-none-manylinux_2_5_x86_64.manylinux1_x86_64.whl (3.0 MB)\n",
      "Downloading pydantic-2.7.4-py3-none-any.whl (409 kB)\n",
      "\u001b[2K   \u001b[38;2;114;156;31m━━━━━━━━━━━━━━━━━━━━━━━━━━━━━━━━━━━━━━━━\u001b[0m \u001b[32m409.0/409.0 kB\u001b[0m \u001b[31m7.6 MB/s\u001b[0m eta \u001b[36m0:00:00\u001b[0m MB/s\u001b[0m eta \u001b[36m0:00:01\u001b[0m\n",
      "\u001b[?25hDownloading pydantic_core-2.18.4-cp310-cp310-manylinux_2_17_x86_64.manylinux2014_x86_64.whl (2.0 MB)\n",
      "\u001b[2K   \u001b[38;2;114;156;31m━━━━━━━━━━━━━━━━━━━━━━━━━━━━━━━━━━━━━━━━\u001b[0m \u001b[32m2.0/2.0 MB\u001b[0m \u001b[31m10.3 MB/s\u001b[0m eta \u001b[36m0:00:00\u001b[0m MB/s\u001b[0m eta \u001b[36m0:00:01\u001b[0m:01\u001b[0m\n",
      "\u001b[?25hDownloading virtualenv-20.26.2-py3-none-any.whl (3.9 MB)\n",
      "\u001b[2K   \u001b[38;2;114;156;31m━━━━━━━━━━━━━━━━━━━━━━━━━━━━━━━━━━━━━━━━\u001b[0m \u001b[32m3.9/3.9 MB\u001b[0m \u001b[31m11.3 MB/s\u001b[0m eta \u001b[36m0:00:00\u001b[0m MB/s\u001b[0m eta \u001b[36m0:00:01\u001b[0m:01\u001b[0m\n",
      "\u001b[?25hUsing cached aiohttp_cors-0.7.0-py3-none-any.whl (27 kB)\n",
      "Using cached colorful-0.5.6-py2.py3-none-any.whl (201 kB)\n",
      "Using cached fastapi-0.111.0-py3-none-any.whl (91 kB)\n",
      "Downloading watchfiles-0.22.0-cp310-cp310-manylinux_2_17_x86_64.manylinux2014_x86_64.whl (1.2 MB)\n",
      "\u001b[2K   \u001b[38;2;114;156;31m━━━━━━━━━━━━━━━━━━━━━━━━━━━━━━━━━━━━━━━━\u001b[0m \u001b[32m1.2/1.2 MB\u001b[0m \u001b[31m11.0 MB/s\u001b[0m eta \u001b[36m0:00:00\u001b[0mm eta \u001b[36m0:00:01\u001b[0m[36m0:00:01\u001b[0m\n",
      "\u001b[?25hUsing cached memray-1.12.0-cp310-cp310-manylinux_2_12_x86_64.manylinux2010_x86_64.whl (3.5 MB)\n",
      "Using cached opencensus-0.11.4-py2.py3-none-any.whl (128 kB)\n",
      "Using cached smart_open-7.0.4-py3-none-any.whl (61 kB)\n",
      "Using cached async_timeout-4.0.3-py3-none-any.whl (5.7 kB)\n",
      "Using cached distlib-0.3.8-py2.py3-none-any.whl (468 kB)\n",
      "Downloading email_validator-2.1.2-py3-none-any.whl (30 kB)\n",
      "Using cached fastapi_cli-0.0.4-py3-none-any.whl (9.5 kB)\n",
      "Downloading google_api_core-2.19.0-py3-none-any.whl (139 kB)\n",
      "\u001b[2K   \u001b[38;2;114;156;31m━━━━━━━━━━━━━━━━━━━━━━━━━━━━━━━━━━━━━━━━\u001b[0m \u001b[32m139.0/139.0 kB\u001b[0m \u001b[31m10.0 MB/s\u001b[0m eta \u001b[36m0:00:00\u001b[0m\n",
      "\u001b[?25hUsing cached httptools-0.6.1-cp310-cp310-manylinux_2_5_x86_64.manylinux1_x86_64.manylinux_2_17_x86_64.manylinux2014_x86_64.whl (341 kB)\n",
      "Using cached multidict-6.0.5-cp310-cp310-manylinux_2_17_x86_64.manylinux2014_x86_64.whl (124 kB)\n",
      "Using cached opencensus_context-0.1.3-py2.py3-none-any.whl (5.1 kB)\n",
      "Downloading orjson-3.10.5-cp310-cp310-manylinux_2_17_x86_64.manylinux2014_x86_64.whl (144 kB)\n",
      "\u001b[2K   \u001b[38;2;114;156;31m━━━━━━━━━━━━━━━━━━━━━━━━━━━━━━━━━━━━━━━━\u001b[0m \u001b[32m145.0/145.0 kB\u001b[0m \u001b[31m10.1 MB/s\u001b[0m eta \u001b[36m0:00:00\u001b[0m\n",
      "\u001b[?25hUsing cached python_dotenv-1.0.1-py3-none-any.whl (19 kB)\n",
      "Using cached rich-13.7.1-py3-none-any.whl (240 kB)\n",
      "Downloading textual-0.69.0-py3-none-any.whl (561 kB)\n",
      "\u001b[2K   \u001b[38;2;114;156;31m━━━━━━━━━━━━━━━━━━━━━━━━━━━━━━━━━━━━━━━━\u001b[0m \u001b[32m561.8/561.8 kB\u001b[0m \u001b[31m10.6 MB/s\u001b[0m eta \u001b[36m0:00:00\u001b[0m31m11.8 MB/s\u001b[0m eta \u001b[36m0:00:01\u001b[0m\n",
      "\u001b[?25hUsing cached ujson-5.10.0-cp310-cp310-manylinux_2_17_x86_64.manylinux2014_x86_64.whl (53 kB)\n",
      "Using cached uvloop-0.19.0-cp310-cp310-manylinux_2_17_x86_64.manylinux2014_x86_64.whl (3.4 MB)\n",
      "Using cached websockets-12.0-cp310-cp310-manylinux_2_5_x86_64.manylinux1_x86_64.manylinux_2_17_x86_64.manylinux2014_x86_64.whl (130 kB)\n",
      "Using cached yarl-1.9.4-cp310-cp310-manylinux_2_17_x86_64.manylinux2014_x86_64.whl (301 kB)\n",
      "Downloading google_auth-2.30.0-py2.py3-none-any.whl (193 kB)\n",
      "\u001b[2K   \u001b[38;2;114;156;31m━━━━━━━━━━━━━━━━━━━━━━━━━━━━━━━━━━━━━━━━\u001b[0m \u001b[32m193.7/193.7 kB\u001b[0m \u001b[31m11.4 MB/s\u001b[0m eta \u001b[36m0:00:00\u001b[0m\n",
      "\u001b[?25hDownloading googleapis_common_protos-1.63.1-py2.py3-none-any.whl (229 kB)\n",
      "\u001b[2K   \u001b[38;2;114;156;31m━━━━━━━━━━━━━━━━━━━━━━━━━━━━━━━━━━━━━━━━\u001b[0m \u001b[32m229.2/229.2 kB\u001b[0m \u001b[31m12.2 MB/s\u001b[0m eta \u001b[36m0:00:00\u001b[0m\n",
      "\u001b[?25hUsing cached markdown_it_py-3.0.0-py3-none-any.whl (87 kB)\n",
      "Using cached proto_plus-1.23.0-py3-none-any.whl (48 kB)\n",
      "Using cached typer-0.12.3-py3-none-any.whl (47 kB)\n",
      "Using cached linkify_it_py-2.0.3-py3-none-any.whl (19 kB)\n",
      "Using cached mdurl-0.1.2-py3-none-any.whl (10.0 kB)\n",
      "Using cached pyasn1_modules-0.4.0-py3-none-any.whl (181 kB)\n",
      "Using cached rsa-4.9-py3-none-any.whl (34 kB)\n",
      "Using cached shellingham-1.5.4-py2.py3-none-any.whl (9.8 kB)\n",
      "Downloading mdit_py_plugins-0.4.1-py3-none-any.whl (54 kB)\n",
      "\u001b[2K   \u001b[38;2;114;156;31m━━━━━━━━━━━━━━━━━━━━━━━━━━━━━━━━━━━━━━━━\u001b[0m \u001b[32m54.8/54.8 kB\u001b[0m \u001b[31m7.8 MB/s\u001b[0m eta \u001b[36m0:00:00\u001b[0m\n",
      "\u001b[?25hUsing cached pyasn1-0.6.0-py2.py3-none-any.whl (85 kB)\n",
      "Using cached uc_micro_py-1.0.3-py3-none-any.whl (6.2 kB)\n",
      "Installing collected packages: py-spy, opencensus-context, distlib, colorful, websockets, virtualenv, uvloop, ujson, uc-micro-py, smart-open, shellingham, python-dotenv, pydantic-core, pyasn1, proto-plus, orjson, multidict, mdurl, httptools, googleapis-common-protos, email_validator, async-timeout, yarl, watchfiles, rsa, pydantic, pyasn1-modules, markdown-it-py, linkify-it-py, rich, mdit-py-plugins, google-auth, aiohttp, typer, google-api-core, aiohttp-cors, textual, opencensus, fastapi-cli, memray, fastapi\n",
      "Successfully installed aiohttp-3.9.5 aiohttp-cors-0.7.0 async-timeout-4.0.3 colorful-0.5.6 distlib-0.3.8 email_validator-2.1.2 fastapi-0.111.0 fastapi-cli-0.0.4 google-api-core-2.19.0 google-auth-2.30.0 googleapis-common-protos-1.63.1 httptools-0.6.1 linkify-it-py-2.0.3 markdown-it-py-3.0.0 mdit-py-plugins-0.4.1 mdurl-0.1.2 memray-1.12.0 multidict-6.0.5 opencensus-0.11.4 opencensus-context-0.1.3 orjson-3.10.5 proto-plus-1.23.0 py-spy-0.3.14 pyasn1-0.6.0 pyasn1-modules-0.4.0 pydantic-2.7.4 pydantic-core-2.18.4 python-dotenv-1.0.1 rich-13.7.1 rsa-4.9 shellingham-1.5.4 smart-open-7.0.4 textual-0.69.0 typer-0.12.3 uc-micro-py-1.0.3 ujson-5.10.0 uvloop-0.19.0 virtualenv-20.26.2 watchfiles-0.22.0 websockets-12.0 yarl-1.9.4\n"
     ]
    }
   ],
   "source": [
    "!pip install -r requirements.txt"
   ]
  },
  {
   "cell_type": "code",
   "execution_count": 1,
   "id": "23aaba00-40a5-44e4-a9a9-e514c8b1216e",
   "metadata": {},
   "outputs": [],
   "source": [
    "import ray "
   ]
  },
  {
   "cell_type": "code",
   "execution_count": null,
   "id": "75e92f03-cada-4076-8a60-3a30062dc67d",
   "metadata": {},
   "outputs": [],
   "source": [
    "# Initialize Ray \n",
    "if ray.is_initialized():\n",
    "    ray.shutdown()\n",
    "ray.init()"
   ]
  },
  {
   "cell_type": "code",
   "execution_count": null,
   "id": "5d24756b-b467-41f2-95c4-0ec43160aa36",
   "metadata": {},
   "outputs": [],
   "source": [
    "ray.cluster_resources()"
   ]
  },
  {
   "cell_type": "code",
   "execution_count": null,
   "id": "a268300c-63f2-4d64-8e51-576bbb4017fa",
   "metadata": {},
   "outputs": [],
   "source": [
    "num_workers = 1 \n",
    "resources_per_workers = {\"CPU\": 3, \"GPU\": 1} "
   ]
  },
  {
   "cell_type": "markdown",
   "id": "243f8c8e-a30a-4769-a346-fbf231112206",
   "metadata": {},
   "source": []
  },
  {
   "cell_type": "markdown",
   "id": "51c52cb5-2e6a-4454-8000-1f943d770f25",
   "metadata": {},
   "source": [
    "## Data "
   ]
  },
  {
   "cell_type": "code",
   "execution_count": 1,
   "id": "e13b88cb-427b-4ce0-919f-fde0cf1b89f7",
   "metadata": {},
   "outputs": [],
   "source": [
    "import pandas as pd"
   ]
  },
  {
   "cell_type": "code",
   "execution_count": 2,
   "id": "42cb7d7c-73bc-4bbb-9e14-c56dd784cde2",
   "metadata": {},
   "outputs": [
    {
     "data": {
      "text/html": [
       "<div>\n",
       "<style scoped>\n",
       "    .dataframe tbody tr th:only-of-type {\n",
       "        vertical-align: middle;\n",
       "    }\n",
       "\n",
       "    .dataframe tbody tr th {\n",
       "        vertical-align: top;\n",
       "    }\n",
       "\n",
       "    .dataframe thead th {\n",
       "        text-align: right;\n",
       "    }\n",
       "</style>\n",
       "<table border=\"1\" class=\"dataframe\">\n",
       "  <thead>\n",
       "    <tr style=\"text-align: right;\">\n",
       "      <th></th>\n",
       "      <th>id</th>\n",
       "      <th>created_on</th>\n",
       "      <th>title</th>\n",
       "      <th>description</th>\n",
       "      <th>tag</th>\n",
       "    </tr>\n",
       "  </thead>\n",
       "  <tbody>\n",
       "    <tr>\n",
       "      <th>0</th>\n",
       "      <td>6</td>\n",
       "      <td>2020-02-20 06:43:18</td>\n",
       "      <td>Comparison between YOLO and RCNN on real world...</td>\n",
       "      <td>Bringing theory to experiment is cool. We can ...</td>\n",
       "      <td>computer-vision</td>\n",
       "    </tr>\n",
       "    <tr>\n",
       "      <th>1</th>\n",
       "      <td>7</td>\n",
       "      <td>2020-02-20 06:47:21</td>\n",
       "      <td>Show, Infer &amp; Tell: Contextual Inference for C...</td>\n",
       "      <td>The beauty of the work lies in the way it arch...</td>\n",
       "      <td>computer-vision</td>\n",
       "    </tr>\n",
       "    <tr>\n",
       "      <th>2</th>\n",
       "      <td>9</td>\n",
       "      <td>2020-02-24 16:24:45</td>\n",
       "      <td>Awesome Graph Classification</td>\n",
       "      <td>A collection of important graph embedding, cla...</td>\n",
       "      <td>other</td>\n",
       "    </tr>\n",
       "    <tr>\n",
       "      <th>3</th>\n",
       "      <td>15</td>\n",
       "      <td>2020-02-28 23:55:26</td>\n",
       "      <td>Awesome Monte Carlo Tree Search</td>\n",
       "      <td>A curated list of Monte Carlo tree search pape...</td>\n",
       "      <td>other</td>\n",
       "    </tr>\n",
       "    <tr>\n",
       "      <th>4</th>\n",
       "      <td>25</td>\n",
       "      <td>2020-03-07 23:04:31</td>\n",
       "      <td>AttentionWalk</td>\n",
       "      <td>A PyTorch Implementation of \"Watch Your Step: ...</td>\n",
       "      <td>other</td>\n",
       "    </tr>\n",
       "  </tbody>\n",
       "</table>\n",
       "</div>"
      ],
      "text/plain": [
       "   id           created_on                                              title  \\\n",
       "0   6  2020-02-20 06:43:18  Comparison between YOLO and RCNN on real world...   \n",
       "1   7  2020-02-20 06:47:21  Show, Infer & Tell: Contextual Inference for C...   \n",
       "2   9  2020-02-24 16:24:45                       Awesome Graph Classification   \n",
       "3  15  2020-02-28 23:55:26                    Awesome Monte Carlo Tree Search   \n",
       "4  25  2020-03-07 23:04:31                                      AttentionWalk   \n",
       "\n",
       "                                         description              tag  \n",
       "0  Bringing theory to experiment is cool. We can ...  computer-vision  \n",
       "1  The beauty of the work lies in the way it arch...  computer-vision  \n",
       "2  A collection of important graph embedding, cla...            other  \n",
       "3  A curated list of Monte Carlo tree search pape...            other  \n",
       "4  A PyTorch Implementation of \"Watch Your Step: ...            other  "
      ]
     },
     "execution_count": 2,
     "metadata": {},
     "output_type": "execute_result"
    }
   ],
   "source": [
    "DATASET = \"https://raw.githubusercontent.com/GokuMohandas/Made-With-ML/main/datasets/dataset.csv\"\n",
    "df = pd.read_csv(DATASET)\n",
    "df.head()"
   ]
  },
  {
   "cell_type": "code",
   "execution_count": null,
   "id": "50a63d67-3075-4f97-b0be-8ef1f35577b4",
   "metadata": {},
   "outputs": [],
   "source": []
  },
  {
   "cell_type": "markdown",
   "id": "264e4f7b-84f6-46c2-8738-6692933b1355",
   "metadata": {},
   "source": [
    "### Exploratory Data Analysis "
   ]
  },
  {
   "cell_type": "code",
   "execution_count": 3,
   "id": "4d0cf936-83e9-4962-9e95-7fca28fc4a4b",
   "metadata": {
    "scrolled": true
   },
   "outputs": [],
   "source": [
    "from collections import Counter \n",
    "import matplotlib.pyplot as plt \n",
    "import seaborn as sns \n",
    "from wordcloud import WordCloud, STOPWORDS"
   ]
  },
  {
   "cell_type": "code",
   "execution_count": 4,
   "id": "ee1c824f-8d3f-4d21-a58a-8c7230bb72db",
   "metadata": {},
   "outputs": [
    {
     "data": {
      "text/plain": [
       "[('natural-language-processing', 310),\n",
       " ('computer-vision', 285),\n",
       " ('other', 106),\n",
       " ('mlops', 63)]"
      ]
     },
     "execution_count": 4,
     "metadata": {},
     "output_type": "execute_result"
    }
   ],
   "source": [
    "# Most commong tags\n",
    "all_tags = Counter(df.tag)\n",
    "all_tags.most_common()"
   ]
  },
  {
   "cell_type": "code",
   "execution_count": 5,
   "id": "0e799c5b-0a10-435d-94b4-8db804309634",
   "metadata": {},
   "outputs": [
    {
     "name": "stderr",
     "output_type": "stream",
     "text": [
      "/tmp/ipykernel_3339396/4036079677.py:4: UserWarning: set_ticklabels() should only be used with a fixed number of ticks, i.e. after set_ticks() or using a FixedLocator.\n",
      "  ax.set_xticklabels(tags, rotation=0, fontsize=12)\n"
     ]
    },
    {
     "data": {
      "image/png": "[encoded data removed]",
      "text/plain": [
       "<Figure size 1000x300 with 1 Axes>"
      ]
     },
     "metadata": {},
     "output_type": "display_data"
    }
   ],
   "source": [
    "tags, tag_counts = zip(*all_tags.most_common())\n",
    "plt.figure(figsize=(10,3))\n",
    "ax = sns.barplot(x=list(tags), y = list(tag_counts))\n",
    "ax.set_xticklabels(tags, rotation=0, fontsize=12)\n",
    "plt.title(\"Tag distribution\", fontsize=16) \n",
    "plt.ylabel(\"# of projects\", fontsize = 14) \n",
    "plt.show()"
   ]
  },
  {
   "cell_type": "markdown",
   "id": "5539b083-d39a-4221-bad9-a9926001944c",
   "metadata": {},
   "source": [
    "### Data Preprocessing"
   ]
  },
  {
   "cell_type": "code",
   "execution_count": 12,
   "id": "cd4cab20-90d8-4330-b210-ac4d1101ab64",
   "metadata": {},
   "outputs": [
    {
     "name": "stderr",
     "output_type": "stream",
     "text": [
      "[nltk_data] Downloading package stopwords to\n",
      "[nltk_data]     /home/develop/nltk_data...\n",
      "[nltk_data]   Package stopwords is already up-to-date!\n"
     ]
    }
   ],
   "source": [
    "import json \n",
    "import nltk \n",
    "nltk.download(\"stopwords\")\n",
    "from nltk.corpus import stopwords \n",
    "from nltk.stem import PorterStemmer\n",
    "import re \n",
    "from sklearn.model_selection import train_test_split "
   ]
  },
  {
   "cell_type": "code",
   "execution_count": 13,
   "id": "e7cb1519-aaf2-423b-a454-658db800324a",
   "metadata": {
    "scrolled": true
   },
   "outputs": [
    {
     "data": {
      "text/plain": [
       "tag\n",
       "natural-language-processing    310\n",
       "computer-vision                285\n",
       "other                          106\n",
       "mlops                           63\n",
       "Name: count, dtype: int64"
      ]
     },
     "execution_count": 13,
     "metadata": {},
     "output_type": "execute_result"
    }
   ],
   "source": [
    "df.tag.value_counts()"
   ]
  },
  {
   "cell_type": "code",
   "execution_count": 14,
   "id": "3ba341c9-6b76-42b3-94f2-38681bd48262",
   "metadata": {},
   "outputs": [],
   "source": [
    "test_size = 0.2 \n",
    "train_df, val_df = train_test_split(df, stratify=df.tag, test_size=test_size, random_state=1234) "
   ]
  },
  {
   "cell_type": "code",
   "execution_count": 15,
   "id": "3c2d085e-b9d4-40a0-bbdf-72b5657d97fd",
   "metadata": {},
   "outputs": [
    {
     "data": {
      "text/plain": [
       "tag\n",
       "natural-language-processing    248\n",
       "computer-vision                228\n",
       "other                           85\n",
       "mlops                           50\n",
       "Name: count, dtype: int64"
      ]
     },
     "execution_count": 15,
     "metadata": {},
     "output_type": "execute_result"
    }
   ],
   "source": [
    "train_df.tag.value_counts()"
   ]
  },
  {
   "cell_type": "code",
   "execution_count": 16,
   "id": "621182d7-0666-40f7-a7b5-96cb5fa61171",
   "metadata": {
    "scrolled": true
   },
   "outputs": [
    {
     "data": {
      "text/plain": [
       "tag\n",
       "natural-language-processing    248\n",
       "computer-vision                228\n",
       "other                           84\n",
       "mlops                           52\n",
       "Name: count, dtype: int64"
      ]
     },
     "execution_count": 16,
     "metadata": {},
     "output_type": "execute_result"
    }
   ],
   "source": [
    "# Validation (adjusted) value counts \n",
    "val_df.tag.value_counts() * int((1 - test_size)/ test_size)"
   ]
  },
  {
   "cell_type": "markdown",
   "id": "8d3faa8c-d12d-44b7-8c1e-2e292ffda70e",
   "metadata": {},
   "source": [
    "#### Feature Engineering"
   ]
  },
  {
   "cell_type": "code",
   "execution_count": 22,
   "id": "6ab1194d-98c0-4cb1-82c4-e7f3fcf27ab3",
   "metadata": {},
   "outputs": [],
   "source": [
    "df['text'] = df.title + \" \" + df.description"
   ]
  },
  {
   "cell_type": "markdown",
   "id": "095ee681-301a-4369-a53f-3746b7e8ea9c",
   "metadata": {},
   "source": [
    "#### Clean text "
   ]
  },
  {
   "cell_type": "code",
   "execution_count": 26,
   "id": "d1ba0fad-626e-42ab-8567-1f4f81394e53",
   "metadata": {},
   "outputs": [],
   "source": [
    "import re \n",
    "\n",
    "STOPWORDS = stopwords.words(\"english\")\n",
    "\n",
    "def clean_text(text, stopwords=STOPWORDS):\n",
    "    \"\"\"Clean raw text string.\"\"\"\n",
    "    # Lower \n",
    "    text = text.lower()\n",
    "\n",
    "    # Remove stopwords\n",
    "    pattern = re.compile(r'\\b(' + r\"|\".join(stopwords) + r\")\\b\\s*\")\n",
    "    text = pattern.sub('', text) \n",
    "\n",
    "    # Spacing and filters \n",
    "    text = re.sub(r\"([!\\\"'#$%&()*\\+,-./:;<=>?@\\\\\\[\\]^_`{|}~])\", r\" \\1 \", text)  # add spacing\n",
    "    text = re.sub(\"[^A-Za-z0-9]+\", \" \", text)  # remove non alphanumeric chars\n",
    "    text = re.sub(\" +\", \" \", text)  # remove multiple spaces\n",
    "    text = text.strip()  # strip white space at the ends\n",
    "    text = re.sub(r\"http\\S+\", \"\", text)  #  remove links\n",
    "\n",
    "    return text "
   ]
  },
  {
   "cell_type": "code",
   "execution_count": 27,
   "id": "51255546-8cb5-4830-8c44-622cd7365c4b",
   "metadata": {},
   "outputs": [
    {
     "name": "stdout",
     "output_type": "stream",
     "text": [
      "Comparison between YOLO and RCNN on real world videos Bringing theory to experiment is cool. We can easily train models in colab and find the results in minutes.\n",
      "comparison yolo rcnn real world videos bringing theory experiment cool easily train models colab find results minutes\n"
     ]
    }
   ],
   "source": [
    "original_df = df.copy() \n",
    "df.text = df.text.apply(clean_text) \n",
    "print(f\"{original_df.text.values[0]}\\n{df.text.values[0]}\")"
   ]
  },
  {
   "cell_type": "code",
   "execution_count": 28,
   "id": "b4331c29-229a-48dc-80c2-c2e0d755fefa",
   "metadata": {},
   "outputs": [
    {
     "data": {
      "text/html": [
       "<div>\n",
       "<style scoped>\n",
       "    .dataframe tbody tr th:only-of-type {\n",
       "        vertical-align: middle;\n",
       "    }\n",
       "\n",
       "    .dataframe tbody tr th {\n",
       "        vertical-align: top;\n",
       "    }\n",
       "\n",
       "    .dataframe thead th {\n",
       "        text-align: right;\n",
       "    }\n",
       "</style>\n",
       "<table border=\"1\" class=\"dataframe\">\n",
       "  <thead>\n",
       "    <tr style=\"text-align: right;\">\n",
       "      <th></th>\n",
       "      <th>text</th>\n",
       "      <th>tag</th>\n",
       "    </tr>\n",
       "  </thead>\n",
       "  <tbody>\n",
       "    <tr>\n",
       "      <th>0</th>\n",
       "      <td>comparison yolo rcnn real world videos bringin...</td>\n",
       "      <td>computer-vision</td>\n",
       "    </tr>\n",
       "    <tr>\n",
       "      <th>1</th>\n",
       "      <td>show infer tell contextual inference creative ...</td>\n",
       "      <td>computer-vision</td>\n",
       "    </tr>\n",
       "    <tr>\n",
       "      <th>2</th>\n",
       "      <td>awesome graph classification collection import...</td>\n",
       "      <td>other</td>\n",
       "    </tr>\n",
       "    <tr>\n",
       "      <th>3</th>\n",
       "      <td>awesome monte carlo tree search curated list m...</td>\n",
       "      <td>other</td>\n",
       "    </tr>\n",
       "    <tr>\n",
       "      <th>4</th>\n",
       "      <td>attentionwalk pytorch implementation watch ste...</td>\n",
       "      <td>other</td>\n",
       "    </tr>\n",
       "  </tbody>\n",
       "</table>\n",
       "</div>"
      ],
      "text/plain": [
       "                                                text              tag\n",
       "0  comparison yolo rcnn real world videos bringin...  computer-vision\n",
       "1  show infer tell contextual inference creative ...  computer-vision\n",
       "2  awesome graph classification collection import...            other\n",
       "3  awesome monte carlo tree search curated list m...            other\n",
       "4  attentionwalk pytorch implementation watch ste...            other"
      ]
     },
     "execution_count": 28,
     "metadata": {},
     "output_type": "execute_result"
    }
   ],
   "source": [
    "df = df.drop(columns=['id', 'created_on', 'title', 'description'], errors='ignore') #drop cols \n",
    "df = df.dropna(subset=['tag']) # drop nulls \n",
    "df = df[['text', 'tag']] \n",
    "df.head()"
   ]
  },
  {
   "cell_type": "code",
   "execution_count": null,
   "id": "38cbb55a-0ccf-4300-bd87-2bd16182e4b4",
   "metadata": {},
   "outputs": [],
   "source": []
  },
  {
   "cell_type": "markdown",
   "id": "1aa0467f-ec85-4c73-84fd-5c07d1fb34f1",
   "metadata": {},
   "source": [
    "### Setting up ray"
   ]
  },
  {
   "cell_type": "code",
   "execution_count": 32,
   "id": "0b9181ad-6b58-4905-a151-cfca04b21a75",
   "metadata": {},
   "outputs": [],
   "source": [
    "import ray "
   ]
  },
  {
   "cell_type": "code",
   "execution_count": 33,
   "id": "1783d49d-e759-4ccd-9c14-29278e84b5de",
   "metadata": {
    "scrolled": true
   },
   "outputs": [
    {
     "name": "stderr",
     "output_type": "stream",
     "text": [
      "2024-06-19 06:16:14,762\tINFO worker.py:1744 -- Started a local Ray instance. View the dashboard at \u001b[1m\u001b[32m127.0.0.1:8265 \u001b[39m\u001b[22m\n"
     ]
    },
    {
     "data": {
      "application/vnd.jupyter.widget-view+json": {
       "model_id": "d1c83884eb524c509e1715a94673aa82",
       "version_major": 2,
       "version_minor": 0
      },
      "text/html": [
       "<div class=\"lm-Widget p-Widget lm-Panel p-Panel jp-Cell-outputWrapper\">\n",
       "    <div style=\"margin-left: 50px;display: flex;flex-direction: row;align-items: center\">\n",
       "        <div class=\"jp-RenderedHTMLCommon\" style=\"display: flex; flex-direction: row;\">\n",
       "  <svg viewBox=\"0 0 567 224\" fill=\"none\" xmlns=\"http://www.w3.org/2000/svg\" style=\"height: 3em;\">\n",
       "    <g clip-path=\"url(#clip0_4338_178347)\">\n",
       "        <path d=\"M341.29 165.561H355.29L330.13 129.051C345.63 123.991 354.21 112.051 354.21 94.2307C354.21 71.3707 338.72 58.1807 311.88 58.1807H271V165.561H283.27V131.661H311.8C314.25 131.661 316.71 131.501 319.01 131.351L341.25 165.561H341.29ZM283.29 119.851V70.0007H311.82C331.3 70.0007 342.34 78.2907 342.34 94.5507C342.34 111.271 331.34 119.861 311.82 119.861L283.29 119.851ZM451.4 138.411L463.4 165.561H476.74L428.74 58.1807H416L367.83 165.561H380.83L392.83 138.411H451.4ZM446.19 126.601H398L422 72.1407L446.24 126.601H446.19ZM526.11 128.741L566.91 58.1807H554.35L519.99 114.181L485.17 58.1807H472.44L514.01 129.181V165.541H526.13V128.741H526.11Z\" fill=\"var(--jp-ui-font-color0)\"/>\n",
       "        <path d=\"M82.35 104.44C84.0187 97.8827 87.8248 92.0678 93.1671 87.9146C98.5094 83.7614 105.083 81.5067 111.85 81.5067C118.617 81.5067 125.191 83.7614 130.533 87.9146C135.875 92.0678 139.681 97.8827 141.35 104.44H163.75C164.476 101.562 165.622 98.8057 167.15 96.2605L127.45 56.5605C121.071 60.3522 113.526 61.6823 106.235 60.3005C98.9443 58.9187 92.4094 54.9203 87.8602 49.0574C83.3109 43.1946 81.0609 35.8714 81.5332 28.4656C82.0056 21.0599 85.1679 14.0819 90.4252 8.8446C95.6824 3.60726 102.672 0.471508 110.08 0.0272655C117.487 -0.416977 124.802 1.86091 130.647 6.4324C136.493 11.0039 140.467 17.5539 141.821 24.8501C143.175 32.1463 141.816 39.6859 138 46.0505L177.69 85.7505C182.31 82.9877 187.58 81.4995 192.962 81.4375C198.345 81.3755 203.648 82.742 208.33 85.3976C213.012 88.0532 216.907 91.9029 219.616 96.5544C222.326 101.206 223.753 106.492 223.753 111.875C223.753 117.258 222.326 122.545 219.616 127.197C216.907 131.848 213.012 135.698 208.33 138.353C203.648 141.009 198.345 142.375 192.962 142.313C187.58 142.251 182.31 140.763 177.69 138L138 177.7C141.808 184.071 143.155 191.614 141.79 198.91C140.424 206.205 136.44 212.75 130.585 217.313C124.731 221.875 117.412 224.141 110.004 223.683C102.596 223.226 95.6103 220.077 90.3621 214.828C85.1139 209.58 81.9647 202.595 81.5072 195.187C81.0497 187.779 83.3154 180.459 87.878 174.605C92.4405 168.751 98.9853 164.766 106.281 163.401C113.576 162.035 121.119 163.383 127.49 167.19L167.19 127.49C165.664 124.941 164.518 122.182 163.79 119.3H141.39C139.721 125.858 135.915 131.673 130.573 135.826C125.231 139.98 118.657 142.234 111.89 142.234C105.123 142.234 98.5494 139.98 93.2071 135.826C87.8648 131.673 84.0587 125.858 82.39 119.3H60C58.1878 126.495 53.8086 132.78 47.6863 136.971C41.5641 141.163 34.1211 142.972 26.7579 142.059C19.3947 141.146 12.6191 137.574 7.70605 132.014C2.79302 126.454 0.0813599 119.29 0.0813599 111.87C0.0813599 104.451 2.79302 97.2871 7.70605 91.7272C12.6191 86.1673 19.3947 82.5947 26.7579 81.6817C34.1211 80.7686 41.5641 82.5781 47.6863 86.7696C53.8086 90.9611 58.1878 97.2456 60 104.44H82.35ZM100.86 204.32C103.407 206.868 106.759 208.453 110.345 208.806C113.93 209.159 117.527 208.258 120.522 206.256C123.517 204.254 125.725 201.276 126.771 197.828C127.816 194.38 127.633 190.677 126.253 187.349C124.874 184.021 122.383 181.274 119.205 179.577C116.027 177.88 112.359 177.337 108.826 178.042C105.293 178.746 102.113 180.654 99.8291 183.44C97.5451 186.226 96.2979 189.718 96.3 193.32C96.2985 195.364 96.7006 197.388 97.4831 199.275C98.2656 201.163 99.4132 202.877 100.86 204.32ZM204.32 122.88C206.868 120.333 208.453 116.981 208.806 113.396C209.159 109.811 208.258 106.214 206.256 103.219C204.254 100.223 201.275 98.0151 197.827 96.97C194.38 95.9249 190.676 96.1077 187.348 97.4873C184.02 98.8669 181.274 101.358 179.577 104.536C177.879 107.714 177.337 111.382 178.041 114.915C178.746 118.448 180.653 121.627 183.439 123.911C186.226 126.195 189.717 127.443 193.32 127.44C195.364 127.443 197.388 127.042 199.275 126.259C201.163 125.476 202.878 124.328 204.32 122.88ZM122.88 19.4205C120.333 16.8729 116.981 15.2876 113.395 14.9347C109.81 14.5817 106.213 15.483 103.218 17.4849C100.223 19.4868 98.0146 22.4654 96.9696 25.9131C95.9245 29.3608 96.1073 33.0642 97.4869 36.3922C98.8665 39.7202 101.358 42.4668 104.535 44.1639C107.713 45.861 111.381 46.4036 114.914 45.6992C118.447 44.9949 121.627 43.0871 123.911 40.301C126.195 37.515 127.442 34.0231 127.44 30.4205C127.44 28.3772 127.038 26.3539 126.255 24.4664C125.473 22.5788 124.326 20.8642 122.88 19.4205ZM19.42 100.86C16.8725 103.408 15.2872 106.76 14.9342 110.345C14.5813 113.93 15.4826 117.527 17.4844 120.522C19.4863 123.518 22.4649 125.726 25.9127 126.771C29.3604 127.816 33.0638 127.633 36.3918 126.254C39.7198 124.874 42.4664 122.383 44.1635 119.205C45.8606 116.027 46.4032 112.359 45.6988 108.826C44.9944 105.293 43.0866 102.114 40.3006 99.8296C37.5145 97.5455 34.0227 96.2983 30.42 96.3005C26.2938 96.3018 22.337 97.9421 19.42 100.86ZM100.86 100.86C98.3125 103.408 96.7272 106.76 96.3742 110.345C96.0213 113.93 96.9226 117.527 98.9244 120.522C100.926 123.518 103.905 125.726 107.353 126.771C110.8 127.816 114.504 127.633 117.832 126.254C121.16 124.874 123.906 122.383 125.604 119.205C127.301 116.027 127.843 112.359 127.139 108.826C126.434 105.293 124.527 102.114 121.741 99.8296C118.955 97.5455 115.463 96.2983 111.86 96.3005C109.817 96.299 107.793 96.701 105.905 97.4835C104.018 98.2661 102.303 99.4136 100.86 100.86Z\" fill=\"#00AEEF\"/>\n",
       "    </g>\n",
       "    <defs>\n",
       "        <clipPath id=\"clip0_4338_178347\">\n",
       "            <rect width=\"566.93\" height=\"223.75\" fill=\"white\"/>\n",
       "        </clipPath>\n",
       "    </defs>\n",
       "  </svg>\n",
       "</div>\n",
       "\n",
       "        <table class=\"jp-RenderedHTMLCommon\" style=\"border-collapse: collapse;color: var(--jp-ui-font-color1);font-size: var(--jp-ui-font-size1);\">\n",
       "    <tr>\n",
       "        <td style=\"text-align: left\"><b>Python version:</b></td>\n",
       "        <td style=\"text-align: left\"><b>3.10.14</b></td>\n",
       "    </tr>\n",
       "    <tr>\n",
       "        <td style=\"text-align: left\"><b>Ray version:</b></td>\n",
       "        <td style=\"text-align: left\"><b>2.24.0</b></td>\n",
       "    </tr>\n",
       "    <tr>\n",
       "    <td style=\"text-align: left\"><b>Dashboard:</b></td>\n",
       "    <td style=\"text-align: left\"><b><a href=\"http://127.0.0.1:8265\" target=\"_blank\">http://127.0.0.1:8265</a></b></td>\n",
       "</tr>\n",
       "\n",
       "</table>\n",
       "\n",
       "    </div>\n",
       "</div>\n"
      ],
      "text/plain": [
       "RayContext(dashboard_url='127.0.0.1:8265', python_version='3.10.14', ray_version='2.24.0', ray_commit='cfea8b29800afc76823bd1a171657010f4eb96bb')"
      ]
     },
     "execution_count": 33,
     "metadata": {},
     "output_type": "execute_result"
    },
    {
     "name": "stderr",
     "output_type": "stream",
     "text": [
      "\u001b[36m(ProxyActor pid=3286421)\u001b[0m INFO 2024-06-19 06:16:17,880 proxy 192.168.50.196 proxy.py:1165 - Proxy starting on node d51a5cf6d9f3474daef0be87b2fe9ace8195b616b742a19f472e5bee (HTTP port: 8000).\n",
      "\u001b[36m(ServeController pid=3286323)\u001b[0m INFO 2024-06-19 06:16:18,043 controller 3286323 deployment_state.py:1598 - Deploying new version of Deployment(name='Translator', app='default') (initial target replicas: 2).\n",
      "\u001b[36m(ServeController pid=3286323)\u001b[0m INFO 2024-06-19 06:16:18,151 controller 3286323 deployment_state.py:1844 - Adding 2 replicas to Deployment(name='Translator', app='default').\n",
      "\u001b[33m(raylet)\u001b[0m [2024-06-19 06:16:23,731 E 3274145 3274183] (raylet) file_system_monitor.cc:111: /tmp/ray/session_2024-06-19_06-16-12_106407_3141861 is over 95% full, available space: 19610648576; capacity: 941289119744. Object creation will fail if spilling is required.\n",
      "\u001b[33m(raylet)\u001b[0m [2024-06-19 06:16:33,748 E 3274145 3274183] (raylet) file_system_monitor.cc:111: /tmp/ray/session_2024-06-19_06-16-12_106407_3141861 is over 95% full, available space: 19495272448; capacity: 941289119744. Object creation will fail if spilling is required.\n",
      "\u001b[33m(raylet)\u001b[0m [2024-06-19 06:16:43,764 E 3274145 3274183] (raylet) file_system_monitor.cc:111: /tmp/ray/session_2024-06-19_06-16-12_106407_3141861 is over 95% full, available space: 19379044352; capacity: 941289119744. Object creation will fail if spilling is required.\n",
      "\u001b[33m(raylet)\u001b[0m [2024-06-19 06:16:53,782 E 3274145 3274183] (raylet) file_system_monitor.cc:111: /tmp/ray/session_2024-06-19_06-16-12_106407_3141861 is over 95% full, available space: 19376840704; capacity: 941289119744. Object creation will fail if spilling is required.\n",
      "\u001b[33m(raylet)\u001b[0m [2024-06-19 06:17:03,800 E 3274145 3274183] (raylet) file_system_monitor.cc:111: /tmp/ray/session_2024-06-19_06-16-12_106407_3141861 is over 95% full, available space: 19376836608; capacity: 941289119744. Object creation will fail if spilling is required.\n",
      "\u001b[33m(raylet)\u001b[0m [2024-06-19 06:17:13,820 E 3274145 3274183] (raylet) file_system_monitor.cc:111: /tmp/ray/session_2024-06-19_06-16-12_106407_3141861 is over 95% full, available space: 19376820224; capacity: 941289119744. Object creation will fail if spilling is required.\n",
      "\u001b[33m(raylet)\u001b[0m [2024-06-19 06:17:23,839 E 3274145 3274183] (raylet) file_system_monitor.cc:111: /tmp/ray/session_2024-06-19_06-16-12_106407_3141861 is over 95% full, available space: 19375509504; capacity: 941289119744. Object creation will fail if spilling is required.\n",
      "\u001b[33m(raylet)\u001b[0m [2024-06-19 06:17:33,856 E 3274145 3274183] (raylet) file_system_monitor.cc:111: /tmp/ray/session_2024-06-19_06-16-12_106407_3141861 is over 95% full, available space: 19375505408; capacity: 941289119744. Object creation will fail if spilling is required.\n",
      "\u001b[33m(raylet)\u001b[0m [2024-06-19 06:17:43,876 E 3274145 3274183] (raylet) file_system_monitor.cc:111: /tmp/ray/session_2024-06-19_06-16-12_106407_3141861 is over 95% full, available space: 19375505408; capacity: 941289119744. Object creation will fail if spilling is required.\n",
      "\u001b[33m(raylet)\u001b[0m [2024-06-19 06:17:53,895 E 3274145 3274183] (raylet) file_system_monitor.cc:111: /tmp/ray/session_2024-06-19_06-16-12_106407_3141861 is over 95% full, available space: 19375489024; capacity: 941289119744. Object creation will fail if spilling is required.\n",
      "\u001b[33m(raylet)\u001b[0m [2024-06-19 06:18:03,915 E 3274145 3274183] (raylet) file_system_monitor.cc:111: /tmp/ray/session_2024-06-19_06-16-12_106407_3141861 is over 95% full, available space: 19375484928; capacity: 941289119744. Object creation will fail if spilling is required.\n",
      "\u001b[33m(raylet)\u001b[0m [2024-06-19 06:18:13,936 E 3274145 3274183] (raylet) file_system_monitor.cc:111: /tmp/ray/session_2024-06-19_06-16-12_106407_3141861 is over 95% full, available space: 19375443968; capacity: 941289119744. Object creation will fail if spilling is required.\n",
      "\u001b[33m(raylet)\u001b[0m [2024-06-19 06:18:23,954 E 3274145 3274183] (raylet) file_system_monitor.cc:111: /tmp/ray/session_2024-06-19_06-16-12_106407_3141861 is over 95% full, available space: 19374063616; capacity: 941289119744. Object creation will fail if spilling is required.\n",
      "\u001b[33m(raylet)\u001b[0m [2024-06-19 06:18:33,974 E 3274145 3274183] (raylet) file_system_monitor.cc:111: /tmp/ray/session_2024-06-19_06-16-12_106407_3141861 is over 95% full, available space: 19374051328; capacity: 941289119744. Object creation will fail if spilling is required.\n",
      "\u001b[33m(raylet)\u001b[0m [2024-06-19 06:18:43,992 E 3274145 3274183] (raylet) file_system_monitor.cc:111: /tmp/ray/session_2024-06-19_06-16-12_106407_3141861 is over 95% full, available space: 19374043136; capacity: 941289119744. Object creation will fail if spilling is required.\n",
      "\u001b[36m(ServeReplica:default:Translator pid=3286554)\u001b[0m INFO 2024-06-19 06:18:50,508 default_Translator yhb5m1k4 8e4cb3e1-3b9a-4917-a067-e57b89e67255 / replica.py:373 - __CALL__ OK 628.7ms\n",
      "\u001b[33m(raylet)\u001b[0m [2024-06-19 06:18:54,016 E 3274145 3274183] (raylet) file_system_monitor.cc:111: /tmp/ray/session_2024-06-19_06-16-12_106407_3141861 is over 95% full, available space: 19374043136; capacity: 941289119744. Object creation will fail if spilling is required.\n",
      "\u001b[33m(raylet)\u001b[0m [2024-06-19 06:19:04,036 E 3274145 3274183] (raylet) file_system_monitor.cc:111: /tmp/ray/session_2024-06-19_06-16-12_106407_3141861 is over 95% full, available space: 19374039040; capacity: 941289119744. Object creation will fail if spilling is required.\n",
      "\u001b[33m(raylet)\u001b[0m [2024-06-19 06:19:14,054 E 3274145 3274183] (raylet) file_system_monitor.cc:111: /tmp/ray/session_2024-06-19_06-16-12_106407_3141861 is over 95% full, available space: 19374018560; capacity: 941289119744. Object creation will fail if spilling is required.\n",
      "\u001b[33m(raylet)\u001b[0m [2024-06-19 06:19:24,073 E 3274145 3274183] (raylet) file_system_monitor.cc:111: /tmp/ray/session_2024-06-19_06-16-12_106407_3141861 is over 95% full, available space: 19372527616; capacity: 941289119744. Object creation will fail if spilling is required.\n",
      "\u001b[33m(raylet)\u001b[0m [2024-06-19 06:19:34,091 E 3274145 3274183] (raylet) file_system_monitor.cc:111: /tmp/ray/session_2024-06-19_06-16-12_106407_3141861 is over 95% full, available space: 19372507136; capacity: 941289119744. Object creation will fail if spilling is required.\n",
      "\u001b[33m(raylet)\u001b[0m [2024-06-19 06:19:44,111 E 3274145 3274183] (raylet) file_system_monitor.cc:111: /tmp/ray/session_2024-06-19_06-16-12_106407_3141861 is over 95% full, available space: 19372507136; capacity: 941289119744. Object creation will fail if spilling is required.\n",
      "\u001b[33m(raylet)\u001b[0m [2024-06-19 06:19:54,129 E 3274145 3274183] (raylet) file_system_monitor.cc:111: /tmp/ray/session_2024-06-19_06-16-12_106407_3141861 is over 95% full, available space: 19372507136; capacity: 941289119744. Object creation will fail if spilling is required.\n",
      "\u001b[33m(raylet)\u001b[0m [2024-06-19 06:20:04,148 E 3274145 3274183] (raylet) file_system_monitor.cc:111: /tmp/ray/session_2024-06-19_06-16-12_106407_3141861 is over 95% full, available space: 19372503040; capacity: 941289119744. Object creation will fail if spilling is required.\n",
      "\u001b[33m(raylet)\u001b[0m [2024-06-19 06:20:14,169 E 3274145 3274183] (raylet) file_system_monitor.cc:111: /tmp/ray/session_2024-06-19_06-16-12_106407_3141861 is over 95% full, available space: 19372482560; capacity: 941289119744. Object creation will fail if spilling is required.\n",
      "\u001b[33m(raylet)\u001b[0m [2024-06-19 06:20:24,188 E 3274145 3274183] (raylet) file_system_monitor.cc:111: /tmp/ray/session_2024-06-19_06-16-12_106407_3141861 is over 95% full, available space: 19370573824; capacity: 941289119744. Object creation will fail if spilling is required.\n",
      "\u001b[33m(raylet)\u001b[0m [2024-06-19 06:20:34,208 E 3274145 3274183] (raylet) file_system_monitor.cc:111: /tmp/ray/session_2024-06-19_06-16-12_106407_3141861 is over 95% full, available space: 19370561536; capacity: 941289119744. Object creation will fail if spilling is required.\n",
      "\u001b[33m(raylet)\u001b[0m [2024-06-19 06:20:44,228 E 3274145 3274183] (raylet) file_system_monitor.cc:111: /tmp/ray/session_2024-06-19_06-16-12_106407_3141861 is over 95% full, available space: 19370557440; capacity: 941289119744. Object creation will fail if spilling is required.\n",
      "\u001b[33m(raylet)\u001b[0m [2024-06-19 06:20:54,247 E 3274145 3274183] (raylet) file_system_monitor.cc:111: /tmp/ray/session_2024-06-19_06-16-12_106407_3141861 is over 95% full, available space: 19370557440; capacity: 941289119744. Object creation will fail if spilling is required.\n",
      "\u001b[33m(raylet)\u001b[0m [2024-06-19 06:21:04,267 E 3274145 3274183] (raylet) file_system_monitor.cc:111: /tmp/ray/session_2024-06-19_06-16-12_106407_3141861 is over 95% full, available space: 19370549248; capacity: 941289119744. Object creation will fail if spilling is required.\n",
      "\u001b[33m(raylet)\u001b[0m [2024-06-19 06:21:14,286 E 3274145 3274183] (raylet) file_system_monitor.cc:111: /tmp/ray/session_2024-06-19_06-16-12_106407_3141861 is over 95% full, available space: 19370528768; capacity: 941289119744. Object creation will fail if spilling is required.\n",
      "\u001b[33m(raylet)\u001b[0m [2024-06-19 06:21:24,306 E 3274145 3274183] (raylet) file_system_monitor.cc:111: /tmp/ray/session_2024-06-19_06-16-12_106407_3141861 is over 95% full, available space: 19368665088; capacity: 941289119744. Object creation will fail if spilling is required.\n",
      "\u001b[33m(raylet)\u001b[0m [2024-06-19 06:21:34,328 E 3274145 3274183] (raylet) file_system_monitor.cc:111: /tmp/ray/session_2024-06-19_06-16-12_106407_3141861 is over 95% full, available space: 19368648704; capacity: 941289119744. Object creation will fail if spilling is required.\n",
      "\u001b[33m(raylet)\u001b[0m [2024-06-19 06:21:44,349 E 3274145 3274183] (raylet) file_system_monitor.cc:111: /tmp/ray/session_2024-06-19_06-16-12_106407_3141861 is over 95% full, available space: 19368611840; capacity: 941289119744. Object creation will fail if spilling is required.\n",
      "\u001b[36m(ServeReplica:default:Translator pid=3286554)\u001b[0m INFO 2024-06-19 06:21:51,055 default_Translator yhb5m1k4 4a0dd10a-fb72-4fdf-bdd0-c34d4274eef3 / replica.py:373 - __CALL__ OK 230.6ms\n",
      "\u001b[33m(raylet)\u001b[0m [2024-06-19 06:21:54,369 E 3274145 3274183] (raylet) file_system_monitor.cc:111: /tmp/ray/session_2024-06-19_06-16-12_106407_3141861 is over 95% full, available space: 19368603648; capacity: 941289119744. Object creation will fail if spilling is required.\n",
      "\u001b[36m(ServeReplica:default:Translator pid=3286553)\u001b[0m INFO 2024-06-19 06:21:56,157 default_Translator mti022od d1804eb6-717d-4798-ad9d-fc3ab22ce521 / replica.py:373 - __CALL__ OK 236.2ms\u001b[32m [repeated 18x across cluster]\u001b[0m\n",
      "\u001b[36m(ServeReplica:default:Translator pid=3286553)\u001b[0m INFO 2024-06-19 06:22:01,274 default_Translator mti022od 1e953b73-434d-4b1d-b896-388fa1dbda34 / replica.py:373 - __CALL__ OK 178.4ms\u001b[32m [repeated 24x across cluster]\u001b[0m\n",
      "\u001b[33m(raylet)\u001b[0m [2024-06-19 06:22:04,389 E 3274145 3274183] (raylet) file_system_monitor.cc:111: /tmp/ray/session_2024-06-19_06-16-12_106407_3141861 is over 95% full, available space: 19368558592; capacity: 941289119744. Object creation will fail if spilling is required.\n",
      "\u001b[36m(ServeReplica:default:Translator pid=3286554)\u001b[0m INFO 2024-06-19 06:22:06,448 default_Translator yhb5m1k4 bf94d4e1-8cd6-43b8-84cb-2283102a3182 / replica.py:373 - __CALL__ OK 155.7ms\u001b[32m [repeated 30x across cluster]\u001b[0m\n",
      "\u001b[36m(ServeReplica:default:Translator pid=3286553)\u001b[0m INFO 2024-06-19 06:22:10,974 default_Translator mti022od 2250ce59-a777-4e1c-9f1f-b61f42fe1168 / replica.py:373 - __CALL__ OK 148.8ms\n",
      "\u001b[33m(raylet)\u001b[0m [2024-06-19 06:22:14,407 E 3274145 3274183] (raylet) file_system_monitor.cc:111: /tmp/ray/session_2024-06-19_06-16-12_106407_3141861 is over 95% full, available space: 19368505344; capacity: 941289119744. Object creation will fail if spilling is required.\n",
      "\u001b[33m(raylet)\u001b[0m [2024-06-19 06:22:24,426 E 3274145 3274183] (raylet) file_system_monitor.cc:111: /tmp/ray/session_2024-06-19_06-16-12_106407_3141861 is over 95% full, available space: 19367493632; capacity: 941289119744. Object creation will fail if spilling is required.\n",
      "\u001b[33m(raylet)\u001b[0m [2024-06-19 06:22:34,444 E 3274145 3274183] (raylet) file_system_monitor.cc:111: /tmp/ray/session_2024-06-19_06-16-12_106407_3141861 is over 95% full, available space: 19367481344; capacity: 941289119744. Object creation will fail if spilling is required.\n",
      "\u001b[33m(raylet)\u001b[0m [2024-06-19 06:22:44,464 E 3274145 3274183] (raylet) file_system_monitor.cc:111: /tmp/ray/session_2024-06-19_06-16-12_106407_3141861 is over 95% full, available space: 19367481344; capacity: 941289119744. Object creation will fail if spilling is required.\n",
      "\u001b[33m(raylet)\u001b[0m [2024-06-19 06:22:54,483 E 3274145 3274183] (raylet) file_system_monitor.cc:111: /tmp/ray/session_2024-06-19_06-16-12_106407_3141861 is over 95% full, available space: 19367473152; capacity: 941289119744. Object creation will fail if spilling is required.\n",
      "\u001b[33m(raylet)\u001b[0m [2024-06-19 06:23:04,502 E 3274145 3274183] (raylet) file_system_monitor.cc:111: /tmp/ray/session_2024-06-19_06-16-12_106407_3141861 is over 95% full, available space: 19367469056; capacity: 941289119744. Object creation will fail if spilling is required.\n",
      "\u001b[33m(raylet)\u001b[0m [2024-06-19 06:23:14,522 E 3274145 3274183] (raylet) file_system_monitor.cc:111: /tmp/ray/session_2024-06-19_06-16-12_106407_3141861 is over 95% full, available space: 19367444480; capacity: 941289119744. Object creation will fail if spilling is required.\n",
      "\u001b[33m(raylet)\u001b[0m [2024-06-19 06:23:24,541 E 3274145 3274183] (raylet) file_system_monitor.cc:111: /tmp/ray/session_2024-06-19_06-16-12_106407_3141861 is over 95% full, available space: 19366047744; capacity: 941289119744. Object creation will fail if spilling is required.\n",
      "\u001b[33m(raylet)\u001b[0m [2024-06-19 06:23:34,561 E 3274145 3274183] (raylet) file_system_monitor.cc:111: /tmp/ray/session_2024-06-19_06-16-12_106407_3141861 is over 95% full, available space: 19366031360; capacity: 941289119744. Object creation will fail if spilling is required.\n",
      "\u001b[33m(raylet)\u001b[0m [2024-06-19 06:23:44,583 E 3274145 3274183] (raylet) file_system_monitor.cc:111: /tmp/ray/session_2024-06-19_06-16-12_106407_3141861 is over 95% full, available space: 19366010880; capacity: 941289119744. Object creation will fail if spilling is required.\n",
      "\u001b[33m(raylet)\u001b[0m [2024-06-19 06:23:54,602 E 3274145 3274183] (raylet) file_system_monitor.cc:111: /tmp/ray/session_2024-06-19_06-16-12_106407_3141861 is over 95% full, available space: 19366002688; capacity: 941289119744. Object creation will fail if spilling is required.\n",
      "\u001b[33m(raylet)\u001b[0m [2024-06-19 06:24:04,622 E 3274145 3274183] (raylet) file_system_monitor.cc:111: /tmp/ray/session_2024-06-19_06-16-12_106407_3141861 is over 95% full, available space: 19365998592; capacity: 941289119744. Object creation will fail if spilling is required.\n",
      "\u001b[33m(raylet)\u001b[0m [2024-06-19 06:24:14,644 E 3274145 3274183] (raylet) file_system_monitor.cc:111: /tmp/ray/session_2024-06-19_06-16-12_106407_3141861 is over 95% full, available space: 19365974016; capacity: 941289119744. Object creation will fail if spilling is required.\n",
      "\u001b[33m(raylet)\u001b[0m [2024-06-19 06:24:24,663 E 3274145 3274183] (raylet) file_system_monitor.cc:111: /tmp/ray/session_2024-06-19_06-16-12_106407_3141861 is over 95% full, available space: 19364495360; capacity: 941289119744. Object creation will fail if spilling is required.\n",
      "\u001b[33m(raylet)\u001b[0m [2024-06-19 06:24:34,683 E 3274145 3274183] (raylet) file_system_monitor.cc:111: /tmp/ray/session_2024-06-19_06-16-12_106407_3141861 is over 95% full, available space: 19364483072; capacity: 941289119744. Object creation will fail if spilling is required.\n",
      "\u001b[33m(raylet)\u001b[0m [2024-06-19 06:24:44,704 E 3274145 3274183] (raylet) file_system_monitor.cc:111: /tmp/ray/session_2024-06-19_06-16-12_106407_3141861 is over 95% full, available space: 19364483072; capacity: 941289119744. Object creation will fail if spilling is required.\n",
      "\u001b[33m(raylet)\u001b[0m [2024-06-19 06:24:54,725 E 3274145 3274183] (raylet) file_system_monitor.cc:111: /tmp/ray/session_2024-06-19_06-16-12_106407_3141861 is over 95% full, available space: 19364478976; capacity: 941289119744. Object creation will fail if spilling is required.\n",
      "\u001b[33m(raylet)\u001b[0m [2024-06-19 06:25:04,745 E 3274145 3274183] (raylet) file_system_monitor.cc:111: /tmp/ray/session_2024-06-19_06-16-12_106407_3141861 is over 95% full, available space: 19364466688; capacity: 941289119744. Object creation will fail if spilling is required.\n",
      "\u001b[33m(raylet)\u001b[0m [2024-06-19 06:25:14,763 E 3274145 3274183] (raylet) file_system_monitor.cc:111: /tmp/ray/session_2024-06-19_06-16-12_106407_3141861 is over 95% full, available space: 19364425728; capacity: 941289119744. Object creation will fail if spilling is required.\n",
      "\u001b[33m(raylet)\u001b[0m [2024-06-19 06:25:24,781 E 3274145 3274183] (raylet) file_system_monitor.cc:111: /tmp/ray/session_2024-06-19_06-16-12_106407_3141861 is over 95% full, available space: 19363463168; capacity: 941289119744. Object creation will fail if spilling is required.\n",
      "\u001b[33m(raylet)\u001b[0m [2024-06-19 06:25:34,799 E 3274145 3274183] (raylet) file_system_monitor.cc:111: /tmp/ray/session_2024-06-19_06-16-12_106407_3141861 is over 95% full, available space: 19363446784; capacity: 941289119744. Object creation will fail if spilling is required.\n",
      "\u001b[33m(raylet)\u001b[0m [2024-06-19 06:25:44,816 E 3274145 3274183] (raylet) file_system_monitor.cc:111: /tmp/ray/session_2024-06-19_06-16-12_106407_3141861 is over 95% full, available space: 19363442688; capacity: 941289119744. Object creation will fail if spilling is required.\n",
      "\u001b[33m(raylet)\u001b[0m [2024-06-19 06:25:54,834 E 3274145 3274183] (raylet) file_system_monitor.cc:111: /tmp/ray/session_2024-06-19_06-16-12_106407_3141861 is over 95% full, available space: 19363434496; capacity: 941289119744. Object creation will fail if spilling is required.\n",
      "\u001b[33m(raylet)\u001b[0m [2024-06-19 06:26:04,852 E 3274145 3274183] (raylet) file_system_monitor.cc:111: /tmp/ray/session_2024-06-19_06-16-12_106407_3141861 is over 95% full, available space: 19363430400; capacity: 941289119744. Object creation will fail if spilling is required.\n",
      "\u001b[33m(raylet)\u001b[0m [2024-06-19 06:26:14,871 E 3274145 3274183] (raylet) file_system_monitor.cc:111: /tmp/ray/session_2024-06-19_06-16-12_106407_3141861 is over 95% full, available space: 19363389440; capacity: 941289119744. Object creation will fail if spilling is required.\n",
      "\u001b[33m(raylet)\u001b[0m [2024-06-19 06:26:24,888 E 3274145 3274183] (raylet) file_system_monitor.cc:111: /tmp/ray/session_2024-06-19_06-16-12_106407_3141861 is over 95% full, available space: 19361517568; capacity: 941289119744. Object creation will fail if spilling is required.\n",
      "\u001b[33m(raylet)\u001b[0m [2024-06-19 06:26:34,907 E 3274145 3274183] (raylet) file_system_monitor.cc:111: /tmp/ray/session_2024-06-19_06-16-12_106407_3141861 is over 95% full, available space: 19361505280; capacity: 941289119744. Object creation will fail if spilling is required.\n",
      "\u001b[33m(raylet)\u001b[0m [2024-06-19 06:26:44,928 E 3274145 3274183] (raylet) file_system_monitor.cc:111: /tmp/ray/session_2024-06-19_06-16-12_106407_3141861 is over 95% full, available space: 19361505280; capacity: 941289119744. Object creation will fail if spilling is required.\n",
      "\u001b[33m(raylet)\u001b[0m [2024-06-19 06:26:54,949 E 3274145 3274183] (raylet) file_system_monitor.cc:111: /tmp/ray/session_2024-06-19_06-16-12_106407_3141861 is over 95% full, available space: 19361501184; capacity: 941289119744. Object creation will fail if spilling is required.\n",
      "\u001b[33m(raylet)\u001b[0m [2024-06-19 06:27:04,968 E 3274145 3274183] (raylet) file_system_monitor.cc:111: /tmp/ray/session_2024-06-19_06-16-12_106407_3141861 is over 95% full, available space: 19361484800; capacity: 941289119744. Object creation will fail if spilling is required.\n",
      "\u001b[33m(raylet)\u001b[0m [2024-06-19 06:27:14,988 E 3274145 3274183] (raylet) file_system_monitor.cc:111: /tmp/ray/session_2024-06-19_06-16-12_106407_3141861 is over 95% full, available space: 19361435648; capacity: 941289119744. Object creation will fail if spilling is required.\n",
      "\u001b[33m(raylet)\u001b[0m [2024-06-19 06:27:25,006 E 3274145 3274183] (raylet) file_system_monitor.cc:111: /tmp/ray/session_2024-06-19_06-16-12_106407_3141861 is over 95% full, available space: 19360473088; capacity: 941289119744. Object creation will fail if spilling is required.\n",
      "\u001b[33m(raylet)\u001b[0m [2024-06-19 06:27:35,027 E 3274145 3274183] (raylet) file_system_monitor.cc:111: /tmp/ray/session_2024-06-19_06-16-12_106407_3141861 is over 95% full, available space: 19360464896; capacity: 941289119744. Object creation will fail if spilling is required.\n",
      "\u001b[33m(raylet)\u001b[0m [2024-06-19 06:27:45,046 E 3274145 3274183] (raylet) file_system_monitor.cc:111: /tmp/ray/session_2024-06-19_06-16-12_106407_3141861 is over 95% full, available space: 19360456704; capacity: 941289119744. Object creation will fail if spilling is required.\n",
      "\u001b[33m(raylet)\u001b[0m [2024-06-19 06:27:55,066 E 3274145 3274183] (raylet) file_system_monitor.cc:111: /tmp/ray/session_2024-06-19_06-16-12_106407_3141861 is over 95% full, available space: 19360456704; capacity: 941289119744. Object creation will fail if spilling is required.\n",
      "\u001b[33m(raylet)\u001b[0m [2024-06-19 06:28:05,088 E 3274145 3274183] (raylet) file_system_monitor.cc:111: /tmp/ray/session_2024-06-19_06-16-12_106407_3141861 is over 95% full, available space: 19360456704; capacity: 941289119744. Object creation will fail if spilling is required.\n",
      "\u001b[33m(raylet)\u001b[0m [2024-06-19 06:28:15,109 E 3274145 3274183] (raylet) file_system_monitor.cc:111: /tmp/ray/session_2024-06-19_06-16-12_106407_3141861 is over 95% full, available space: 19360411648; capacity: 941289119744. Object creation will fail if spilling is required.\n",
      "\u001b[33m(raylet)\u001b[0m [2024-06-19 06:28:25,129 E 3274145 3274183] (raylet) file_system_monitor.cc:111: /tmp/ray/session_2024-06-19_06-16-12_106407_3141861 is over 95% full, available space: 19358556160; capacity: 941289119744. Object creation will fail if spilling is required.\n",
      "\u001b[33m(raylet)\u001b[0m [2024-06-19 06:28:35,150 E 3274145 3274183] (raylet) file_system_monitor.cc:111: /tmp/ray/session_2024-06-19_06-16-12_106407_3141861 is over 95% full, available space: 19358539776; capacity: 941289119744. Object creation will fail if spilling is required.\n",
      "\u001b[33m(raylet)\u001b[0m [2024-06-19 06:28:45,171 E 3274145 3274183] (raylet) file_system_monitor.cc:111: /tmp/ray/session_2024-06-19_06-16-12_106407_3141861 is over 95% full, available space: 19358539776; capacity: 941289119744. Object creation will fail if spilling is required.\n",
      "\u001b[33m(raylet)\u001b[0m [2024-06-19 06:28:55,191 E 3274145 3274183] (raylet) file_system_monitor.cc:111: /tmp/ray/session_2024-06-19_06-16-12_106407_3141861 is over 95% full, available space: 19358539776; capacity: 941289119744. Object creation will fail if spilling is required.\n",
      "\u001b[33m(raylet)\u001b[0m [2024-06-19 06:29:05,212 E 3274145 3274183] (raylet) file_system_monitor.cc:111: /tmp/ray/session_2024-06-19_06-16-12_106407_3141861 is over 95% full, available space: 19358535680; capacity: 941289119744. Object creation will fail if spilling is required.\n",
      "\u001b[33m(raylet)\u001b[0m [2024-06-19 06:29:15,234 E 3274145 3274183] (raylet) file_system_monitor.cc:111: /tmp/ray/session_2024-06-19_06-16-12_106407_3141861 is over 95% full, available space: 19358490624; capacity: 941289119744. Object creation will fail if spilling is required.\n",
      "\u001b[33m(raylet)\u001b[0m [2024-06-19 06:29:25,254 E 3274145 3274183] (raylet) file_system_monitor.cc:111: /tmp/ray/session_2024-06-19_06-16-12_106407_3141861 is over 95% full, available space: 19357515776; capacity: 941289119744. Object creation will fail if spilling is required.\n",
      "\u001b[33m(raylet)\u001b[0m [2024-06-19 06:29:35,275 E 3274145 3274183] (raylet) file_system_monitor.cc:111: /tmp/ray/session_2024-06-19_06-16-12_106407_3141861 is over 95% full, available space: 19357503488; capacity: 941289119744. Object creation will fail if spilling is required.\n",
      "\u001b[33m(raylet)\u001b[0m [2024-06-19 06:29:45,296 E 3274145 3274183] (raylet) file_system_monitor.cc:111: /tmp/ray/session_2024-06-19_06-16-12_106407_3141861 is over 95% full, available space: 19357499392; capacity: 941289119744. Object creation will fail if spilling is required.\n",
      "\u001b[33m(raylet)\u001b[0m [2024-06-19 06:29:55,316 E 3274145 3274183] (raylet) file_system_monitor.cc:111: /tmp/ray/session_2024-06-19_06-16-12_106407_3141861 is over 95% full, available space: 19357495296; capacity: 941289119744. Object creation will fail if spilling is required.\n",
      "\u001b[33m(raylet)\u001b[0m [2024-06-19 06:30:05,336 E 3274145 3274183] (raylet) file_system_monitor.cc:111: /tmp/ray/session_2024-06-19_06-16-12_106407_3141861 is over 95% full, available space: 19357491200; capacity: 941289119744. Object creation will fail if spilling is required.\n",
      "\u001b[33m(raylet)\u001b[0m [2024-06-19 06:30:15,356 E 3274145 3274183] (raylet) file_system_monitor.cc:111: /tmp/ray/session_2024-06-19_06-16-12_106407_3141861 is over 95% full, available space: 19357450240; capacity: 941289119744. Object creation will fail if spilling is required.\n",
      "\u001b[33m(raylet)\u001b[0m [2024-06-19 06:30:25,374 E 3274145 3274183] (raylet) file_system_monitor.cc:111: /tmp/ray/session_2024-06-19_06-16-12_106407_3141861 is over 95% full, available space: 19355770880; capacity: 941289119744. Object creation will fail if spilling is required.\n",
      "\u001b[33m(raylet)\u001b[0m [2024-06-19 06:30:35,393 E 3274145 3274183] (raylet) file_system_monitor.cc:111: /tmp/ray/session_2024-06-19_06-16-12_106407_3141861 is over 95% full, available space: 19355762688; capacity: 941289119744. Object creation will fail if spilling is required.\n",
      "\u001b[33m(raylet)\u001b[0m [2024-06-19 06:30:45,414 E 3274145 3274183] (raylet) file_system_monitor.cc:111: /tmp/ray/session_2024-06-19_06-16-12_106407_3141861 is over 95% full, available space: 19355762688; capacity: 941289119744. Object creation will fail if spilling is required.\n",
      "\u001b[33m(raylet)\u001b[0m [2024-06-19 06:30:55,434 E 3274145 3274183] (raylet) file_system_monitor.cc:111: /tmp/ray/session_2024-06-19_06-16-12_106407_3141861 is over 95% full, available space: 19355758592; capacity: 941289119744. Object creation will fail if spilling is required.\n",
      "\u001b[33m(raylet)\u001b[0m [2024-06-19 06:31:05,455 E 3274145 3274183] (raylet) file_system_monitor.cc:111: /tmp/ray/session_2024-06-19_06-16-12_106407_3141861 is over 95% full, available space: 19355758592; capacity: 941289119744. Object creation will fail if spilling is required.\n",
      "\u001b[33m(raylet)\u001b[0m [2024-06-19 06:31:15,474 E 3274145 3274183] (raylet) file_system_monitor.cc:111: /tmp/ray/session_2024-06-19_06-16-12_106407_3141861 is over 95% full, available space: 19355713536; capacity: 941289119744. Object creation will fail if spilling is required.\n",
      "\u001b[33m(raylet)\u001b[0m [2024-06-19 06:31:25,494 E 3274145 3274183] (raylet) file_system_monitor.cc:111: /tmp/ray/session_2024-06-19_06-16-12_106407_3141861 is over 95% full, available space: 19354554368; capacity: 941289119744. Object creation will fail if spilling is required.\n",
      "\u001b[33m(raylet)\u001b[0m [2024-06-19 06:31:35,515 E 3274145 3274183] (raylet) file_system_monitor.cc:111: /tmp/ray/session_2024-06-19_06-16-12_106407_3141861 is over 95% full, available space: 19354546176; capacity: 941289119744. Object creation will fail if spilling is required.\n",
      "\u001b[33m(raylet)\u001b[0m [2024-06-19 06:31:45,534 E 3274145 3274183] (raylet) file_system_monitor.cc:111: /tmp/ray/session_2024-06-19_06-16-12_106407_3141861 is over 95% full, available space: 19354533888; capacity: 941289119744. Object creation will fail if spilling is required.\n",
      "\u001b[33m(raylet)\u001b[0m [2024-06-19 06:31:55,554 E 3274145 3274183] (raylet) file_system_monitor.cc:111: /tmp/ray/session_2024-06-19_06-16-12_106407_3141861 is over 95% full, available space: 19354533888; capacity: 941289119744. Object creation will fail if spilling is required.\n",
      "\u001b[33m(raylet)\u001b[0m [2024-06-19 06:32:05,574 E 3274145 3274183] (raylet) file_system_monitor.cc:111: /tmp/ray/session_2024-06-19_06-16-12_106407_3141861 is over 95% full, available space: 19354533888; capacity: 941289119744. Object creation will fail if spilling is required.\n",
      "\u001b[33m(raylet)\u001b[0m [2024-06-19 06:32:15,595 E 3274145 3274183] (raylet) file_system_monitor.cc:111: /tmp/ray/session_2024-06-19_06-16-12_106407_3141861 is over 95% full, available space: 19353427968; capacity: 941289119744. Object creation will fail if spilling is required.\n",
      "\u001b[33m(raylet)\u001b[0m [2024-06-19 06:32:25,615 E 3274145 3274183] (raylet) file_system_monitor.cc:111: /tmp/ray/session_2024-06-19_06-16-12_106407_3141861 is over 95% full, available space: 19352973312; capacity: 941289119744. Object creation will fail if spilling is required.\n",
      "\u001b[33m(raylet)\u001b[0m [2024-06-19 06:32:35,635 E 3274145 3274183] (raylet) file_system_monitor.cc:111: /tmp/ray/session_2024-06-19_06-16-12_106407_3141861 is over 95% full, available space: 19352961024; capacity: 941289119744. Object creation will fail if spilling is required.\n",
      "\u001b[33m(raylet)\u001b[0m [2024-06-19 06:32:45,656 E 3274145 3274183] (raylet) file_system_monitor.cc:111: /tmp/ray/session_2024-06-19_06-16-12_106407_3141861 is over 95% full, available space: 19352961024; capacity: 941289119744. Object creation will fail if spilling is required.\n",
      "\u001b[33m(raylet)\u001b[0m [2024-06-19 06:32:55,676 E 3274145 3274183] (raylet) file_system_monitor.cc:111: /tmp/ray/session_2024-06-19_06-16-12_106407_3141861 is over 95% full, available space: 19352961024; capacity: 941289119744. Object creation will fail if spilling is required.\n",
      "\u001b[33m(raylet)\u001b[0m [2024-06-19 06:33:05,697 E 3274145 3274183] (raylet) file_system_monitor.cc:111: /tmp/ray/session_2024-06-19_06-16-12_106407_3141861 is over 95% full, available space: 19352956928; capacity: 941289119744. Object creation will fail if spilling is required.\n",
      "\u001b[33m(raylet)\u001b[0m [2024-06-19 06:33:15,716 E 3274145 3274183] (raylet) file_system_monitor.cc:111: /tmp/ray/session_2024-06-19_06-16-12_106407_3141861 is over 95% full, available space: 19351805952; capacity: 941289119744. Object creation will fail if spilling is required.\n",
      "\u001b[33m(raylet)\u001b[0m [2024-06-19 06:33:25,736 E 3274145 3274183] (raylet) file_system_monitor.cc:111: /tmp/ray/session_2024-06-19_06-16-12_106407_3141861 is over 95% full, available space: 19351592960; capacity: 941289119744. Object creation will fail if spilling is required.\n",
      "\u001b[33m(raylet)\u001b[0m [2024-06-19 06:33:35,754 E 3274145 3274183] (raylet) file_system_monitor.cc:111: /tmp/ray/session_2024-06-19_06-16-12_106407_3141861 is over 95% full, available space: 19351580672; capacity: 941289119744. Object creation will fail if spilling is required.\n",
      "\u001b[33m(raylet)\u001b[0m [2024-06-19 06:33:45,773 E 3274145 3274183] (raylet) file_system_monitor.cc:111: /tmp/ray/session_2024-06-19_06-16-12_106407_3141861 is over 95% full, available space: 19351576576; capacity: 941289119744. Object creation will fail if spilling is required.\n",
      "\u001b[33m(raylet)\u001b[0m [2024-06-19 06:33:55,792 E 3274145 3274183] (raylet) file_system_monitor.cc:111: /tmp/ray/session_2024-06-19_06-16-12_106407_3141861 is over 95% full, available space: 19351572480; capacity: 941289119744. Object creation will fail if spilling is required.\n",
      "\u001b[33m(raylet)\u001b[0m [2024-06-19 06:34:05,810 E 3274145 3274183] (raylet) file_system_monitor.cc:111: /tmp/ray/session_2024-06-19_06-16-12_106407_3141861 is over 95% full, available space: 19351572480; capacity: 941289119744. Object creation will fail if spilling is required.\n",
      "\u001b[33m(raylet)\u001b[0m [2024-06-19 06:34:15,830 E 3274145 3274183] (raylet) file_system_monitor.cc:111: /tmp/ray/session_2024-06-19_06-16-12_106407_3141861 is over 95% full, available space: 19350151168; capacity: 941289119744. Object creation will fail if spilling is required.\n",
      "\u001b[33m(raylet)\u001b[0m [2024-06-19 06:34:25,850 E 3274145 3274183] (raylet) file_system_monitor.cc:111: /tmp/ray/session_2024-06-19_06-16-12_106407_3141861 is over 95% full, available space: 19350089728; capacity: 941289119744. Object creation will fail if spilling is required.\n",
      "\u001b[33m(raylet)\u001b[0m [2024-06-19 06:34:35,868 E 3274145 3274183] (raylet) file_system_monitor.cc:111: /tmp/ray/session_2024-06-19_06-16-12_106407_3141861 is over 95% full, available space: 19350077440; capacity: 941289119744. Object creation will fail if spilling is required.\n",
      "\u001b[33m(raylet)\u001b[0m [2024-06-19 06:34:45,889 E 3274145 3274183] (raylet) file_system_monitor.cc:111: /tmp/ray/session_2024-06-19_06-16-12_106407_3141861 is over 95% full, available space: 19350073344; capacity: 941289119744. Object creation will fail if spilling is required.\n",
      "\u001b[33m(raylet)\u001b[0m [2024-06-19 06:34:55,908 E 3274145 3274183] (raylet) file_system_monitor.cc:111: /tmp/ray/session_2024-06-19_06-16-12_106407_3141861 is over 95% full, available space: 19350069248; capacity: 941289119744. Object creation will fail if spilling is required.\n",
      "\u001b[33m(raylet)\u001b[0m [2024-06-19 06:35:05,929 E 3274145 3274183] (raylet) file_system_monitor.cc:111: /tmp/ray/session_2024-06-19_06-16-12_106407_3141861 is over 95% full, available space: 19350065152; capacity: 941289119744. Object creation will fail if spilling is required.\n",
      "\u001b[33m(raylet)\u001b[0m [2024-06-19 06:35:15,950 E 3274145 3274183] (raylet) file_system_monitor.cc:111: /tmp/ray/session_2024-06-19_06-16-12_106407_3141861 is over 95% full, available space: 19348668416; capacity: 941289119744. Object creation will fail if spilling is required.\n",
      "\u001b[33m(raylet)\u001b[0m [2024-06-19 06:35:25,971 E 3274145 3274183] (raylet) file_system_monitor.cc:111: /tmp/ray/session_2024-06-19_06-16-12_106407_3141861 is over 95% full, available space: 19348627456; capacity: 941289119744. Object creation will fail if spilling is required.\n",
      "\u001b[33m(raylet)\u001b[0m [2024-06-19 06:35:35,993 E 3274145 3274183] (raylet) file_system_monitor.cc:111: /tmp/ray/session_2024-06-19_06-16-12_106407_3141861 is over 95% full, available space: 19348619264; capacity: 941289119744. Object creation will fail if spilling is required.\n",
      "\u001b[33m(raylet)\u001b[0m [2024-06-19 06:35:46,013 E 3274145 3274183] (raylet) file_system_monitor.cc:111: /tmp/ray/session_2024-06-19_06-16-12_106407_3141861 is over 95% full, available space: 19348606976; capacity: 941289119744. Object creation will fail if spilling is required.\n",
      "\u001b[33m(raylet)\u001b[0m [2024-06-19 06:35:56,035 E 3274145 3274183] (raylet) file_system_monitor.cc:111: /tmp/ray/session_2024-06-19_06-16-12_106407_3141861 is over 95% full, available space: 19348606976; capacity: 941289119744. Object creation will fail if spilling is required.\n",
      "\u001b[33m(raylet)\u001b[0m [2024-06-19 06:36:06,056 E 3274145 3274183] (raylet) file_system_monitor.cc:111: /tmp/ray/session_2024-06-19_06-16-12_106407_3141861 is over 95% full, available space: 19348606976; capacity: 941289119744. Object creation will fail if spilling is required.\n",
      "\u001b[33m(raylet)\u001b[0m [2024-06-19 06:36:16,076 E 3274145 3274183] (raylet) file_system_monitor.cc:111: /tmp/ray/session_2024-06-19_06-16-12_106407_3141861 is over 95% full, available space: 19347202048; capacity: 941289119744. Object creation will fail if spilling is required.\n",
      "\u001b[33m(raylet)\u001b[0m [2024-06-19 06:36:26,096 E 3274145 3274183] (raylet) file_system_monitor.cc:111: /tmp/ray/session_2024-06-19_06-16-12_106407_3141861 is over 95% full, available space: 19347165184; capacity: 941289119744. Object creation will fail if spilling is required.\n",
      "\u001b[33m(raylet)\u001b[0m [2024-06-19 06:36:36,115 E 3274145 3274183] (raylet) file_system_monitor.cc:111: /tmp/ray/session_2024-06-19_06-16-12_106407_3141861 is over 95% full, available space: 19347152896; capacity: 941289119744. Object creation will fail if spilling is required.\n",
      "\u001b[33m(raylet)\u001b[0m [2024-06-19 06:36:46,136 E 3274145 3274183] (raylet) file_system_monitor.cc:111: /tmp/ray/session_2024-06-19_06-16-12_106407_3141861 is over 95% full, available space: 19347148800; capacity: 941289119744. Object creation will fail if spilling is required.\n",
      "\u001b[33m(raylet)\u001b[0m [2024-06-19 06:36:56,156 E 3274145 3274183] (raylet) file_system_monitor.cc:111: /tmp/ray/session_2024-06-19_06-16-12_106407_3141861 is over 95% full, available space: 19347148800; capacity: 941289119744. Object creation will fail if spilling is required.\n",
      "\u001b[33m(raylet)\u001b[0m [2024-06-19 06:37:06,176 E 3274145 3274183] (raylet) file_system_monitor.cc:111: /tmp/ray/session_2024-06-19_06-16-12_106407_3141861 is over 95% full, available space: 19347144704; capacity: 941289119744. Object creation will fail if spilling is required.\n",
      "\u001b[33m(raylet)\u001b[0m [2024-06-19 06:37:16,194 E 3274145 3274183] (raylet) file_system_monitor.cc:111: /tmp/ray/session_2024-06-19_06-16-12_106407_3141861 is over 95% full, available space: 19345707008; capacity: 941289119744. Object creation will fail if spilling is required.\n",
      "\u001b[33m(raylet)\u001b[0m [2024-06-19 06:37:26,213 E 3274145 3274183] (raylet) file_system_monitor.cc:111: /tmp/ray/session_2024-06-19_06-16-12_106407_3141861 is over 95% full, available space: 19345670144; capacity: 941289119744. Object creation will fail if spilling is required.\n",
      "\u001b[33m(raylet)\u001b[0m [2024-06-19 06:37:36,232 E 3274145 3274183] (raylet) file_system_monitor.cc:111: /tmp/ray/session_2024-06-19_06-16-12_106407_3141861 is over 95% full, available space: 19345657856; capacity: 941289119744. Object creation will fail if spilling is required.\n",
      "\u001b[33m(raylet)\u001b[0m [2024-06-19 06:37:46,251 E 3274145 3274183] (raylet) file_system_monitor.cc:111: /tmp/ray/session_2024-06-19_06-16-12_106407_3141861 is over 95% full, available space: 19345645568; capacity: 941289119744. Object creation will fail if spilling is required.\n",
      "\u001b[33m(raylet)\u001b[0m [2024-06-19 06:37:56,268 E 3274145 3274183] (raylet) file_system_monitor.cc:111: /tmp/ray/session_2024-06-19_06-16-12_106407_3141861 is over 95% full, available space: 19345637376; capacity: 941289119744. Object creation will fail if spilling is required.\n",
      "\u001b[33m(raylet)\u001b[0m [2024-06-19 06:38:06,284 E 3274145 3274183] (raylet) file_system_monitor.cc:111: /tmp/ray/session_2024-06-19_06-16-12_106407_3141861 is over 95% full, available space: 19345637376; capacity: 941289119744. Object creation will fail if spilling is required.\n",
      "\u001b[33m(raylet)\u001b[0m [2024-06-19 06:38:16,301 E 3274145 3274183] (raylet) file_system_monitor.cc:111: /tmp/ray/session_2024-06-19_06-16-12_106407_3141861 is over 95% full, available space: 19344465920; capacity: 941289119744. Object creation will fail if spilling is required.\n",
      "\u001b[33m(raylet)\u001b[0m [2024-06-19 06:38:26,320 E 3274145 3274183] (raylet) file_system_monitor.cc:111: /tmp/ray/session_2024-06-19_06-16-12_106407_3141861 is over 95% full, available space: 19344429056; capacity: 941289119744. Object creation will fail if spilling is required.\n",
      "\u001b[33m(raylet)\u001b[0m [2024-06-19 06:38:36,339 E 3274145 3274183] (raylet) file_system_monitor.cc:111: /tmp/ray/session_2024-06-19_06-16-12_106407_3141861 is over 95% full, available space: 19344420864; capacity: 941289119744. Object creation will fail if spilling is required.\n",
      "\u001b[33m(raylet)\u001b[0m [2024-06-19 06:38:46,360 E 3274145 3274183] (raylet) file_system_monitor.cc:111: /tmp/ray/session_2024-06-19_06-16-12_106407_3141861 is over 95% full, available space: 19344420864; capacity: 941289119744. Object creation will fail if spilling is required.\n",
      "\u001b[33m(raylet)\u001b[0m [2024-06-19 06:38:56,380 E 3274145 3274183] (raylet) file_system_monitor.cc:111: /tmp/ray/session_2024-06-19_06-16-12_106407_3141861 is over 95% full, available space: 19344412672; capacity: 941289119744. Object creation will fail if spilling is required.\n",
      "\u001b[33m(raylet)\u001b[0m [2024-06-19 06:39:06,400 E 3274145 3274183] (raylet) file_system_monitor.cc:111: /tmp/ray/session_2024-06-19_06-16-12_106407_3141861 is over 95% full, available space: 19344412672; capacity: 941289119744. Object creation will fail if spilling is required.\n",
      "\u001b[33m(raylet)\u001b[0m [2024-06-19 06:39:16,422 E 3274145 3274183] (raylet) file_system_monitor.cc:111: /tmp/ray/session_2024-06-19_06-16-12_106407_3141861 is over 95% full, available space: 19342729216; capacity: 941289119744. Object creation will fail if spilling is required.\n",
      "\u001b[33m(raylet)\u001b[0m [2024-06-19 06:39:26,442 E 3274145 3274183] (raylet) file_system_monitor.cc:111: /tmp/ray/session_2024-06-19_06-16-12_106407_3141861 is over 95% full, available space: 19342704640; capacity: 941289119744. Object creation will fail if spilling is required.\n",
      "\u001b[33m(raylet)\u001b[0m [2024-06-19 06:39:36,462 E 3274145 3274183] (raylet) file_system_monitor.cc:111: /tmp/ray/session_2024-06-19_06-16-12_106407_3141861 is over 95% full, available space: 19342696448; capacity: 941289119744. Object creation will fail if spilling is required.\n",
      "\u001b[33m(raylet)\u001b[0m [2024-06-19 06:39:46,484 E 3274145 3274183] (raylet) file_system_monitor.cc:111: /tmp/ray/session_2024-06-19_06-16-12_106407_3141861 is over 95% full, available space: 19342688256; capacity: 941289119744. Object creation will fail if spilling is required.\n",
      "\u001b[33m(raylet)\u001b[0m [2024-06-19 06:39:56,505 E 3274145 3274183] (raylet) file_system_monitor.cc:111: /tmp/ray/session_2024-06-19_06-16-12_106407_3141861 is over 95% full, available space: 19342688256; capacity: 941289119744. Object creation will fail if spilling is required.\n",
      "\u001b[33m(raylet)\u001b[0m [2024-06-19 06:40:06,526 E 3274145 3274183] (raylet) file_system_monitor.cc:111: /tmp/ray/session_2024-06-19_06-16-12_106407_3141861 is over 95% full, available space: 19342684160; capacity: 941289119744. Object creation will fail if spilling is required.\n",
      "\u001b[33m(raylet)\u001b[0m [2024-06-19 06:40:16,545 E 3274145 3274183] (raylet) file_system_monitor.cc:111: /tmp/ray/session_2024-06-19_06-16-12_106407_3141861 is over 95% full, available space: 19341660160; capacity: 941289119744. Object creation will fail if spilling is required.\n",
      "\u001b[33m(raylet)\u001b[0m [2024-06-19 06:40:26,564 E 3274145 3274183] (raylet) file_system_monitor.cc:111: /tmp/ray/session_2024-06-19_06-16-12_106407_3141861 is over 95% full, available space: 19341631488; capacity: 941289119744. Object creation will fail if spilling is required.\n",
      "\u001b[33m(raylet)\u001b[0m [2024-06-19 06:40:36,584 E 3274145 3274183] (raylet) file_system_monitor.cc:111: /tmp/ray/session_2024-06-19_06-16-12_106407_3141861 is over 95% full, available space: 19341623296; capacity: 941289119744. Object creation will fail if spilling is required.\n",
      "\u001b[33m(raylet)\u001b[0m [2024-06-19 06:40:46,603 E 3274145 3274183] (raylet) file_system_monitor.cc:111: /tmp/ray/session_2024-06-19_06-16-12_106407_3141861 is over 95% full, available space: 19341619200; capacity: 941289119744. Object creation will fail if spilling is required.\n",
      "\u001b[33m(raylet)\u001b[0m [2024-06-19 06:40:56,622 E 3274145 3274183] (raylet) file_system_monitor.cc:111: /tmp/ray/session_2024-06-19_06-16-12_106407_3141861 is over 95% full, available space: 19341619200; capacity: 941289119744. Object creation will fail if spilling is required.\n",
      "\u001b[33m(raylet)\u001b[0m [2024-06-19 06:41:06,640 E 3274145 3274183] (raylet) file_system_monitor.cc:111: /tmp/ray/session_2024-06-19_06-16-12_106407_3141861 is over 95% full, available space: 19341611008; capacity: 941289119744. Object creation will fail if spilling is required.\n",
      "\u001b[33m(raylet)\u001b[0m [2024-06-19 06:41:16,661 E 3274145 3274183] (raylet) file_system_monitor.cc:111: /tmp/ray/session_2024-06-19_06-16-12_106407_3141861 is over 95% full, available space: 19339776000; capacity: 941289119744. Object creation will fail if spilling is required.\n",
      "\u001b[33m(raylet)\u001b[0m [2024-06-19 06:41:26,681 E 3274145 3274183] (raylet) file_system_monitor.cc:111: /tmp/ray/session_2024-06-19_06-16-12_106407_3141861 is over 95% full, available space: 19339747328; capacity: 941289119744. Object creation will fail if spilling is required.\n",
      "\u001b[33m(raylet)\u001b[0m [2024-06-19 06:41:36,701 E 3274145 3274183] (raylet) file_system_monitor.cc:111: /tmp/ray/session_2024-06-19_06-16-12_106407_3141861 is over 95% full, available space: 19339735040; capacity: 941289119744. Object creation will fail if spilling is required.\n",
      "\u001b[33m(raylet)\u001b[0m [2024-06-19 06:41:46,722 E 3274145 3274183] (raylet) file_system_monitor.cc:111: /tmp/ray/session_2024-06-19_06-16-12_106407_3141861 is over 95% full, available space: 19339730944; capacity: 941289119744. Object creation will fail if spilling is required.\n",
      "\u001b[33m(raylet)\u001b[0m [2024-06-19 06:41:56,743 E 3274145 3274183] (raylet) file_system_monitor.cc:111: /tmp/ray/session_2024-06-19_06-16-12_106407_3141861 is over 95% full, available space: 19339726848; capacity: 941289119744. Object creation will fail if spilling is required.\n",
      "\u001b[33m(raylet)\u001b[0m [2024-06-19 06:42:06,764 E 3274145 3274183] (raylet) file_system_monitor.cc:111: /tmp/ray/session_2024-06-19_06-16-12_106407_3141861 is over 95% full, available space: 19339726848; capacity: 941289119744. Object creation will fail if spilling is required.\n",
      "\u001b[33m(raylet)\u001b[0m [2024-06-19 06:42:16,785 E 3274145 3274183] (raylet) file_system_monitor.cc:111: /tmp/ray/session_2024-06-19_06-16-12_106407_3141861 is over 95% full, available space: 19338743808; capacity: 941289119744. Object creation will fail if spilling is required.\n",
      "\u001b[33m(raylet)\u001b[0m [2024-06-19 06:42:26,804 E 3274145 3274183] (raylet) file_system_monitor.cc:111: /tmp/ray/session_2024-06-19_06-16-12_106407_3141861 is over 95% full, available space: 19338711040; capacity: 941289119744. Object creation will fail if spilling is required.\n",
      "\u001b[33m(raylet)\u001b[0m [2024-06-19 06:42:36,826 E 3274145 3274183] (raylet) file_system_monitor.cc:111: /tmp/ray/session_2024-06-19_06-16-12_106407_3141861 is over 95% full, available space: 19338702848; capacity: 941289119744. Object creation will fail if spilling is required.\n",
      "\u001b[33m(raylet)\u001b[0m [2024-06-19 06:42:46,846 E 3274145 3274183] (raylet) file_system_monitor.cc:111: /tmp/ray/session_2024-06-19_06-16-12_106407_3141861 is over 95% full, available space: 19338702848; capacity: 941289119744. Object creation will fail if spilling is required.\n",
      "\u001b[33m(raylet)\u001b[0m [2024-06-19 06:42:56,868 E 3274145 3274183] (raylet) file_system_monitor.cc:111: /tmp/ray/session_2024-06-19_06-16-12_106407_3141861 is over 95% full, available space: 19338698752; capacity: 941289119744. Object creation will fail if spilling is required.\n",
      "\u001b[33m(raylet)\u001b[0m [2024-06-19 06:43:06,888 E 3274145 3274183] (raylet) file_system_monitor.cc:111: /tmp/ray/session_2024-06-19_06-16-12_106407_3141861 is over 95% full, available space: 19338694656; capacity: 941289119744. Object creation will fail if spilling is required.\n",
      "\u001b[33m(raylet)\u001b[0m [2024-06-19 06:43:16,910 E 3274145 3274183] (raylet) file_system_monitor.cc:111: /tmp/ray/session_2024-06-19_06-16-12_106407_3141861 is over 95% full, available space: 19336814592; capacity: 941289119744. Object creation will fail if spilling is required.\n",
      "\u001b[33m(raylet)\u001b[0m [2024-06-19 06:43:26,931 E 3274145 3274183] (raylet) file_system_monitor.cc:111: /tmp/ray/session_2024-06-19_06-16-12_106407_3141861 is over 95% full, available space: 19336790016; capacity: 941289119744. Object creation will fail if spilling is required.\n",
      "\u001b[33m(raylet)\u001b[0m [2024-06-19 06:43:36,951 E 3274145 3274183] (raylet) file_system_monitor.cc:111: /tmp/ray/session_2024-06-19_06-16-12_106407_3141861 is over 95% full, available space: 19336781824; capacity: 941289119744. Object creation will fail if spilling is required.\n",
      "\u001b[33m(raylet)\u001b[0m [2024-06-19 06:43:46,971 E 3274145 3274183] (raylet) file_system_monitor.cc:111: /tmp/ray/session_2024-06-19_06-16-12_106407_3141861 is over 95% full, available space: 19336765440; capacity: 941289119744. Object creation will fail if spilling is required.\n",
      "\u001b[33m(raylet)\u001b[0m [2024-06-19 06:43:56,990 E 3274145 3274183] (raylet) file_system_monitor.cc:111: /tmp/ray/session_2024-06-19_06-16-12_106407_3141861 is over 95% full, available space: 19336765440; capacity: 941289119744. Object creation will fail if spilling is required.\n",
      "\u001b[33m(raylet)\u001b[0m [2024-06-19 06:44:07,011 E 3274145 3274183] (raylet) file_system_monitor.cc:111: /tmp/ray/session_2024-06-19_06-16-12_106407_3141861 is over 95% full, available space: 19336765440; capacity: 941289119744. Object creation will fail if spilling is required.\n",
      "\u001b[33m(raylet)\u001b[0m [2024-06-19 06:44:17,031 E 3274145 3274183] (raylet) file_system_monitor.cc:111: /tmp/ray/session_2024-06-19_06-16-12_106407_3141861 is over 95% full, available space: 19335774208; capacity: 941289119744. Object creation will fail if spilling is required.\n",
      "\u001b[33m(raylet)\u001b[0m [2024-06-19 06:44:27,050 E 3274145 3274183] (raylet) file_system_monitor.cc:111: /tmp/ray/session_2024-06-19_06-16-12_106407_3141861 is over 95% full, available space: 19335745536; capacity: 941289119744. Object creation will fail if spilling is required.\n",
      "\u001b[33m(raylet)\u001b[0m [2024-06-19 06:44:37,069 E 3274145 3274183] (raylet) file_system_monitor.cc:111: /tmp/ray/session_2024-06-19_06-16-12_106407_3141861 is over 95% full, available space: 19335733248; capacity: 941289119744. Object creation will fail if spilling is required.\n",
      "\u001b[33m(raylet)\u001b[0m [2024-06-19 06:44:47,088 E 3274145 3274183] (raylet) file_system_monitor.cc:111: /tmp/ray/session_2024-06-19_06-16-12_106407_3141861 is over 95% full, available space: 19335733248; capacity: 941289119744. Object creation will fail if spilling is required.\n",
      "\u001b[33m(raylet)\u001b[0m [2024-06-19 06:44:57,110 E 3274145 3274183] (raylet) file_system_monitor.cc:111: /tmp/ray/session_2024-06-19_06-16-12_106407_3141861 is over 95% full, available space: 19335733248; capacity: 941289119744. Object creation will fail if spilling is required.\n",
      "\u001b[33m(raylet)\u001b[0m [2024-06-19 06:45:07,128 E 3274145 3274183] (raylet) file_system_monitor.cc:111: /tmp/ray/session_2024-06-19_06-16-12_106407_3141861 is over 95% full, available space: 19335729152; capacity: 941289119744. Object creation will fail if spilling is required.\n",
      "\u001b[33m(raylet)\u001b[0m [2024-06-19 06:45:17,147 E 3274145 3274183] (raylet) file_system_monitor.cc:111: /tmp/ray/session_2024-06-19_06-16-12_106407_3141861 is over 95% full, available space: 19333873664; capacity: 941289119744. Object creation will fail if spilling is required.\n",
      "\u001b[33m(raylet)\u001b[0m [2024-06-19 06:45:27,168 E 3274145 3274183] (raylet) file_system_monitor.cc:111: /tmp/ray/session_2024-06-19_06-16-12_106407_3141861 is over 95% full, available space: 19333849088; capacity: 941289119744. Object creation will fail if spilling is required.\n",
      "\u001b[33m(raylet)\u001b[0m [2024-06-19 06:45:37,189 E 3274145 3274183] (raylet) file_system_monitor.cc:111: /tmp/ray/session_2024-06-19_06-16-12_106407_3141861 is over 95% full, available space: 19333836800; capacity: 941289119744. Object creation will fail if spilling is required.\n",
      "\u001b[33m(raylet)\u001b[0m [2024-06-19 06:45:47,211 E 3274145 3274183] (raylet) file_system_monitor.cc:111: /tmp/ray/session_2024-06-19_06-16-12_106407_3141861 is over 95% full, available space: 19333828608; capacity: 941289119744. Object creation will fail if spilling is required.\n",
      "\u001b[33m(raylet)\u001b[0m [2024-06-19 06:45:57,232 E 3274145 3274183] (raylet) file_system_monitor.cc:111: /tmp/ray/session_2024-06-19_06-16-12_106407_3141861 is over 95% full, available space: 19333824512; capacity: 941289119744. Object creation will fail if spilling is required.\n",
      "\u001b[33m(raylet)\u001b[0m [2024-06-19 06:46:07,254 E 3274145 3274183] (raylet) file_system_monitor.cc:111: /tmp/ray/session_2024-06-19_06-16-12_106407_3141861 is over 95% full, available space: 19333824512; capacity: 941289119744. Object creation will fail if spilling is required.\n",
      "\u001b[33m(raylet)\u001b[0m [2024-06-19 06:46:17,271 E 3274145 3274183] (raylet) file_system_monitor.cc:111: /tmp/ray/session_2024-06-19_06-16-12_106407_3141861 is over 95% full, available space: 19332808704; capacity: 941289119744. Object creation will fail if spilling is required.\n",
      "\u001b[33m(raylet)\u001b[0m [2024-06-19 06:46:27,291 E 3274145 3274183] (raylet) file_system_monitor.cc:111: /tmp/ray/session_2024-06-19_06-16-12_106407_3141861 is over 95% full, available space: 19332788224; capacity: 941289119744. Object creation will fail if spilling is required.\n",
      "\u001b[33m(raylet)\u001b[0m [2024-06-19 06:46:37,311 E 3274145 3274183] (raylet) file_system_monitor.cc:111: /tmp/ray/session_2024-06-19_06-16-12_106407_3141861 is over 95% full, available space: 19332784128; capacity: 941289119744. Object creation will fail if spilling is required.\n",
      "\u001b[33m(raylet)\u001b[0m [2024-06-19 06:46:47,331 E 3274145 3274183] (raylet) file_system_monitor.cc:111: /tmp/ray/session_2024-06-19_06-16-12_106407_3141861 is over 95% full, available space: 19332784128; capacity: 941289119744. Object creation will fail if spilling is required.\n",
      "\u001b[33m(raylet)\u001b[0m [2024-06-19 06:46:57,352 E 3274145 3274183] (raylet) file_system_monitor.cc:111: /tmp/ray/session_2024-06-19_06-16-12_106407_3141861 is over 95% full, available space: 19332775936; capacity: 941289119744. Object creation will fail if spilling is required.\n",
      "\u001b[33m(raylet)\u001b[0m [2024-06-19 06:47:07,371 E 3274145 3274183] (raylet) file_system_monitor.cc:111: /tmp/ray/session_2024-06-19_06-16-12_106407_3141861 is over 95% full, available space: 19332775936; capacity: 941289119744. Object creation will fail if spilling is required.\n",
      "\u001b[33m(raylet)\u001b[0m [2024-06-19 06:47:17,392 E 3274145 3274183] (raylet) file_system_monitor.cc:111: /tmp/ray/session_2024-06-19_06-16-12_106407_3141861 is over 95% full, available space: 19331014656; capacity: 941289119744. Object creation will fail if spilling is required.\n",
      "\u001b[33m(raylet)\u001b[0m [2024-06-19 06:47:27,415 E 3274145 3274183] (raylet) file_system_monitor.cc:111: /tmp/ray/session_2024-06-19_06-16-12_106407_3141861 is over 95% full, available space: 19330985984; capacity: 941289119744. Object creation will fail if spilling is required.\n",
      "\u001b[33m(raylet)\u001b[0m [2024-06-19 06:47:37,436 E 3274145 3274183] (raylet) file_system_monitor.cc:111: /tmp/ray/session_2024-06-19_06-16-12_106407_3141861 is over 95% full, available space: 19330985984; capacity: 941289119744. Object creation will fail if spilling is required.\n",
      "\u001b[33m(raylet)\u001b[0m [2024-06-19 06:47:47,458 E 3274145 3274183] (raylet) file_system_monitor.cc:111: /tmp/ray/session_2024-06-19_06-16-12_106407_3141861 is over 95% full, available space: 19330977792; capacity: 941289119744. Object creation will fail if spilling is required.\n",
      "\u001b[33m(raylet)\u001b[0m [2024-06-19 06:47:57,478 E 3274145 3274183] (raylet) file_system_monitor.cc:111: /tmp/ray/session_2024-06-19_06-16-12_106407_3141861 is over 95% full, available space: 19330977792; capacity: 941289119744. Object creation will fail if spilling is required.\n",
      "\u001b[33m(raylet)\u001b[0m [2024-06-19 06:48:07,498 E 3274145 3274183] (raylet) file_system_monitor.cc:111: /tmp/ray/session_2024-06-19_06-16-12_106407_3141861 is over 95% full, available space: 19330977792; capacity: 941289119744. Object creation will fail if spilling is required.\n",
      "\u001b[33m(raylet)\u001b[0m [2024-06-19 06:48:17,519 E 3274145 3274183] (raylet) file_system_monitor.cc:111: /tmp/ray/session_2024-06-19_06-16-12_106407_3141861 is over 95% full, available space: 19329859584; capacity: 941289119744. Object creation will fail if spilling is required.\n",
      "\u001b[33m(raylet)\u001b[0m [2024-06-19 06:48:27,537 E 3274145 3274183] (raylet) file_system_monitor.cc:111: /tmp/ray/session_2024-06-19_06-16-12_106407_3141861 is over 95% full, available space: 19329822720; capacity: 941289119744. Object creation will fail if spilling is required.\n",
      "\u001b[33m(raylet)\u001b[0m [2024-06-19 06:48:37,555 E 3274145 3274183] (raylet) file_system_monitor.cc:111: /tmp/ray/session_2024-06-19_06-16-12_106407_3141861 is over 95% full, available space: 19329818624; capacity: 941289119744. Object creation will fail if spilling is required.\n",
      "\u001b[33m(raylet)\u001b[0m [2024-06-19 06:48:47,574 E 3274145 3274183] (raylet) file_system_monitor.cc:111: /tmp/ray/session_2024-06-19_06-16-12_106407_3141861 is over 95% full, available space: 19329818624; capacity: 941289119744. Object creation will fail if spilling is required.\n",
      "\u001b[33m(raylet)\u001b[0m [2024-06-19 06:48:57,595 E 3274145 3274183] (raylet) file_system_monitor.cc:111: /tmp/ray/session_2024-06-19_06-16-12_106407_3141861 is over 95% full, available space: 19329818624; capacity: 941289119744. Object creation will fail if spilling is required.\n",
      "\u001b[33m(raylet)\u001b[0m [2024-06-19 06:49:07,613 E 3274145 3274183] (raylet) file_system_monitor.cc:111: /tmp/ray/session_2024-06-19_06-16-12_106407_3141861 is over 95% full, available space: 19329814528; capacity: 941289119744. Object creation will fail if spilling is required.\n",
      "\u001b[33m(raylet)\u001b[0m [2024-06-19 06:49:17,632 E 3274145 3274183] (raylet) file_system_monitor.cc:111: /tmp/ray/session_2024-06-19_06-16-12_106407_3141861 is over 95% full, available space: 19328221184; capacity: 941289119744. Object creation will fail if spilling is required.\n",
      "\u001b[33m(raylet)\u001b[0m [2024-06-19 06:49:27,652 E 3274145 3274183] (raylet) file_system_monitor.cc:111: /tmp/ray/session_2024-06-19_06-16-12_106407_3141861 is over 95% full, available space: 19328196608; capacity: 941289119744. Object creation will fail if spilling is required.\n",
      "\u001b[33m(raylet)\u001b[0m [2024-06-19 06:49:37,672 E 3274145 3274183] (raylet) file_system_monitor.cc:111: /tmp/ray/session_2024-06-19_06-16-12_106407_3141861 is over 95% full, available space: 19328188416; capacity: 941289119744. Object creation will fail if spilling is required.\n",
      "\u001b[33m(raylet)\u001b[0m [2024-06-19 06:49:47,694 E 3274145 3274183] (raylet) file_system_monitor.cc:111: /tmp/ray/session_2024-06-19_06-16-12_106407_3141861 is over 95% full, available space: 19328184320; capacity: 941289119744. Object creation will fail if spilling is required.\n",
      "\u001b[33m(raylet)\u001b[0m [2024-06-19 06:49:57,717 E 3274145 3274183] (raylet) file_system_monitor.cc:111: /tmp/ray/session_2024-06-19_06-16-12_106407_3141861 is over 95% full, available space: 19328176128; capacity: 941289119744. Object creation will fail if spilling is required.\n",
      "\u001b[33m(raylet)\u001b[0m [2024-06-19 06:50:07,738 E 3274145 3274183] (raylet) file_system_monitor.cc:111: /tmp/ray/session_2024-06-19_06-16-12_106407_3141861 is over 95% full, available space: 19328176128; capacity: 941289119744. Object creation will fail if spilling is required.\n",
      "\u001b[33m(raylet)\u001b[0m [2024-06-19 06:50:17,756 E 3274145 3274183] (raylet) file_system_monitor.cc:111: /tmp/ray/session_2024-06-19_06-16-12_106407_3141861 is over 95% full, available space: 19326898176; capacity: 941289119744. Object creation will fail if spilling is required.\n",
      "\u001b[33m(raylet)\u001b[0m [2024-06-19 06:50:27,777 E 3274145 3274183] (raylet) file_system_monitor.cc:111: /tmp/ray/session_2024-06-19_06-16-12_106407_3141861 is over 95% full, available space: 19326865408; capacity: 941289119744. Object creation will fail if spilling is required.\n",
      "\u001b[33m(raylet)\u001b[0m [2024-06-19 06:50:37,797 E 3274145 3274183] (raylet) file_system_monitor.cc:111: /tmp/ray/session_2024-06-19_06-16-12_106407_3141861 is over 95% full, available space: 19326861312; capacity: 941289119744. Object creation will fail if spilling is required.\n",
      "\u001b[33m(raylet)\u001b[0m [2024-06-19 06:50:47,819 E 3274145 3274183] (raylet) file_system_monitor.cc:111: /tmp/ray/session_2024-06-19_06-16-12_106407_3141861 is over 95% full, available space: 19326861312; capacity: 941289119744. Object creation will fail if spilling is required.\n",
      "\u001b[33m(raylet)\u001b[0m [2024-06-19 06:50:57,841 E 3274145 3274183] (raylet) file_system_monitor.cc:111: /tmp/ray/session_2024-06-19_06-16-12_106407_3141861 is over 95% full, available space: 19326857216; capacity: 941289119744. Object creation will fail if spilling is required.\n",
      "\u001b[33m(raylet)\u001b[0m [2024-06-19 06:51:07,863 E 3274145 3274183] (raylet) file_system_monitor.cc:111: /tmp/ray/session_2024-06-19_06-16-12_106407_3141861 is over 95% full, available space: 19326853120; capacity: 941289119744. Object creation will fail if spilling is required.\n",
      "\u001b[33m(raylet)\u001b[0m [2024-06-19 06:51:17,885 E 3274145 3274183] (raylet) file_system_monitor.cc:111: /tmp/ray/session_2024-06-19_06-16-12_106407_3141861 is over 95% full, available space: 19325341696; capacity: 941289119744. Object creation will fail if spilling is required.\n",
      "\u001b[33m(raylet)\u001b[0m [2024-06-19 06:51:27,909 E 3274145 3274183] (raylet) file_system_monitor.cc:111: /tmp/ray/session_2024-06-19_06-16-12_106407_3141861 is over 95% full, available space: 19325308928; capacity: 941289119744. Object creation will fail if spilling is required.\n",
      "\u001b[33m(raylet)\u001b[0m [2024-06-19 06:51:37,930 E 3274145 3274183] (raylet) file_system_monitor.cc:111: /tmp/ray/session_2024-06-19_06-16-12_106407_3141861 is over 95% full, available space: 19325308928; capacity: 941289119744. Object creation will fail if spilling is required.\n",
      "\u001b[33m(raylet)\u001b[0m [2024-06-19 06:51:47,949 E 3274145 3274183] (raylet) file_system_monitor.cc:111: /tmp/ray/session_2024-06-19_06-16-12_106407_3141861 is over 95% full, available space: 19325296640; capacity: 941289119744. Object creation will fail if spilling is required.\n",
      "\u001b[33m(raylet)\u001b[0m [2024-06-19 06:51:57,969 E 3274145 3274183] (raylet) file_system_monitor.cc:111: /tmp/ray/session_2024-06-19_06-16-12_106407_3141861 is over 95% full, available space: 19325296640; capacity: 941289119744. Object creation will fail if spilling is required.\n",
      "\u001b[33m(raylet)\u001b[0m [2024-06-19 06:52:07,990 E 3274145 3274183] (raylet) file_system_monitor.cc:111: /tmp/ray/session_2024-06-19_06-16-12_106407_3141861 is over 95% full, available space: 19325296640; capacity: 941289119744. Object creation will fail if spilling is required.\n",
      "\u001b[33m(raylet)\u001b[0m [2024-06-19 06:52:18,010 E 3274145 3274183] (raylet) file_system_monitor.cc:111: /tmp/ray/session_2024-06-19_06-16-12_106407_3141861 is over 95% full, available space: 19323924480; capacity: 941289119744. Object creation will fail if spilling is required.\n",
      "\u001b[33m(raylet)\u001b[0m [2024-06-19 06:52:28,032 E 3274145 3274183] (raylet) file_system_monitor.cc:111: /tmp/ray/session_2024-06-19_06-16-12_106407_3141861 is over 95% full, available space: 19323904000; capacity: 941289119744. Object creation will fail if spilling is required.\n",
      "\u001b[33m(raylet)\u001b[0m [2024-06-19 06:52:38,050 E 3274145 3274183] (raylet) file_system_monitor.cc:111: /tmp/ray/session_2024-06-19_06-16-12_106407_3141861 is over 95% full, available space: 19323904000; capacity: 941289119744. Object creation will fail if spilling is required.\n",
      "\u001b[33m(raylet)\u001b[0m [2024-06-19 06:52:48,070 E 3274145 3274183] (raylet) file_system_monitor.cc:111: /tmp/ray/session_2024-06-19_06-16-12_106407_3141861 is over 95% full, available space: 19323895808; capacity: 941289119744. Object creation will fail if spilling is required.\n",
      "\u001b[33m(raylet)\u001b[0m [2024-06-19 06:52:58,091 E 3274145 3274183] (raylet) file_system_monitor.cc:111: /tmp/ray/session_2024-06-19_06-16-12_106407_3141861 is over 95% full, available space: 19323891712; capacity: 941289119744. Object creation will fail if spilling is required.\n",
      "\u001b[33m(raylet)\u001b[0m [2024-06-19 06:53:08,112 E 3274145 3274183] (raylet) file_system_monitor.cc:111: /tmp/ray/session_2024-06-19_06-16-12_106407_3141861 is over 95% full, available space: 19323887616; capacity: 941289119744. Object creation will fail if spilling is required.\n",
      "\u001b[33m(raylet)\u001b[0m [2024-06-19 06:53:18,132 E 3274145 3274183] (raylet) file_system_monitor.cc:111: /tmp/ray/session_2024-06-19_06-16-12_106407_3141861 is over 95% full, available space: 19322449920; capacity: 941289119744. Object creation will fail if spilling is required.\n",
      "\u001b[33m(raylet)\u001b[0m [2024-06-19 06:53:28,153 E 3274145 3274183] (raylet) file_system_monitor.cc:111: /tmp/ray/session_2024-06-19_06-16-12_106407_3141861 is over 95% full, available space: 19322425344; capacity: 941289119744. Object creation will fail if spilling is required.\n",
      "\u001b[33m(raylet)\u001b[0m [2024-06-19 06:53:38,174 E 3274145 3274183] (raylet) file_system_monitor.cc:111: /tmp/ray/session_2024-06-19_06-16-12_106407_3141861 is over 95% full, available space: 19322421248; capacity: 941289119744. Object creation will fail if spilling is required.\n",
      "\u001b[33m(raylet)\u001b[0m [2024-06-19 06:53:48,194 E 3274145 3274183] (raylet) file_system_monitor.cc:111: /tmp/ray/session_2024-06-19_06-16-12_106407_3141861 is over 95% full, available space: 19322417152; capacity: 941289119744. Object creation will fail if spilling is required.\n",
      "\u001b[33m(raylet)\u001b[0m [2024-06-19 06:53:58,213 E 3274145 3274183] (raylet) file_system_monitor.cc:111: /tmp/ray/session_2024-06-19_06-16-12_106407_3141861 is over 95% full, available space: 19322408960; capacity: 941289119744. Object creation will fail if spilling is required.\n",
      "\u001b[33m(raylet)\u001b[0m [2024-06-19 06:54:08,234 E 3274145 3274183] (raylet) file_system_monitor.cc:111: /tmp/ray/session_2024-06-19_06-16-12_106407_3141861 is over 95% full, available space: 19322404864; capacity: 941289119744. Object creation will fail if spilling is required.\n",
      "\u001b[33m(raylet)\u001b[0m [2024-06-19 06:54:18,255 E 3274145 3274183] (raylet) file_system_monitor.cc:111: /tmp/ray/session_2024-06-19_06-16-12_106407_3141861 is over 95% full, available space: 19320971264; capacity: 941289119744. Object creation will fail if spilling is required.\n",
      "\u001b[33m(raylet)\u001b[0m [2024-06-19 06:54:28,277 E 3274145 3274183] (raylet) file_system_monitor.cc:111: /tmp/ray/session_2024-06-19_06-16-12_106407_3141861 is over 95% full, available space: 19320938496; capacity: 941289119744. Object creation will fail if spilling is required.\n",
      "\u001b[33m(raylet)\u001b[0m [2024-06-19 06:54:38,297 E 3274145 3274183] (raylet) file_system_monitor.cc:111: /tmp/ray/session_2024-06-19_06-16-12_106407_3141861 is over 95% full, available space: 19320938496; capacity: 941289119744. Object creation will fail if spilling is required.\n"
     ]
    }
   ],
   "source": [
    "if ray.is_initialized():\n",
    "    ray.shutdown()\n",
    "\n",
    "ray.init()"
   ]
  },
  {
   "cell_type": "code",
   "execution_count": 34,
   "id": "98688f48-88b0-44d7-99a1-977f829effed",
   "metadata": {},
   "outputs": [
    {
     "data": {
      "text/plain": [
       "{'node:__internal_head__': 1.0,\n",
       " 'object_store_memory': 73128705638.0,\n",
       " 'memory': 160633646490.0,\n",
       " 'CPU': 224.0,\n",
       " 'node:192.168.50.196': 1.0}"
      ]
     },
     "execution_count": 34,
     "metadata": {},
     "output_type": "execute_result"
    }
   ],
   "source": [
    "ray.cluster_resources()"
   ]
  },
  {
   "cell_type": "code",
   "execution_count": 35,
   "id": "941cfc0f-d29d-42f8-9360-ce61231aff53",
   "metadata": {},
   "outputs": [],
   "source": [
    "num_workers = 2 \n",
    "resources_per_worker = {\"CPU\": 4}\n"
   ]
  },
  {
   "cell_type": "code",
   "execution_count": 36,
   "id": "fa66264f-47a6-45da-9d4e-0a4f79b44064",
   "metadata": {},
   "outputs": [],
   "source": [
    "from starlette.requests import Request\n",
    "\n",
    "import ray\n",
    "from ray import serve"
   ]
  },
  {
   "cell_type": "code",
   "execution_count": 37,
   "id": "ef6b59b1-cdfe-4e6f-abb2-9252a194a5bd",
   "metadata": {},
   "outputs": [],
   "source": [
    "from transformers import pipeline \n",
    "\n",
    "@serve.deployment(num_replicas=2, ray_actor_options={'num_cpus':0.2, 'num_gpus':0})\n",
    "class Translator:\n",
    "    def __init__(self):\n",
    "        self.model = pipeline(\"translation_en_to_fr\", model=\"t5-small\")\n",
    "\n",
    "    def translate(self, text: str) -> str:\n",
    "        model_output = self.model(text)\n",
    "        translation = model_output[0]['translation_text'] \n",
    "        return translation\n",
    "\n",
    "    async def __call__(self, http_request: Request) -> str:\n",
    "        english_text: str = await http_request.json() \n",
    "        return self.translate(english_text) \n"
   ]
  },
  {
   "cell_type": "code",
   "execution_count": 38,
   "id": "fd932f36-c8fd-4c69-9499-837194890730",
   "metadata": {},
   "outputs": [],
   "source": [
    "translator_app = Translator.bind()"
   ]
  },
  {
   "cell_type": "code",
   "execution_count": 39,
   "id": "4ae70d0a-60e4-4b08-ac9c-18dbe9559dc8",
   "metadata": {},
   "outputs": [
    {
     "name": "stderr",
     "output_type": "stream",
     "text": [
      "2024-06-19 06:16:17,938\tINFO handle.py:126 -- Created DeploymentHandle 'b3tp7nce' for Deployment(name='Translator', app='default').\n",
      "2024-06-19 06:16:17,940\tINFO handle.py:126 -- Created DeploymentHandle '8lbigl0q' for Deployment(name='Translator', app='default').\n",
      "2024-06-19 06:16:47,186\tINFO handle.py:126 -- Created DeploymentHandle 'vuvbxp6x' for Deployment(name='Translator', app='default').\n",
      "2024-06-19 06:16:47,189\tINFO api.py:584 -- Deployed app 'default' successfully.\n",
      "2024-06-19 06:16:47,203\tINFO handle.py:126 -- Created DeploymentHandle 'jhc0h6jo' for Deployment(name='Translator', app='default').\n",
      "2024-06-19 06:16:47,205\tINFO handle.py:126 -- Created DeploymentHandle 'n8d30n16' for Deployment(name='Translator', app='default').\n",
      "2024-06-19 06:16:47,207\tINFO handle.py:126 -- Created DeploymentHandle '2dvvpy6b' for Deployment(name='Translator', app='default').\n",
      "2024-06-19 06:16:47,209\tINFO handle.py:126 -- Created DeploymentHandle 'h5cuvxbr' for Deployment(name='Translator', app='default').\n",
      "2024-06-19 06:16:47,211\tINFO handle.py:126 -- Created DeploymentHandle '5mjx2tfa' for Deployment(name='Translator', app='default').\n",
      "2024-06-19 06:16:47,213\tINFO handle.py:126 -- Created DeploymentHandle 'apnszhom' for Deployment(name='Translator', app='default').\n",
      "2024-06-19 06:16:47,214\tINFO handle.py:126 -- Created DeploymentHandle '4p5nvsfn' for Deployment(name='Translator', app='default').\n",
      "2024-06-19 06:16:47,223\tINFO pow_2_scheduler.py:260 -- Got updated replicas for Deployment(name='Translator', app='default'): {'yhb5m1k4', 'mti022od'}.\n",
      "2024-06-19 06:16:47,224\tINFO handle.py:126 -- Created DeploymentHandle 'ha0xf4y6' for Deployment(name='Translator', app='default').\n",
      "2024-06-19 06:16:47,227\tINFO handle.py:126 -- Created DeploymentHandle 'w9uvsf8l' for Deployment(name='Translator', app='default').\n",
      "2024-06-19 06:16:47,228\tINFO handle.py:126 -- Created DeploymentHandle 'ykvyye15' for Deployment(name='Translator', app='default').\n",
      "2024-06-19 06:16:47,229\tINFO handle.py:126 -- Created DeploymentHandle '5s1e0sca' for Deployment(name='Translator', app='default').\n"
     ]
    },
    {
     "data": {
      "text/plain": [
       "DeploymentHandle(deployment='Translator')"
      ]
     },
     "execution_count": 39,
     "metadata": {},
     "output_type": "execute_result"
    }
   ],
   "source": [
    "serve.run(translator_app)"
   ]
  },
  {
   "cell_type": "code",
   "execution_count": 40,
   "id": "8b78c515-031b-45a8-9a7b-1aec59901cf6",
   "metadata": {},
   "outputs": [
    {
     "name": "stdout",
     "output_type": "stream",
     "text": [
      "Bonjour monde!\n"
     ]
    }
   ],
   "source": [
    "import requests\n",
    "\n",
    "english_text = \"Hello world!\"\n",
    "\n",
    "response = requests.post(\"http://127.0.0.1:8000/\", json=english_text)\n",
    "french_text = response.text\n",
    "\n",
    "print(french_text)"
   ]
  },
  {
   "cell_type": "code",
   "execution_count": 43,
   "id": "c062f74b-69bd-4744-8dd8-0489d1fe3778",
   "metadata": {},
   "outputs": [
    {
     "name": "stdout",
     "output_type": "stream",
     "text": [
      "Time taken :  0.25975513458251953\n",
      "Time taken :  0.768261194229126\n",
      "Time taken :  0.2558901309967041\n",
      "Time taken :  0.2621164321899414\n",
      "Time taken :  0.24512028694152832\n",
      "Time taken :  0.272705078125\n",
      "Time taken :  0.24981236457824707\n",
      "Time taken :  0.2615053653717041\n",
      "Time taken :  0.2790205478668213\n",
      "Time taken :  0.25559377670288086\n",
      "Time taken :  0.24851346015930176\n",
      "Time taken :  0.24480414390563965\n",
      "Time taken :  0.26859092712402344\n",
      "Time taken :  0.23463034629821777\n",
      "Time taken :  0.26082420349121094\n",
      "Time taken :  0.24360299110412598\n",
      "Time taken :  0.24718356132507324\n",
      "Time taken :  0.2480611801147461\n",
      "Time taken :  0.25154757499694824\n",
      "Time taken :  0.2278296947479248\n",
      "Time taken :  0.22254419326782227\n",
      "Time taken :  0.21743106842041016\n",
      "Time taken :  0.23230504989624023\n",
      "Time taken :  0.24234509468078613\n",
      "Time taken :  0.2277991771697998\n",
      "Time taken :  0.22005319595336914\n",
      "Time taken :  0.21160531044006348\n",
      "Time taken :  0.2005312442779541\n",
      "Time taken :  0.19638991355895996\n",
      "Time taken :  0.22441816329956055\n",
      "Time taken :  0.20355868339538574\n",
      "Time taken :  0.2230510711669922\n",
      "Time taken :  0.19834017753601074\n",
      "Time taken :  0.22936034202575684\n",
      "Time taken :  0.1949934959411621\n",
      "Time taken :  0.21847796440124512\n",
      "Time taken :  0.19182419776916504\n",
      "Time taken :  0.2086334228515625\n",
      "Time taken :  0.2002863883972168\n",
      "Time taken :  0.23400592803955078\n",
      "Time taken :  0.19294977188110352\n",
      "Time taken :  0.20111680030822754\n",
      "Time taken :  0.19288349151611328\n",
      "Time taken :  0.1976783275604248\n",
      "Time taken :  0.1939537525177002\n",
      "Time taken :  0.1793348789215088\n",
      "Time taken :  0.17586159706115723\n",
      "Time taken :  0.1718885898590088\n",
      "Time taken :  0.16942453384399414\n",
      "Time taken :  0.16780591011047363\n",
      "Time taken :  0.16952991485595703\n",
      "Time taken :  0.1650409698486328\n",
      "Time taken :  0.18286728858947754\n",
      "Time taken :  0.1736307144165039\n",
      "Time taken :  0.17560029029846191\n",
      "Time taken :  0.17935824394226074\n",
      "Time taken :  0.18066668510437012\n",
      "Time taken :  0.1654677391052246\n",
      "Time taken :  0.16490650177001953\n",
      "Time taken :  0.17391324043273926\n",
      "Time taken :  0.16452288627624512\n",
      "Time taken :  0.18518519401550293\n",
      "Time taken :  0.15697336196899414\n",
      "Time taken :  0.18381309509277344\n",
      "Time taken :  0.1634371280670166\n",
      "Time taken :  0.16970276832580566\n",
      "Time taken :  0.16259098052978516\n",
      "Time taken :  0.1625971794128418\n",
      "Time taken :  0.16026806831359863\n",
      "Time taken :  0.17217326164245605\n",
      "Time taken :  0.1625673770904541\n",
      "Time taken :  0.17114019393920898\n",
      "Time taken :  0.16899967193603516\n",
      "Time taken :  0.16958141326904297\n",
      "Time taken :  0.1840076446533203\n",
      "Time taken :  0.1609511375427246\n",
      "Time taken :  0.15805959701538086\n",
      "Time taken :  0.1587831974029541\n",
      "Time taken :  0.18773674964904785\n",
      "Time taken :  0.17699623107910156\n",
      "Time taken :  0.15550613403320312\n",
      "Time taken :  0.15682363510131836\n",
      "Time taken :  0.15755581855773926\n",
      "Time taken :  0.1825852394104004\n",
      "Time taken :  0.1663973331451416\n",
      "Time taken :  0.16628408432006836\n",
      "Time taken :  0.1684272289276123\n",
      "Time taken :  0.1622016429901123\n",
      "Time taken :  0.16258835792541504\n",
      "Time taken :  0.15627813339233398\n",
      "Time taken :  0.1943373680114746\n",
      "Time taken :  0.17527031898498535\n",
      "Time taken :  0.1571483612060547\n",
      "Time taken :  0.16030001640319824\n",
      "Time taken :  0.15925002098083496\n",
      "Time taken :  0.19259858131408691\n",
      "Time taken :  0.1622936725616455\n",
      "Time taken :  0.15954875946044922\n",
      "Time taken :  0.1682126522064209\n",
      "Time taken :  0.16367602348327637\n"
     ]
    }
   ],
   "source": [
    "import time \n",
    "for i in range(100):\n",
    "    st = time.time()\n",
    "    response = requests.post(\"http://127.0.0.1:8000/\", json=english_text)\n",
    "    french_text = response.text\n",
    "    stop_time = time.time()\n",
    "    \n",
    "    print(\"Time taken : \", stop_time - st)\n",
    "    \n",
    "    "
   ]
  },
  {
   "cell_type": "code",
   "execution_count": null,
   "id": "4b8ea8e1-4ef8-4dea-9596-3c1c884223df",
   "metadata": {},
   "outputs": [],
   "source": []
  }
 ],
 "metadata": {
  "kernelspec": {
   "display_name": "Python 3 (ipykernel)",
   "language": "python",
   "name": "python3"
  },
  "language_info": {
   "codemirror_mode": {
    "name": "ipython",
    "version": 3
   },
   "file_extension": ".py",
   "mimetype": "text/x-python",
   "name": "python",
   "nbconvert_exporter": "python",
   "pygments_lexer": "ipython3",
   "version": "3.10.14"
  }
 },
 "nbformat": 4,
 "nbformat_minor": 5
}
