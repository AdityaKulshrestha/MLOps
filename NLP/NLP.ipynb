{
 "cells": [
  {
   "cell_type": "markdown",
   "metadata": {},
   "source": [
    "## ETL Pipeline"
   ]
  },
  {
   "cell_type": "code",
   "execution_count": 1,
   "metadata": {},
   "outputs": [],
   "source": [
    "import requests\n",
    "import pandas as pd\n",
    "from sqlalchemy import create_engine"
   ]
  },
  {
   "cell_type": "code",
   "execution_count": 2,
   "metadata": {},
   "outputs": [],
   "source": [
    "def extract() -> dict:\n",
    "\n",
    "  API_URL = \"http://universities.hipolabs.com/search?country=United+States\"\n",
    "  data = requests.get(API_URL).json()\n",
    "  return data"
   ]
  },
  {
   "cell_type": "code",
   "execution_count": 3,
   "metadata": {},
   "outputs": [
    {
     "name": "stdout",
     "output_type": "stream",
     "text": [
      "{'name': 'Marywood University', 'alpha_two_code': 'US', 'country': 'United States', 'web_pages': ['http://www.marywood.edu'], 'state-province': None, 'domains': ['marywood.edu']}\n"
     ]
    }
   ],
   "source": [
    "data = extract()\n",
    "print(data[0])"
   ]
  },
  {
   "cell_type": "code",
   "execution_count": 4,
   "metadata": {},
   "outputs": [],
   "source": [
    "def transform(data: dict) -> pd.DataFrame:\n",
    "  df = pd.DataFrame(data)\n",
    "  print(\"Total number of universities\", len(df))\n",
    "  df = df[df[\"name\"].str.contains(\"Oklahoma\")]\n",
    "  print(\"Total number of universities in Oklahoma\", len(df))\n",
    "  df[\"domains\"] = [\",\".join(map(str,l)) for l in df[\"domains\"]]\n",
    "  df[\"web_pages\"] = [\",\".join(map(str,l)) for l in df[\"web_pages\"]]\n",
    "  df = df.reset_index(drop=True)\n",
    "  return df[[\"domains\", \"country\", \"web_pages\", \"name\"]]"
   ]
  },
  {
   "cell_type": "code",
   "execution_count": 5,
   "metadata": {},
   "outputs": [],
   "source": [
    "def load(df: pd.DataFrame) -> None:\n",
    "  disk_engine = create_engine(\"sqlite:///universities.db\")\n",
    "  df.to_sql(\"ok_uni\", disk_engine, if_exists=\"replace\")\n",
    "  df.to_csv(\"test.csv\")"
   ]
  },
  {
   "cell_type": "code",
   "execution_count": 6,
   "metadata": {},
   "outputs": [
    {
     "name": "stdout",
     "output_type": "stream",
     "text": [
      "Total number of universities 2307\n",
      "Total number of universities in Oklahoma 12\n"
     ]
    }
   ],
   "source": [
    "transformed_data = transform(data=data)"
   ]
  },
  {
   "cell_type": "code",
   "execution_count": 7,
   "metadata": {},
   "outputs": [
    {
     "data": {
      "text/html": [
       "<div>\n",
       "<style scoped>\n",
       "    .dataframe tbody tr th:only-of-type {\n",
       "        vertical-align: middle;\n",
       "    }\n",
       "\n",
       "    .dataframe tbody tr th {\n",
       "        vertical-align: top;\n",
       "    }\n",
       "\n",
       "    .dataframe thead th {\n",
       "        text-align: right;\n",
       "    }\n",
       "</style>\n",
       "<table border=\"1\" class=\"dataframe\">\n",
       "  <thead>\n",
       "    <tr style=\"text-align: right;\">\n",
       "      <th></th>\n",
       "      <th>domains</th>\n",
       "      <th>country</th>\n",
       "      <th>web_pages</th>\n",
       "      <th>name</th>\n",
       "    </tr>\n",
       "  </thead>\n",
       "  <tbody>\n",
       "    <tr>\n",
       "      <th>0</th>\n",
       "      <td>uco.edu</td>\n",
       "      <td>United States</td>\n",
       "      <td>http://www.uco.edu/</td>\n",
       "      <td>University of Central Oklahoma</td>\n",
       "    </tr>\n",
       "    <tr>\n",
       "      <th>1</th>\n",
       "      <td>oc.edu</td>\n",
       "      <td>United States</td>\n",
       "      <td>http://www.oc.edu/</td>\n",
       "      <td>Oklahoma Christian University</td>\n",
       "    </tr>\n",
       "    <tr>\n",
       "      <th>2</th>\n",
       "      <td>okbu.edu</td>\n",
       "      <td>United States</td>\n",
       "      <td>http://www.okbu.edu/</td>\n",
       "      <td>Oklahoma Baptist University</td>\n",
       "    </tr>\n",
       "    <tr>\n",
       "      <th>3</th>\n",
       "      <td>okcu.edu</td>\n",
       "      <td>United States</td>\n",
       "      <td>http://www.okcu.edu/</td>\n",
       "      <td>Oklahoma City University</td>\n",
       "    </tr>\n",
       "    <tr>\n",
       "      <th>4</th>\n",
       "      <td>okstate.edu</td>\n",
       "      <td>United States</td>\n",
       "      <td>http://www.okstate.edu/</td>\n",
       "      <td>Oklahoma State University</td>\n",
       "    </tr>\n",
       "  </tbody>\n",
       "</table>\n",
       "</div>"
      ],
      "text/plain": [
       "       domains        country                web_pages  \\\n",
       "0      uco.edu  United States      http://www.uco.edu/   \n",
       "1       oc.edu  United States       http://www.oc.edu/   \n",
       "2     okbu.edu  United States     http://www.okbu.edu/   \n",
       "3     okcu.edu  United States     http://www.okcu.edu/   \n",
       "4  okstate.edu  United States  http://www.okstate.edu/   \n",
       "\n",
       "                             name  \n",
       "0  University of Central Oklahoma  \n",
       "1   Oklahoma Christian University  \n",
       "2     Oklahoma Baptist University  \n",
       "3        Oklahoma City University  \n",
       "4       Oklahoma State University  "
      ]
     },
     "execution_count": 7,
     "metadata": {},
     "output_type": "execute_result"
    }
   ],
   "source": [
    "transformed_data.head()"
   ]
  },
  {
   "cell_type": "code",
   "execution_count": 8,
   "metadata": {},
   "outputs": [],
   "source": [
    "load(transformed_data)"
   ]
  },
  {
   "cell_type": "markdown",
   "metadata": {},
   "source": [
    "## Visualization"
   ]
  },
  {
   "cell_type": "code",
   "execution_count": 9,
   "metadata": {},
   "outputs": [],
   "source": [
    "import matplotlib.pyplot as plt\n",
    "import numpy as np"
   ]
  },
  {
   "cell_type": "code",
   "execution_count": 10,
   "metadata": {},
   "outputs": [],
   "source": [
    "N_points = 100000\n",
    "n_bins = 20"
   ]
  },
  {
   "cell_type": "code",
   "execution_count": 11,
   "metadata": {},
   "outputs": [],
   "source": [
    "rng = np.random.default_rng(N_points)"
   ]
  },
  {
   "cell_type": "code",
   "execution_count": 12,
   "metadata": {},
   "outputs": [],
   "source": [
    "dist1 = rng.standard_normal(N_points)\n",
    "dist2 = 0.4 * rng.standard_normal(N_points)"
   ]
  },
  {
   "cell_type": "code",
   "execution_count": 13,
   "metadata": {},
   "outputs": [
    {
     "data": {
      "image/png": "[encoded data removed]",
      "text/plain": [
       "<Figure size 640x480 with 2 Axes>"
      ]
     },
     "metadata": {},
     "output_type": "display_data"
    }
   ],
   "source": [
    "import matplotlib.pyplot as plt\n",
    "\n",
    "axs = []\n",
    "for i in range(2):\n",
    "    ax = plt.subplot(121 + int(i))  # Adjusting subplot index\n",
    "    axs.append(ax)\n",
    "plt.tight_layout()\n",
    "axs[0].hist(dist1, bins=n_bins)\n",
    "axs[1].hist(dist1, bins=n_bins)\n",
    "plt.show()"
   ]
  },
  {
   "cell_type": "markdown",
   "metadata": {},
   "source": [
    "## Feature Engineering"
   ]
  },
  {
   "cell_type": "code",
   "execution_count": null,
   "metadata": {},
   "outputs": [],
   "source": [
    "!pip install autofeat"
   ]
  },
  {
   "cell_type": "code",
   "execution_count": 16,
   "metadata": {},
   "outputs": [
    {
     "name": "stderr",
     "output_type": "stream",
     "text": [
      "/home/akarx/MLOps/mlops_venv/lib/python3.10/site-packages/autofeat/featsel.py:270: FutureWarning: Series.ravel is deprecated. The underlying array is already 1D, so ravel is not necessary.  Use `to_numpy()` for conversion to a numpy array instead.\n",
      "  if np.max(np.abs(correlations[c].ravel()[:i])) < 0.9:\n"
     ]
    },
    {
     "name": "stdout",
     "output_type": "stream",
     "text": [
      "Final Accuracy: 1.0000\n"
     ]
    }
   ],
   "source": [
    "from autofeat import AutoFeatClassifier\n",
    "from sklearn.model_selection import train_test_split\n",
    "\n",
    "from sklearn.datasets import load_wine\n",
    "data = load_wine()\n",
    "X,y = data.data, data.target\n",
    "X_train, X_test, y_train, y_test = train_test_split(X, y,test_size=.3,random_state =0)\n",
    "model = AutoFeatClassifier()\n",
    "df = model.fit_transform(X, y)\n",
    "y_pred = model.predict(X_test)\n",
    "print(\"Final Accuracy: %.4f\" % model.score(df, y))"
   ]
  },
  {
   "cell_type": "code",
   "execution_count": 17,
   "metadata": {},
   "outputs": [
    {
     "name": "stdout",
     "output_type": "stream",
     "text": [
      "[featsel] Scaling data..."
     ]
    },
    {
     "name": "stderr",
     "output_type": "stream",
     "text": [
      "/home/akarx/MLOps/mlops_venv/lib/python3.10/site-packages/sklearn/utils/validation.py:1310: DataConversionWarning: A column-vector y was passed when a 1d array was expected. Please change the shape of y to (n_samples, ), for example using ravel().\n",
      "  y = column_or_1d(y, warn=True)\n",
      "2024-06-25 08:03:36,714 INFO: [featsel] Feature selection run 1/5\n",
      "2024-06-25 08:03:36,751 INFO: [featsel] Feature selection run 2/5\n",
      "2024-06-25 08:03:36,791 INFO: [featsel] Feature selection run 3/5\n",
      "2024-06-25 08:03:36,828 INFO: [featsel] Feature selection run 4/5\n",
      "2024-06-25 08:03:36,862 INFO: [featsel] Feature selection run 5/5\n",
      "2024-06-25 08:03:36,905 INFO: [featsel] 9 features after 5 feature selection runs\n",
      "/home/akarx/MLOps/mlops_venv/lib/python3.10/site-packages/autofeat/featsel.py:270: FutureWarning: Series.ravel is deprecated. The underlying array is already 1D, so ravel is not necessary.  Use `to_numpy()` for conversion to a numpy array instead.\n",
      "  if np.max(np.abs(correlations[c].ravel()[:i])) < 0.9:\n",
      "2024-06-25 08:03:36,906 INFO: [featsel] 9 features after correlation filtering\n"
     ]
    },
    {
     "name": "stdout",
     "output_type": "stream",
     "text": [
      "done.\n"
     ]
    },
    {
     "name": "stderr",
     "output_type": "stream",
     "text": [
      "2024-06-25 08:03:36,917 INFO: [featsel] 9 features after noise filtering\n"
     ]
    }
   ],
   "source": [
    "from autofeat import FeatureSelector\n",
    "fsel = FeatureSelector(verbose=1)\n",
    "new_X = fsel.fit_transform(pd.DataFrame(X), pd.DataFrame(y))"
   ]
  },
  {
   "cell_type": "code",
   "execution_count": 18,
   "metadata": {},
   "outputs": [
    {
     "data": {
      "text/html": [
       "<div>\n",
       "<style scoped>\n",
       "    .dataframe tbody tr th:only-of-type {\n",
       "        vertical-align: middle;\n",
       "    }\n",
       "\n",
       "    .dataframe tbody tr th {\n",
       "        vertical-align: top;\n",
       "    }\n",
       "\n",
       "    .dataframe thead th {\n",
       "        text-align: right;\n",
       "    }\n",
       "</style>\n",
       "<table border=\"1\" class=\"dataframe\">\n",
       "  <thead>\n",
       "    <tr style=\"text-align: right;\">\n",
       "      <th></th>\n",
       "      <th>0</th>\n",
       "      <th>3</th>\n",
       "      <th>6</th>\n",
       "      <th>9</th>\n",
       "      <th>10</th>\n",
       "      <th>11</th>\n",
       "      <th>12</th>\n",
       "      <th>1</th>\n",
       "      <th>2</th>\n",
       "    </tr>\n",
       "  </thead>\n",
       "  <tbody>\n",
       "    <tr>\n",
       "      <th>0</th>\n",
       "      <td>14.23</td>\n",
       "      <td>15.6</td>\n",
       "      <td>3.06</td>\n",
       "      <td>5.64</td>\n",
       "      <td>1.04</td>\n",
       "      <td>3.92</td>\n",
       "      <td>1065.0</td>\n",
       "      <td>1.71</td>\n",
       "      <td>2.43</td>\n",
       "    </tr>\n",
       "    <tr>\n",
       "      <th>1</th>\n",
       "      <td>13.20</td>\n",
       "      <td>11.2</td>\n",
       "      <td>2.76</td>\n",
       "      <td>4.38</td>\n",
       "      <td>1.05</td>\n",
       "      <td>3.40</td>\n",
       "      <td>1050.0</td>\n",
       "      <td>1.78</td>\n",
       "      <td>2.14</td>\n",
       "    </tr>\n",
       "    <tr>\n",
       "      <th>2</th>\n",
       "      <td>13.16</td>\n",
       "      <td>18.6</td>\n",
       "      <td>3.24</td>\n",
       "      <td>5.68</td>\n",
       "      <td>1.03</td>\n",
       "      <td>3.17</td>\n",
       "      <td>1185.0</td>\n",
       "      <td>2.36</td>\n",
       "      <td>2.67</td>\n",
       "    </tr>\n",
       "    <tr>\n",
       "      <th>3</th>\n",
       "      <td>14.37</td>\n",
       "      <td>16.8</td>\n",
       "      <td>3.49</td>\n",
       "      <td>7.80</td>\n",
       "      <td>0.86</td>\n",
       "      <td>3.45</td>\n",
       "      <td>1480.0</td>\n",
       "      <td>1.95</td>\n",
       "      <td>2.50</td>\n",
       "    </tr>\n",
       "    <tr>\n",
       "      <th>4</th>\n",
       "      <td>13.24</td>\n",
       "      <td>21.0</td>\n",
       "      <td>2.69</td>\n",
       "      <td>4.32</td>\n",
       "      <td>1.04</td>\n",
       "      <td>2.93</td>\n",
       "      <td>735.0</td>\n",
       "      <td>2.59</td>\n",
       "      <td>2.87</td>\n",
       "    </tr>\n",
       "  </tbody>\n",
       "</table>\n",
       "</div>"
      ],
      "text/plain": [
       "      0     3     6     9     10    11      12    1     2 \n",
       "0  14.23  15.6  3.06  5.64  1.04  3.92  1065.0  1.71  2.43\n",
       "1  13.20  11.2  2.76  4.38  1.05  3.40  1050.0  1.78  2.14\n",
       "2  13.16  18.6  3.24  5.68  1.03  3.17  1185.0  2.36  2.67\n",
       "3  14.37  16.8  3.49  7.80  0.86  3.45  1480.0  1.95  2.50\n",
       "4  13.24  21.0  2.69  4.32  1.04  2.93   735.0  2.59  2.87"
      ]
     },
     "execution_count": 18,
     "metadata": {},
     "output_type": "execute_result"
    }
   ],
   "source": [
    "new_X.head()"
   ]
  },
  {
   "cell_type": "markdown",
   "metadata": {},
   "source": [
    "## Data Versioning"
   ]
  },
  {
   "cell_type": "code",
   "execution_count": null,
   "metadata": {},
   "outputs": [],
   "source": [
    "!pip install dvc"
   ]
  },
  {
   "cell_type": "code",
   "execution_count": 24,
   "metadata": {},
   "outputs": [
    {
     "name": "stdout",
     "output_type": "stream",
     "text": [
      "\u001b[31mERROR\u001b[39m: you are not inside of a DVC repository (checked up to mount point '/')\n",
      "\u001b[0m"
     ]
    }
   ],
   "source": [
    "!dvc add test.csv"
   ]
  },
  {
   "cell_type": "code",
   "execution_count": 21,
   "metadata": {},
   "outputs": [],
   "source": [
    "!mkdir data\n"
   ]
  },
  {
   "cell_type": "code",
   "execution_count": 27,
   "metadata": {},
   "outputs": [
    {
     "name": "stdout",
     "output_type": "stream",
     "text": [
      "/home/akarx/MLOps_NLP/data\n"
     ]
    },
    {
     "name": "stderr",
     "output_type": "stream",
     "text": [
      "/home/akarx/MLOps/mlops_venv/lib/python3.10/site-packages/IPython/core/magics/osm.py:417: UserWarning: This is now an optional IPython functionality, setting dhist requires you to install the `pickleshare` library.\n",
      "  self.shell.db['dhist'] = compress_dhist(dhist)[-100:]\n"
     ]
    }
   ],
   "source": [
    "%cd /home/akarx/MLOps_NLP/data"
   ]
  },
  {
   "cell_type": "code",
   "execution_count": 28,
   "metadata": {},
   "outputs": [
    {
     "name": "stdout",
     "output_type": "stream",
     "text": [
      "Initialized DVC repository.\n",
      "\n",
      "\u001b[31m+---------------------------------------------------------------------+\n",
      "\u001b[0m\u001b[31m|\u001b[0m                                                                     \u001b[31m|\u001b[0m\n",
      "\u001b[31m|\u001b[0m        DVC has enabled anonymous aggregate usage analytics.         \u001b[31m|\u001b[0m\n",
      "\u001b[31m|\u001b[0m     Read the analytics documentation (and how to opt-out) here:     \u001b[31m|\u001b[0m\n",
      "\u001b[31m|\u001b[0m             <\u001b[36mhttps://dvc.org/doc/user-guide/analytics\u001b[39m>              \u001b[31m|\u001b[0m\n",
      "\u001b[31m|\u001b[0m                                                                     \u001b[31m|\u001b[0m\n",
      "\u001b[31m+---------------------------------------------------------------------+\n",
      "\u001b[0m\n",
      "\u001b[33mWhat's next?\u001b[39m\n",
      "\u001b[33m------------\u001b[39m\n",
      "- Check out the documentation: <\u001b[36mhttps://dvc.org/doc\u001b[39m>\n",
      "- Get help and share ideas: <\u001b[36mhttps://dvc.org/chat\u001b[39m>\n",
      "- Star us on GitHub: <\u001b[36mhttps://github.com/iterative/dvc\u001b[39m>\n",
      "\u001b[0m"
     ]
    }
   ],
   "source": [
    "!dvc init --no-scm"
   ]
  },
  {
   "cell_type": "code",
   "execution_count": 30,
   "metadata": {},
   "outputs": [],
   "source": [
    "!mv /home/akarx/MLOps_NLP/test.csv /home/akarx/MLOps_NLP/data"
   ]
  },
  {
   "cell_type": "code",
   "execution_count": 32,
   "metadata": {},
   "outputs": [
    {
     "name": "stdout",
     "output_type": "stream",
     "text": [
      "\u001b[?25l\u001b[32m⠋\u001b[0m Checking graph                                       core\u001b[39m>\n",
      "Adding...                                                                       \n",
      "!\u001b[A\n",
      "Collecting files and computing hashes in test.csv     |0.00 [00:00,     ?file/s]\u001b[A\n",
      "                                                                                \u001b[A\n",
      "!\u001b[A\n",
      "  0% Checking cache in '/home/akarx/MLOps_NLP/data/.dvc/cache/files/md5'| |0/? [\u001b[A\n",
      "                                                                                \u001b[A\n",
      "!\u001b[A\n",
      "  0%|          |Adding test.csv to cache              0/1 [00:00<?,     ?file/s]\u001b[A\n",
      "                                                                                \u001b[A\n",
      "!\u001b[A\n",
      "  0%|          |Checking out /home/akarx/MLOps_NLP/dat0/1 [00:00<?,    ?files/s]\u001b[A\n",
      "100% Adding...|████████████████████████████████████████|1/1 [00:00, 57.25file/s]\u001b[A\n",
      "\u001b[0m"
     ]
    }
   ],
   "source": [
    "!dvc add test.csv"
   ]
  },
  {
   "cell_type": "code",
   "execution_count": 34,
   "metadata": {},
   "outputs": [
    {
     "name": "stdout",
     "output_type": "stream",
     "text": [
      "/home/akarx/MLOps_NLP\n"
     ]
    },
    {
     "name": "stderr",
     "output_type": "stream",
     "text": [
      "/home/akarx/MLOps/mlops_venv/lib/python3.10/site-packages/IPython/core/magics/osm.py:417: UserWarning: This is now an optional IPython functionality, setting dhist requires you to install the `pickleshare` library.\n",
      "  self.shell.db['dhist'] = compress_dhist(dhist)[-100:]\n"
     ]
    }
   ],
   "source": [
    "%cd .."
   ]
  },
  {
   "cell_type": "markdown",
   "metadata": {},
   "source": [
    "## Model Building"
   ]
  },
  {
   "cell_type": "code",
   "execution_count": 35,
   "metadata": {},
   "outputs": [
    {
     "name": "stdout",
     "output_type": "stream",
     "text": [
      "Collecting pickle5\n",
      "  Downloading pickle5-0.0.11.tar.gz (132 kB)\n",
      "\u001b[2K     \u001b[90m━━━━━━━━━━━━━━━━━━━━━━━━━━━━━━━━━━━━━\u001b[0m \u001b[32m132.1/132.1 KB\u001b[0m \u001b[31m274.8 kB/s\u001b[0m eta \u001b[36m0:00:00\u001b[0ma \u001b[36m0:00:01\u001b[0m\n",
      "\u001b[?25h  Preparing metadata (setup.py) ... \u001b[?25ldone\n",
      "\u001b[?25hUsing legacy 'setup.py install' for pickle5, since package 'wheel' is not installed.\n",
      "Installing collected packages: pickle5\n",
      "  Running setup.py install for pickle5 ... \u001b[?25ldone\n",
      "\u001b[?25hSuccessfully installed pickle5-0.0.11\n"
     ]
    }
   ],
   "source": [
    "!pip install pickle5"
   ]
  },
  {
   "cell_type": "code",
   "execution_count": 36,
   "metadata": {},
   "outputs": [],
   "source": [
    "import os\n",
    "import pickle5 as pickle\n",
    "import sys\n",
    "\n",
    "import numpy as np\n",
    "import yaml\n",
    "from sklearn.ensemble import RandomForestClassifier"
   ]
  },
  {
   "cell_type": "code",
   "execution_count": 37,
   "metadata": {},
   "outputs": [],
   "source": [
    "seed = 42\n",
    "n_est = 100\n",
    "min_split = 2\n",
    "n_jobs = 2"
   ]
  },
  {
   "cell_type": "code",
   "execution_count": 38,
   "metadata": {},
   "outputs": [],
   "source": [
    "# params = yaml.safe_load(open(\"param.yaml\"))"
   ]
  },
  {
   "cell_type": "code",
   "execution_count": 39,
   "metadata": {},
   "outputs": [],
   "source": [
    "clf = RandomForestClassifier(\n",
    "    n_estimators = n_est,\n",
    "    min_samples_split = min_split,\n",
    "    n_jobs = n_jobs,\n",
    "    random_state=seed\n",
    ")"
   ]
  },
  {
   "cell_type": "code",
   "execution_count": 40,
   "metadata": {},
   "outputs": [
    {
     "data": {
      "text/html": [
       "<style>#sk-container-id-1 {\n",
       "  /* Definition of color scheme common for light and dark mode */\n",
       "  --sklearn-color-text: black;\n",
       "  --sklearn-color-line: gray;\n",
       "  /* Definition of color scheme for unfitted estimators */\n",
       "  --sklearn-color-unfitted-level-0: #fff5e6;\n",
       "  --sklearn-color-unfitted-level-1: #f6e4d2;\n",
       "  --sklearn-color-unfitted-level-2: #ffe0b3;\n",
       "  --sklearn-color-unfitted-level-3: chocolate;\n",
       "  /* Definition of color scheme for fitted estimators */\n",
       "  --sklearn-color-fitted-level-0: #f0f8ff;\n",
       "  --sklearn-color-fitted-level-1: #d4ebff;\n",
       "  --sklearn-color-fitted-level-2: #b3dbfd;\n",
       "  --sklearn-color-fitted-level-3: cornflowerblue;\n",
       "\n",
       "  /* Specific color for light theme */\n",
       "  --sklearn-color-text-on-default-background: var(--sg-text-color, var(--theme-code-foreground, var(--jp-content-font-color1, black)));\n",
       "  --sklearn-color-background: var(--sg-background-color, var(--theme-background, var(--jp-layout-color0, white)));\n",
       "  --sklearn-color-border-box: var(--sg-text-color, var(--theme-code-foreground, var(--jp-content-font-color1, black)));\n",
       "  --sklearn-color-icon: #696969;\n",
       "\n",
       "  @media (prefers-color-scheme: dark) {\n",
       "    /* Redefinition of color scheme for dark theme */\n",
       "    --sklearn-color-text-on-default-background: var(--sg-text-color, var(--theme-code-foreground, var(--jp-content-font-color1, white)));\n",
       "    --sklearn-color-background: var(--sg-background-color, var(--theme-background, var(--jp-layout-color0, #111)));\n",
       "    --sklearn-color-border-box: var(--sg-text-color, var(--theme-code-foreground, var(--jp-content-font-color1, white)));\n",
       "    --sklearn-color-icon: #878787;\n",
       "  }\n",
       "}\n",
       "\n",
       "#sk-container-id-1 {\n",
       "  color: var(--sklearn-color-text);\n",
       "}\n",
       "\n",
       "#sk-container-id-1 pre {\n",
       "  padding: 0;\n",
       "}\n",
       "\n",
       "#sk-container-id-1 input.sk-hidden--visually {\n",
       "  border: 0;\n",
       "  clip: rect(1px 1px 1px 1px);\n",
       "  clip: rect(1px, 1px, 1px, 1px);\n",
       "  height: 1px;\n",
       "  margin: -1px;\n",
       "  overflow: hidden;\n",
       "  padding: 0;\n",
       "  position: absolute;\n",
       "  width: 1px;\n",
       "}\n",
       "\n",
       "#sk-container-id-1 div.sk-dashed-wrapped {\n",
       "  border: 1px dashed var(--sklearn-color-line);\n",
       "  margin: 0 0.4em 0.5em 0.4em;\n",
       "  box-sizing: border-box;\n",
       "  padding-bottom: 0.4em;\n",
       "  background-color: var(--sklearn-color-background);\n",
       "}\n",
       "\n",
       "#sk-container-id-1 div.sk-container {\n",
       "  /* jupyter's `normalize.less` sets `[hidden] { display: none; }`\n",
       "     but bootstrap.min.css set `[hidden] { display: none !important; }`\n",
       "     so we also need the `!important` here to be able to override the\n",
       "     default hidden behavior on the sphinx rendered scikit-learn.org.\n",
       "     See: https://github.com/scikit-learn/scikit-learn/issues/21755 */\n",
       "  display: inline-block !important;\n",
       "  position: relative;\n",
       "}\n",
       "\n",
       "#sk-container-id-1 div.sk-text-repr-fallback {\n",
       "  display: none;\n",
       "}\n",
       "\n",
       "div.sk-parallel-item,\n",
       "div.sk-serial,\n",
       "div.sk-item {\n",
       "  /* draw centered vertical line to link estimators */\n",
       "  background-image: linear-gradient(var(--sklearn-color-text-on-default-background), var(--sklearn-color-text-on-default-background));\n",
       "  background-size: 2px 100%;\n",
       "  background-repeat: no-repeat;\n",
       "  background-position: center center;\n",
       "}\n",
       "\n",
       "/* Parallel-specific style estimator block */\n",
       "\n",
       "#sk-container-id-1 div.sk-parallel-item::after {\n",
       "  content: \"\";\n",
       "  width: 100%;\n",
       "  border-bottom: 2px solid var(--sklearn-color-text-on-default-background);\n",
       "  flex-grow: 1;\n",
       "}\n",
       "\n",
       "#sk-container-id-1 div.sk-parallel {\n",
       "  display: flex;\n",
       "  align-items: stretch;\n",
       "  justify-content: center;\n",
       "  background-color: var(--sklearn-color-background);\n",
       "  position: relative;\n",
       "}\n",
       "\n",
       "#sk-container-id-1 div.sk-parallel-item {\n",
       "  display: flex;\n",
       "  flex-direction: column;\n",
       "}\n",
       "\n",
       "#sk-container-id-1 div.sk-parallel-item:first-child::after {\n",
       "  align-self: flex-end;\n",
       "  width: 50%;\n",
       "}\n",
       "\n",
       "#sk-container-id-1 div.sk-parallel-item:last-child::after {\n",
       "  align-self: flex-start;\n",
       "  width: 50%;\n",
       "}\n",
       "\n",
       "#sk-container-id-1 div.sk-parallel-item:only-child::after {\n",
       "  width: 0;\n",
       "}\n",
       "\n",
       "/* Serial-specific style estimator block */\n",
       "\n",
       "#sk-container-id-1 div.sk-serial {\n",
       "  display: flex;\n",
       "  flex-direction: column;\n",
       "  align-items: center;\n",
       "  background-color: var(--sklearn-color-background);\n",
       "  padding-right: 1em;\n",
       "  padding-left: 1em;\n",
       "}\n",
       "\n",
       "\n",
       "/* Toggleable style: style used for estimator/Pipeline/ColumnTransformer box that is\n",
       "clickable and can be expanded/collapsed.\n",
       "- Pipeline and ColumnTransformer use this feature and define the default style\n",
       "- Estimators will overwrite some part of the style using the `sk-estimator` class\n",
       "*/\n",
       "\n",
       "/* Pipeline and ColumnTransformer style (default) */\n",
       "\n",
       "#sk-container-id-1 div.sk-toggleable {\n",
       "  /* Default theme specific background. It is overwritten whether we have a\n",
       "  specific estimator or a Pipeline/ColumnTransformer */\n",
       "  background-color: var(--sklearn-color-background);\n",
       "}\n",
       "\n",
       "/* Toggleable label */\n",
       "#sk-container-id-1 label.sk-toggleable__label {\n",
       "  cursor: pointer;\n",
       "  display: block;\n",
       "  width: 100%;\n",
       "  margin-bottom: 0;\n",
       "  padding: 0.5em;\n",
       "  box-sizing: border-box;\n",
       "  text-align: center;\n",
       "}\n",
       "\n",
       "#sk-container-id-1 label.sk-toggleable__label-arrow:before {\n",
       "  /* Arrow on the left of the label */\n",
       "  content: \"▸\";\n",
       "  float: left;\n",
       "  margin-right: 0.25em;\n",
       "  color: var(--sklearn-color-icon);\n",
       "}\n",
       "\n",
       "#sk-container-id-1 label.sk-toggleable__label-arrow:hover:before {\n",
       "  color: var(--sklearn-color-text);\n",
       "}\n",
       "\n",
       "/* Toggleable content - dropdown */\n",
       "\n",
       "#sk-container-id-1 div.sk-toggleable__content {\n",
       "  max-height: 0;\n",
       "  max-width: 0;\n",
       "  overflow: hidden;\n",
       "  text-align: left;\n",
       "  /* unfitted */\n",
       "  background-color: var(--sklearn-color-unfitted-level-0);\n",
       "}\n",
       "\n",
       "#sk-container-id-1 div.sk-toggleable__content.fitted {\n",
       "  /* fitted */\n",
       "  background-color: var(--sklearn-color-fitted-level-0);\n",
       "}\n",
       "\n",
       "#sk-container-id-1 div.sk-toggleable__content pre {\n",
       "  margin: 0.2em;\n",
       "  border-radius: 0.25em;\n",
       "  color: var(--sklearn-color-text);\n",
       "  /* unfitted */\n",
       "  background-color: var(--sklearn-color-unfitted-level-0);\n",
       "}\n",
       "\n",
       "#sk-container-id-1 div.sk-toggleable__content.fitted pre {\n",
       "  /* unfitted */\n",
       "  background-color: var(--sklearn-color-fitted-level-0);\n",
       "}\n",
       "\n",
       "#sk-container-id-1 input.sk-toggleable__control:checked~div.sk-toggleable__content {\n",
       "  /* Expand drop-down */\n",
       "  max-height: 200px;\n",
       "  max-width: 100%;\n",
       "  overflow: auto;\n",
       "}\n",
       "\n",
       "#sk-container-id-1 input.sk-toggleable__control:checked~label.sk-toggleable__label-arrow:before {\n",
       "  content: \"▾\";\n",
       "}\n",
       "\n",
       "/* Pipeline/ColumnTransformer-specific style */\n",
       "\n",
       "#sk-container-id-1 div.sk-label input.sk-toggleable__control:checked~label.sk-toggleable__label {\n",
       "  color: var(--sklearn-color-text);\n",
       "  background-color: var(--sklearn-color-unfitted-level-2);\n",
       "}\n",
       "\n",
       "#sk-container-id-1 div.sk-label.fitted input.sk-toggleable__control:checked~label.sk-toggleable__label {\n",
       "  background-color: var(--sklearn-color-fitted-level-2);\n",
       "}\n",
       "\n",
       "/* Estimator-specific style */\n",
       "\n",
       "/* Colorize estimator box */\n",
       "#sk-container-id-1 div.sk-estimator input.sk-toggleable__control:checked~label.sk-toggleable__label {\n",
       "  /* unfitted */\n",
       "  background-color: var(--sklearn-color-unfitted-level-2);\n",
       "}\n",
       "\n",
       "#sk-container-id-1 div.sk-estimator.fitted input.sk-toggleable__control:checked~label.sk-toggleable__label {\n",
       "  /* fitted */\n",
       "  background-color: var(--sklearn-color-fitted-level-2);\n",
       "}\n",
       "\n",
       "#sk-container-id-1 div.sk-label label.sk-toggleable__label,\n",
       "#sk-container-id-1 div.sk-label label {\n",
       "  /* The background is the default theme color */\n",
       "  color: var(--sklearn-color-text-on-default-background);\n",
       "}\n",
       "\n",
       "/* On hover, darken the color of the background */\n",
       "#sk-container-id-1 div.sk-label:hover label.sk-toggleable__label {\n",
       "  color: var(--sklearn-color-text);\n",
       "  background-color: var(--sklearn-color-unfitted-level-2);\n",
       "}\n",
       "\n",
       "/* Label box, darken color on hover, fitted */\n",
       "#sk-container-id-1 div.sk-label.fitted:hover label.sk-toggleable__label.fitted {\n",
       "  color: var(--sklearn-color-text);\n",
       "  background-color: var(--sklearn-color-fitted-level-2);\n",
       "}\n",
       "\n",
       "/* Estimator label */\n",
       "\n",
       "#sk-container-id-1 div.sk-label label {\n",
       "  font-family: monospace;\n",
       "  font-weight: bold;\n",
       "  display: inline-block;\n",
       "  line-height: 1.2em;\n",
       "}\n",
       "\n",
       "#sk-container-id-1 div.sk-label-container {\n",
       "  text-align: center;\n",
       "}\n",
       "\n",
       "/* Estimator-specific */\n",
       "#sk-container-id-1 div.sk-estimator {\n",
       "  font-family: monospace;\n",
       "  border: 1px dotted var(--sklearn-color-border-box);\n",
       "  border-radius: 0.25em;\n",
       "  box-sizing: border-box;\n",
       "  margin-bottom: 0.5em;\n",
       "  /* unfitted */\n",
       "  background-color: var(--sklearn-color-unfitted-level-0);\n",
       "}\n",
       "\n",
       "#sk-container-id-1 div.sk-estimator.fitted {\n",
       "  /* fitted */\n",
       "  background-color: var(--sklearn-color-fitted-level-0);\n",
       "}\n",
       "\n",
       "/* on hover */\n",
       "#sk-container-id-1 div.sk-estimator:hover {\n",
       "  /* unfitted */\n",
       "  background-color: var(--sklearn-color-unfitted-level-2);\n",
       "}\n",
       "\n",
       "#sk-container-id-1 div.sk-estimator.fitted:hover {\n",
       "  /* fitted */\n",
       "  background-color: var(--sklearn-color-fitted-level-2);\n",
       "}\n",
       "\n",
       "/* Specification for estimator info (e.g. \"i\" and \"?\") */\n",
       "\n",
       "/* Common style for \"i\" and \"?\" */\n",
       "\n",
       ".sk-estimator-doc-link,\n",
       "a:link.sk-estimator-doc-link,\n",
       "a:visited.sk-estimator-doc-link {\n",
       "  float: right;\n",
       "  font-size: smaller;\n",
       "  line-height: 1em;\n",
       "  font-family: monospace;\n",
       "  background-color: var(--sklearn-color-background);\n",
       "  border-radius: 1em;\n",
       "  height: 1em;\n",
       "  width: 1em;\n",
       "  text-decoration: none !important;\n",
       "  margin-left: 1ex;\n",
       "  /* unfitted */\n",
       "  border: var(--sklearn-color-unfitted-level-1) 1pt solid;\n",
       "  color: var(--sklearn-color-unfitted-level-1);\n",
       "}\n",
       "\n",
       ".sk-estimator-doc-link.fitted,\n",
       "a:link.sk-estimator-doc-link.fitted,\n",
       "a:visited.sk-estimator-doc-link.fitted {\n",
       "  /* fitted */\n",
       "  border: var(--sklearn-color-fitted-level-1) 1pt solid;\n",
       "  color: var(--sklearn-color-fitted-level-1);\n",
       "}\n",
       "\n",
       "/* On hover */\n",
       "div.sk-estimator:hover .sk-estimator-doc-link:hover,\n",
       ".sk-estimator-doc-link:hover,\n",
       "div.sk-label-container:hover .sk-estimator-doc-link:hover,\n",
       ".sk-estimator-doc-link:hover {\n",
       "  /* unfitted */\n",
       "  background-color: var(--sklearn-color-unfitted-level-3);\n",
       "  color: var(--sklearn-color-background);\n",
       "  text-decoration: none;\n",
       "}\n",
       "\n",
       "div.sk-estimator.fitted:hover .sk-estimator-doc-link.fitted:hover,\n",
       ".sk-estimator-doc-link.fitted:hover,\n",
       "div.sk-label-container:hover .sk-estimator-doc-link.fitted:hover,\n",
       ".sk-estimator-doc-link.fitted:hover {\n",
       "  /* fitted */\n",
       "  background-color: var(--sklearn-color-fitted-level-3);\n",
       "  color: var(--sklearn-color-background);\n",
       "  text-decoration: none;\n",
       "}\n",
       "\n",
       "/* Span, style for the box shown on hovering the info icon */\n",
       ".sk-estimator-doc-link span {\n",
       "  display: none;\n",
       "  z-index: 9999;\n",
       "  position: relative;\n",
       "  font-weight: normal;\n",
       "  right: .2ex;\n",
       "  padding: .5ex;\n",
       "  margin: .5ex;\n",
       "  width: min-content;\n",
       "  min-width: 20ex;\n",
       "  max-width: 50ex;\n",
       "  color: var(--sklearn-color-text);\n",
       "  box-shadow: 2pt 2pt 4pt #999;\n",
       "  /* unfitted */\n",
       "  background: var(--sklearn-color-unfitted-level-0);\n",
       "  border: .5pt solid var(--sklearn-color-unfitted-level-3);\n",
       "}\n",
       "\n",
       ".sk-estimator-doc-link.fitted span {\n",
       "  /* fitted */\n",
       "  background: var(--sklearn-color-fitted-level-0);\n",
       "  border: var(--sklearn-color-fitted-level-3);\n",
       "}\n",
       "\n",
       ".sk-estimator-doc-link:hover span {\n",
       "  display: block;\n",
       "}\n",
       "\n",
       "/* \"?\"-specific style due to the `<a>` HTML tag */\n",
       "\n",
       "#sk-container-id-1 a.estimator_doc_link {\n",
       "  float: right;\n",
       "  font-size: 1rem;\n",
       "  line-height: 1em;\n",
       "  font-family: monospace;\n",
       "  background-color: var(--sklearn-color-background);\n",
       "  border-radius: 1rem;\n",
       "  height: 1rem;\n",
       "  width: 1rem;\n",
       "  text-decoration: none;\n",
       "  /* unfitted */\n",
       "  color: var(--sklearn-color-unfitted-level-1);\n",
       "  border: var(--sklearn-color-unfitted-level-1) 1pt solid;\n",
       "}\n",
       "\n",
       "#sk-container-id-1 a.estimator_doc_link.fitted {\n",
       "  /* fitted */\n",
       "  border: var(--sklearn-color-fitted-level-1) 1pt solid;\n",
       "  color: var(--sklearn-color-fitted-level-1);\n",
       "}\n",
       "\n",
       "/* On hover */\n",
       "#sk-container-id-1 a.estimator_doc_link:hover {\n",
       "  /* unfitted */\n",
       "  background-color: var(--sklearn-color-unfitted-level-3);\n",
       "  color: var(--sklearn-color-background);\n",
       "  text-decoration: none;\n",
       "}\n",
       "\n",
       "#sk-container-id-1 a.estimator_doc_link.fitted:hover {\n",
       "  /* fitted */\n",
       "  background-color: var(--sklearn-color-fitted-level-3);\n",
       "}\n",
       "</style><div id=\"sk-container-id-1\" class=\"sk-top-container\"><div class=\"sk-text-repr-fallback\"><pre>RandomForestClassifier(n_jobs=2, random_state=42)</pre><b>In a Jupyter environment, please rerun this cell to show the HTML representation or trust the notebook. <br />On GitHub, the HTML representation is unable to render, please try loading this page with nbviewer.org.</b></div><div class=\"sk-container\" hidden><div class=\"sk-item\"><div class=\"sk-estimator fitted sk-toggleable\"><input class=\"sk-toggleable__control sk-hidden--visually\" id=\"sk-estimator-id-1\" type=\"checkbox\" checked><label for=\"sk-estimator-id-1\" class=\"sk-toggleable__label fitted sk-toggleable__label-arrow fitted\">&nbsp;&nbsp;RandomForestClassifier<a class=\"sk-estimator-doc-link fitted\" rel=\"noreferrer\" target=\"_blank\" href=\"https://scikit-learn.org/1.5/modules/generated/sklearn.ensemble.RandomForestClassifier.html\">?<span>Documentation for RandomForestClassifier</span></a><span class=\"sk-estimator-doc-link fitted\">i<span>Fitted</span></span></label><div class=\"sk-toggleable__content fitted\"><pre>RandomForestClassifier(n_jobs=2, random_state=42)</pre></div> </div></div></div></div>"
      ],
      "text/plain": [
       "RandomForestClassifier(n_jobs=2, random_state=42)"
      ]
     },
     "execution_count": 40,
     "metadata": {},
     "output_type": "execute_result"
    }
   ],
   "source": [
    "clf.fit(X_train, y_train)"
   ]
  },
  {
   "cell_type": "code",
   "execution_count": 42,
   "metadata": {},
   "outputs": [],
   "source": [
    "filename = \"/home/akarx/MLOps_NLP/data/my_model.pkl\"\n",
    "with open(filename, \"wb\") as fd:\n",
    "    pickle.dump(clf, fd)"
   ]
  },
  {
   "cell_type": "markdown",
   "metadata": {},
   "source": [
    "## Experiment Tracking"
   ]
  },
  {
   "cell_type": "code",
   "execution_count": 43,
   "metadata": {},
   "outputs": [
    {
     "name": "stdout",
     "output_type": "stream",
     "text": [
      "Requirement already satisfied: mlflow in /home/akarx/MLOps/mlops_venv/lib/python3.10/site-packages (2.14.1)\n",
      "Requirement already satisfied: cloudpickle<4 in /home/akarx/MLOps/mlops_venv/lib/python3.10/site-packages (from mlflow) (3.0.0)\n",
      "Requirement already satisfied: graphene<4 in /home/akarx/MLOps/mlops_venv/lib/python3.10/site-packages (from mlflow) (3.3)\n",
      "Requirement already satisfied: docker<8,>=4.0.0 in /home/akarx/MLOps/mlops_venv/lib/python3.10/site-packages (from mlflow) (7.1.0)\n",
      "Requirement already satisfied: sqlalchemy<3,>=1.4.0 in /home/akarx/MLOps/mlops_venv/lib/python3.10/site-packages (from mlflow) (2.0.31)\n",
      "Requirement already satisfied: numpy<2 in /home/akarx/MLOps/mlops_venv/lib/python3.10/site-packages (from mlflow) (1.26.4)\n",
      "Requirement already satisfied: gitpython<4,>=3.1.9 in /home/akarx/MLOps/mlops_venv/lib/python3.10/site-packages (from mlflow) (3.1.43)\n",
      "Requirement already satisfied: alembic!=1.10.0,<2 in /home/akarx/MLOps/mlops_venv/lib/python3.10/site-packages (from mlflow) (1.13.1)\n",
      "Requirement already satisfied: Jinja2<4,>=2.11 in /home/akarx/MLOps/mlops_venv/lib/python3.10/site-packages (from mlflow) (3.1.4)\n",
      "Requirement already satisfied: click<9,>=7.0 in /home/akarx/MLOps/mlops_venv/lib/python3.10/site-packages (from mlflow) (8.1.7)\n",
      "Requirement already satisfied: scikit-learn<2 in /home/akarx/MLOps/mlops_venv/lib/python3.10/site-packages (from mlflow) (1.5.0)\n",
      "Requirement already satisfied: pyarrow<16,>=4.0.0 in /home/akarx/MLOps/mlops_venv/lib/python3.10/site-packages (from mlflow) (15.0.2)\n",
      "Requirement already satisfied: pyyaml<7,>=5.1 in /home/akarx/MLOps/mlops_venv/lib/python3.10/site-packages (from mlflow) (6.0.1)\n",
      "Requirement already satisfied: protobuf<5,>=3.12.0 in /home/akarx/MLOps/mlops_venv/lib/python3.10/site-packages (from mlflow) (4.25.3)\n",
      "Requirement already satisfied: matplotlib<4 in /home/akarx/MLOps/mlops_venv/lib/python3.10/site-packages (from mlflow) (3.9.0)\n",
      "Requirement already satisfied: entrypoints<1 in /home/akarx/MLOps/mlops_venv/lib/python3.10/site-packages (from mlflow) (0.4)\n",
      "Requirement already satisfied: packaging<25 in /home/akarx/MLOps/mlops_venv/lib/python3.10/site-packages (from mlflow) (24.1)\n",
      "Requirement already satisfied: markdown<4,>=3.3 in /home/akarx/MLOps/mlops_venv/lib/python3.10/site-packages (from mlflow) (3.6)\n",
      "Requirement already satisfied: opentelemetry-api<3,>=1.9.0 in /home/akarx/MLOps/mlops_venv/lib/python3.10/site-packages (from mlflow) (1.25.0)\n",
      "Requirement already satisfied: gunicorn<23 in /home/akarx/MLOps/mlops_venv/lib/python3.10/site-packages (from mlflow) (22.0.0)\n",
      "Requirement already satisfied: opentelemetry-sdk<3,>=1.9.0 in /home/akarx/MLOps/mlops_venv/lib/python3.10/site-packages (from mlflow) (1.25.0)\n",
      "Requirement already satisfied: querystring-parser<2 in /home/akarx/MLOps/mlops_venv/lib/python3.10/site-packages (from mlflow) (1.2.4)\n",
      "Requirement already satisfied: sqlparse<1,>=0.4.0 in /home/akarx/MLOps/mlops_venv/lib/python3.10/site-packages (from mlflow) (0.5.0)\n",
      "Requirement already satisfied: cachetools<6,>=5.0.0 in /home/akarx/MLOps/mlops_venv/lib/python3.10/site-packages (from mlflow) (5.3.3)\n",
      "Requirement already satisfied: importlib-metadata!=4.7.0,<8,>=3.7.0 in /home/akarx/MLOps/mlops_venv/lib/python3.10/site-packages (from mlflow) (7.1.0)\n",
      "Requirement already satisfied: pandas<3 in /home/akarx/MLOps/mlops_venv/lib/python3.10/site-packages (from mlflow) (2.2.2)\n",
      "Requirement already satisfied: scipy<2 in /home/akarx/MLOps/mlops_venv/lib/python3.10/site-packages (from mlflow) (1.13.1)\n",
      "Requirement already satisfied: requests<3,>=2.17.3 in /home/akarx/MLOps/mlops_venv/lib/python3.10/site-packages (from mlflow) (2.32.3)\n",
      "Requirement already satisfied: Flask<4 in /home/akarx/MLOps/mlops_venv/lib/python3.10/site-packages (from mlflow) (3.0.3)\n",
      "Requirement already satisfied: pytz<2025 in /home/akarx/MLOps/mlops_venv/lib/python3.10/site-packages (from mlflow) (2024.1)\n",
      "Requirement already satisfied: Mako in /home/akarx/MLOps/mlops_venv/lib/python3.10/site-packages (from alembic!=1.10.0,<2->mlflow) (1.3.5)\n",
      "Requirement already satisfied: typing-extensions>=4 in /home/akarx/MLOps/mlops_venv/lib/python3.10/site-packages (from alembic!=1.10.0,<2->mlflow) (4.12.2)\n",
      "Requirement already satisfied: urllib3>=1.26.0 in /home/akarx/MLOps/mlops_venv/lib/python3.10/site-packages (from docker<8,>=4.0.0->mlflow) (2.2.2)\n",
      "Requirement already satisfied: Werkzeug>=3.0.0 in /home/akarx/MLOps/mlops_venv/lib/python3.10/site-packages (from Flask<4->mlflow) (3.0.3)\n",
      "Requirement already satisfied: itsdangerous>=2.1.2 in /home/akarx/MLOps/mlops_venv/lib/python3.10/site-packages (from Flask<4->mlflow) (2.2.0)\n",
      "Requirement already satisfied: blinker>=1.6.2 in /home/akarx/MLOps/mlops_venv/lib/python3.10/site-packages (from Flask<4->mlflow) (1.8.2)\n",
      "Requirement already satisfied: gitdb<5,>=4.0.1 in /home/akarx/MLOps/mlops_venv/lib/python3.10/site-packages (from gitpython<4,>=3.1.9->mlflow) (4.0.11)\n",
      "Requirement already satisfied: graphql-core<3.3,>=3.1 in /home/akarx/MLOps/mlops_venv/lib/python3.10/site-packages (from graphene<4->mlflow) (3.2.3)\n",
      "Requirement already satisfied: graphql-relay<3.3,>=3.1 in /home/akarx/MLOps/mlops_venv/lib/python3.10/site-packages (from graphene<4->mlflow) (3.2.0)\n",
      "Requirement already satisfied: aniso8601<10,>=8 in /home/akarx/MLOps/mlops_venv/lib/python3.10/site-packages (from graphene<4->mlflow) (9.0.1)\n",
      "Requirement already satisfied: zipp>=0.5 in /home/akarx/MLOps/mlops_venv/lib/python3.10/site-packages (from importlib-metadata!=4.7.0,<8,>=3.7.0->mlflow) (3.19.2)\n",
      "Requirement already satisfied: MarkupSafe>=2.0 in /home/akarx/MLOps/mlops_venv/lib/python3.10/site-packages (from Jinja2<4,>=2.11->mlflow) (2.1.5)\n",
      "Requirement already satisfied: contourpy>=1.0.1 in /home/akarx/MLOps/mlops_venv/lib/python3.10/site-packages (from matplotlib<4->mlflow) (1.2.1)\n",
      "Requirement already satisfied: python-dateutil>=2.7 in /home/akarx/MLOps/mlops_venv/lib/python3.10/site-packages (from matplotlib<4->mlflow) (2.9.0.post0)\n",
      "Requirement already satisfied: pillow>=8 in /home/akarx/MLOps/mlops_venv/lib/python3.10/site-packages (from matplotlib<4->mlflow) (10.3.0)\n",
      "Requirement already satisfied: pyparsing>=2.3.1 in /home/akarx/MLOps/mlops_venv/lib/python3.10/site-packages (from matplotlib<4->mlflow) (3.1.2)\n",
      "Requirement already satisfied: fonttools>=4.22.0 in /home/akarx/MLOps/mlops_venv/lib/python3.10/site-packages (from matplotlib<4->mlflow) (4.53.0)\n",
      "Requirement already satisfied: cycler>=0.10 in /home/akarx/MLOps/mlops_venv/lib/python3.10/site-packages (from matplotlib<4->mlflow) (0.12.1)\n",
      "Requirement already satisfied: kiwisolver>=1.3.1 in /home/akarx/MLOps/mlops_venv/lib/python3.10/site-packages (from matplotlib<4->mlflow) (1.4.5)\n",
      "Requirement already satisfied: deprecated>=1.2.6 in /home/akarx/MLOps/mlops_venv/lib/python3.10/site-packages (from opentelemetry-api<3,>=1.9.0->mlflow) (1.2.14)\n",
      "Requirement already satisfied: opentelemetry-semantic-conventions==0.46b0 in /home/akarx/MLOps/mlops_venv/lib/python3.10/site-packages (from opentelemetry-sdk<3,>=1.9.0->mlflow) (0.46b0)\n",
      "Requirement already satisfied: tzdata>=2022.7 in /home/akarx/MLOps/mlops_venv/lib/python3.10/site-packages (from pandas<3->mlflow) (2024.1)\n",
      "Requirement already satisfied: six in /home/akarx/MLOps/mlops_venv/lib/python3.10/site-packages (from querystring-parser<2->mlflow) (1.16.0)\n",
      "Requirement already satisfied: idna<4,>=2.5 in /home/akarx/MLOps/mlops_venv/lib/python3.10/site-packages (from requests<3,>=2.17.3->mlflow) (3.7)\n",
      "Requirement already satisfied: certifi>=2017.4.17 in /home/akarx/MLOps/mlops_venv/lib/python3.10/site-packages (from requests<3,>=2.17.3->mlflow) (2024.6.2)\n",
      "Requirement already satisfied: charset-normalizer<4,>=2 in /home/akarx/MLOps/mlops_venv/lib/python3.10/site-packages (from requests<3,>=2.17.3->mlflow) (3.3.2)\n",
      "Requirement already satisfied: threadpoolctl>=3.1.0 in /home/akarx/MLOps/mlops_venv/lib/python3.10/site-packages (from scikit-learn<2->mlflow) (3.5.0)\n",
      "Requirement already satisfied: joblib>=1.2.0 in /home/akarx/MLOps/mlops_venv/lib/python3.10/site-packages (from scikit-learn<2->mlflow) (1.4.2)\n",
      "Requirement already satisfied: greenlet!=0.4.17 in /home/akarx/MLOps/mlops_venv/lib/python3.10/site-packages (from sqlalchemy<3,>=1.4.0->mlflow) (3.0.3)\n",
      "Requirement already satisfied: wrapt<2,>=1.10 in /home/akarx/MLOps/mlops_venv/lib/python3.10/site-packages (from deprecated>=1.2.6->opentelemetry-api<3,>=1.9.0->mlflow) (1.16.0)\n",
      "Requirement already satisfied: smmap<6,>=3.0.1 in /home/akarx/MLOps/mlops_venv/lib/python3.10/site-packages (from gitdb<5,>=4.0.1->gitpython<4,>=3.1.9->mlflow) (5.0.1)\n"
     ]
    }
   ],
   "source": [
    "!pip install mlflow"
   ]
  },
  {
   "cell_type": "code",
   "execution_count": 44,
   "metadata": {},
   "outputs": [],
   "source": [
    "import mlflow"
   ]
  },
  {
   "cell_type": "code",
   "execution_count": 45,
   "metadata": {},
   "outputs": [
    {
     "name": "stderr",
     "output_type": "stream",
     "text": [
      "2024/06/25 08:09:51 WARNING mlflow.utils.autologging_utils: You are using an unsupported version of sklearn. If you encounter errors during autologging, try upgrading / downgrading sklearn to a supported version, or try upgrading MLflow.\n",
      "2024/06/25 08:09:51 INFO mlflow.tracking.fluent: Autologging successfully enabled for sklearn.\n",
      "2024/06/25 08:09:51 INFO mlflow.utils.autologging_utils: Created MLflow autologging run with ID '12381a6dd503427aad4b755d377a6db0', which will track hyperparameters, performance metrics, model artifacts, and lineage information for the current sklearn workflow\n"
     ]
    }
   ],
   "source": [
    "mlflow.autolog()\n",
    "\n",
    "rf = RandomForestClassifier(\n",
    "    n_estimators = n_est,\n",
    "    max_depth = 6,\n",
    "    max_features = 3,\n",
    "    random_state=seed\n",
    ")\n",
    "\n",
    "rf.fit(X_train, y_train)\n",
    "\n",
    "predictions = rf.predict(X_test)"
   ]
  },
  {
   "cell_type": "code",
   "execution_count": 46,
   "metadata": {},
   "outputs": [
    {
     "name": "stdout",
     "output_type": "stream",
     "text": [
      "[2024-06-25 08:10:16 +0000] [1539797] [INFO] Starting gunicorn 22.0.0\n",
      "[2024-06-25 08:10:16 +0000] [1539797] [INFO] Listening at: http://0.0.0.0:8080 (1539797)\n",
      "[2024-06-25 08:10:16 +0000] [1539797] [INFO] Using worker: sync\n",
      "[2024-06-25 08:10:16 +0000] [1539799] [INFO] Booting worker with pid: 1539799\n",
      "[2024-06-25 08:10:17 +0000] [1539800] [INFO] Booting worker with pid: 1539800\n",
      "[2024-06-25 08:10:17 +0000] [1539801] [INFO] Booting worker with pid: 1539801\n",
      "[2024-06-25 08:10:17 +0000] [1539802] [INFO] Booting worker with pid: 1539802\n",
      "^C\n",
      "[2024-06-25 08:11:09 +0000] [1539797] [INFO] Handling signal: int\n",
      "[2024-06-25 08:11:09 +0000] [1539799] [INFO] Worker exiting (pid: 1539799)\n",
      "[2024-06-25 08:11:09 +0000] [1539802] [INFO] Worker exiting (pid: 1539802)\n",
      "[2024-06-25 08:11:09 +0000] [1539800] [INFO] Worker exiting (pid: 1539800)\n",
      "[2024-06-25 08:11:09 +0000] [1539801] [INFO] Worker exiting (pid: 1539801)\n"
     ]
    }
   ],
   "source": [
    "!mlflow server -h 0.0.0.0 -p 8080 --backend-store-uri /home/akarx/MLOps_NLP/mlruns"
   ]
  },
  {
   "cell_type": "markdown",
   "metadata": {},
   "source": [
    "## Model and Data Drift"
   ]
  },
  {
   "cell_type": "code",
   "execution_count": 47,
   "metadata": {},
   "outputs": [],
   "source": [
    "import numpy as np\n",
    "from sklearn import datasets, ensemble"
   ]
  },
  {
   "cell_type": "code",
   "execution_count": 48,
   "metadata": {},
   "outputs": [
    {
     "name": "stdout",
     "output_type": "stream",
     "text": [
      "Collecting evidently\n",
      "  Downloading evidently-0.4.28-py3-none-any.whl (3.4 MB)\n",
      "\u001b[2K     \u001b[90m━━━━━━━━━━━━━━━━━━━━━━━━━━━━━━━━━━━━━━━━\u001b[0m \u001b[32m3.4/3.4 MB\u001b[0m \u001b[31m1.2 MB/s\u001b[0m eta \u001b[36m0:00:00\u001b[0m00:01\u001b[0m00:01\u001b[0m0m\n",
      "\u001b[?25hRequirement already satisfied: ujson>=5.4.0 in /home/akarx/MLOps/mlops_venv/lib/python3.10/site-packages (from evidently) (5.10.0)\n",
      "Collecting litestar>=2.8.3\n",
      "  Downloading litestar-2.9.1-py3-none-any.whl (530 kB)\n",
      "\u001b[2K     \u001b[90m━━━━━━━━━━━━━━━━━━━━━━━━━━━━━━━━━━━━━━━\u001b[0m \u001b[32m530.1/530.1 KB\u001b[0m \u001b[31m2.3 MB/s\u001b[0m eta \u001b[36m0:00:00\u001b[0ma \u001b[36m0:00:01\u001b[0m\n",
      "\u001b[?25hRequirement already satisfied: rich>=13 in /home/akarx/MLOps/mlops_venv/lib/python3.10/site-packages (from evidently) (13.7.1)\n",
      "Requirement already satisfied: scipy>=1.10.0 in /home/akarx/MLOps/mlops_venv/lib/python3.10/site-packages (from evidently) (1.13.1)\n",
      "Requirement already satisfied: nltk>=3.6.7 in /home/akarx/MLOps/mlops_venv/lib/python3.10/site-packages (from evidently) (3.8.1)\n",
      "Requirement already satisfied: uvicorn[standard]>=0.22.0 in /home/akarx/MLOps/mlops_venv/lib/python3.10/site-packages (from evidently) (0.30.1)\n",
      "Collecting plotly>=5.10.0\n",
      "  Using cached plotly-5.22.0-py3-none-any.whl (16.4 MB)\n",
      "Requirement already satisfied: iterative-telemetry>=0.0.5 in /home/akarx/MLOps/mlops_venv/lib/python3.10/site-packages (from evidently) (0.0.8)\n",
      "Requirement already satisfied: typer>=0.3 in /home/akarx/MLOps/mlops_venv/lib/python3.10/site-packages (from evidently) (0.12.3)\n",
      "Requirement already satisfied: pandas[parquet]>=1.3.5 in /home/akarx/MLOps/mlops_venv/lib/python3.10/site-packages (from evidently) (2.2.2)\n",
      "Collecting dynaconf>=3.2.4\n",
      "  Downloading dynaconf-3.2.5-py2.py3-none-any.whl (230 kB)\n",
      "\u001b[2K     \u001b[90m━━━━━━━━━━━━━━━━━━━━━━━━━━━━━━━━━━━━━\u001b[0m \u001b[32m230.8/230.8 KB\u001b[0m \u001b[31m931.6 kB/s\u001b[0m eta \u001b[36m0:00:00\u001b[0ma \u001b[36m0:00:01\u001b[0m\n",
      "\u001b[?25hRequirement already satisfied: pydantic>=1.10.13 in /home/akarx/MLOps/mlops_venv/lib/python3.10/site-packages (from evidently) (2.7.4)\n",
      "Requirement already satisfied: certifi>=2023.07.22 in /home/akarx/MLOps/mlops_venv/lib/python3.10/site-packages (from evidently) (2024.6.2)\n",
      "Requirement already satisfied: scikit-learn>=1.0.1 in /home/akarx/MLOps/mlops_venv/lib/python3.10/site-packages (from evidently) (1.5.0)\n",
      "Requirement already satisfied: fsspec>=2024.2.0 in /home/akarx/MLOps/mlops_venv/lib/python3.10/site-packages (from evidently) (2024.6.0)\n",
      "Collecting typing-inspect>=0.9.0\n",
      "  Using cached typing_inspect-0.9.0-py3-none-any.whl (8.8 kB)\n",
      "Requirement already satisfied: PyYAML>=5.4 in /home/akarx/MLOps/mlops_venv/lib/python3.10/site-packages (from evidently) (6.0.1)\n",
      "Requirement already satisfied: numpy>=1.22.0 in /home/akarx/MLOps/mlops_venv/lib/python3.10/site-packages (from evidently) (1.26.4)\n",
      "Collecting watchdog>=3.0.0\n",
      "  Using cached watchdog-4.0.1-py3-none-manylinux2014_x86_64.whl (83 kB)\n",
      "Requirement already satisfied: urllib3>=1.26.19 in /home/akarx/MLOps/mlops_venv/lib/python3.10/site-packages (from evidently) (2.2.2)\n",
      "Collecting statsmodels>=0.12.2\n",
      "  Downloading statsmodels-0.14.2-cp310-cp310-manylinux_2_17_x86_64.manylinux2014_x86_64.whl (10.8 MB)\n",
      "\u001b[2K     \u001b[90m━━━━━━━━━━━━━━━━━━━━━━━━━━━━━━━━━━━━━━━━\u001b[0m \u001b[32m10.8/10.8 MB\u001b[0m \u001b[31m5.3 MB/s\u001b[0m eta \u001b[36m0:00:00\u001b[0m00:01\u001b[0m00:01\u001b[0m\n",
      "\u001b[?25hRequirement already satisfied: requests>=2.32.0 in /home/akarx/MLOps/mlops_venv/lib/python3.10/site-packages (from evidently) (2.32.3)\n",
      "Requirement already satisfied: filelock in /home/akarx/MLOps/mlops_venv/lib/python3.10/site-packages (from iterative-telemetry>=0.0.5->evidently) (3.15.3)\n",
      "Requirement already satisfied: appdirs in /home/akarx/MLOps/mlops_venv/lib/python3.10/site-packages (from iterative-telemetry>=0.0.5->evidently) (1.4.4)\n",
      "Requirement already satisfied: distro in /home/akarx/MLOps/mlops_venv/lib/python3.10/site-packages (from iterative-telemetry>=0.0.5->evidently) (1.9.0)\n",
      "Requirement already satisfied: multidict>=6.0.2 in /home/akarx/MLOps/mlops_venv/lib/python3.10/site-packages (from litestar>=2.8.3->evidently) (6.0.5)\n",
      "Collecting polyfactory>=2.6.3\n",
      "  Downloading polyfactory-2.16.0-py3-none-any.whl (57 kB)\n",
      "\u001b[2K     \u001b[90m━━━━━━━━━━━━━━━━━━━━━━━━━━━━━━━━━━━━━━━\u001b[0m \u001b[32m57.4/57.4 KB\u001b[0m \u001b[31m207.3 kB/s\u001b[0m eta \u001b[36m0:00:00\u001b[0ma \u001b[36m0:00:01\u001b[0m\n",
      "\u001b[?25hCollecting rich-click\n",
      "  Downloading rich_click-1.8.3-py3-none-any.whl (35 kB)\n",
      "Requirement already satisfied: click in /home/akarx/MLOps/mlops_venv/lib/python3.10/site-packages (from litestar>=2.8.3->evidently) (8.1.7)\n",
      "Collecting msgspec>=0.18.2\n",
      "  Downloading msgspec-0.18.6-cp310-cp310-manylinux_2_17_x86_64.manylinux2014_x86_64.whl (210 kB)\n",
      "\u001b[2K     \u001b[90m━━━━━━━━━━━━━━━━━━━━━━━━━━━━━━━━━━━━━\u001b[0m \u001b[32m210.3/210.3 KB\u001b[0m \u001b[31m870.4 kB/s\u001b[0m eta \u001b[36m0:00:00\u001b[0ma \u001b[36m0:00:01\u001b[0m\n",
      "\u001b[?25hRequirement already satisfied: anyio>=3 in /home/akarx/MLOps/mlops_venv/lib/python3.10/site-packages (from litestar>=2.8.3->evidently) (4.4.0)\n",
      "Requirement already satisfied: httpx>=0.22 in /home/akarx/MLOps/mlops_venv/lib/python3.10/site-packages (from litestar>=2.8.3->evidently) (0.27.0)\n",
      "Requirement already satisfied: exceptiongroup in /home/akarx/MLOps/mlops_venv/lib/python3.10/site-packages (from litestar>=2.8.3->evidently) (1.2.1)\n",
      "Requirement already satisfied: typing-extensions in /home/akarx/MLOps/mlops_venv/lib/python3.10/site-packages (from litestar>=2.8.3->evidently) (4.12.2)\n",
      "Requirement already satisfied: tqdm in /home/akarx/MLOps/mlops_venv/lib/python3.10/site-packages (from nltk>=3.6.7->evidently) (4.66.4)\n",
      "Requirement already satisfied: regex>=2021.8.3 in /home/akarx/MLOps/mlops_venv/lib/python3.10/site-packages (from nltk>=3.6.7->evidently) (2024.5.15)\n",
      "Requirement already satisfied: joblib in /home/akarx/MLOps/mlops_venv/lib/python3.10/site-packages (from nltk>=3.6.7->evidently) (1.4.2)\n",
      "Requirement already satisfied: pytz>=2020.1 in /home/akarx/MLOps/mlops_venv/lib/python3.10/site-packages (from pandas[parquet]>=1.3.5->evidently) (2024.1)\n",
      "Requirement already satisfied: tzdata>=2022.7 in /home/akarx/MLOps/mlops_venv/lib/python3.10/site-packages (from pandas[parquet]>=1.3.5->evidently) (2024.1)\n",
      "Requirement already satisfied: python-dateutil>=2.8.2 in /home/akarx/MLOps/mlops_venv/lib/python3.10/site-packages (from pandas[parquet]>=1.3.5->evidently) (2.9.0.post0)\n",
      "Requirement already satisfied: pyarrow>=10.0.1 in /home/akarx/MLOps/mlops_venv/lib/python3.10/site-packages (from pandas[parquet]>=1.3.5->evidently) (15.0.2)\n",
      "Collecting tenacity>=6.2.0\n",
      "  Downloading tenacity-8.4.2-py3-none-any.whl (28 kB)\n",
      "Requirement already satisfied: packaging in /home/akarx/MLOps/mlops_venv/lib/python3.10/site-packages (from plotly>=5.10.0->evidently) (24.1)\n",
      "Requirement already satisfied: annotated-types>=0.4.0 in /home/akarx/MLOps/mlops_venv/lib/python3.10/site-packages (from pydantic>=1.10.13->evidently) (0.7.0)\n",
      "Requirement already satisfied: pydantic-core==2.18.4 in /home/akarx/MLOps/mlops_venv/lib/python3.10/site-packages (from pydantic>=1.10.13->evidently) (2.18.4)\n",
      "Requirement already satisfied: idna<4,>=2.5 in /home/akarx/MLOps/mlops_venv/lib/python3.10/site-packages (from requests>=2.32.0->evidently) (3.7)\n",
      "Requirement already satisfied: charset-normalizer<4,>=2 in /home/akarx/MLOps/mlops_venv/lib/python3.10/site-packages (from requests>=2.32.0->evidently) (3.3.2)\n",
      "Requirement already satisfied: pygments<3.0.0,>=2.13.0 in /home/akarx/MLOps/mlops_venv/lib/python3.10/site-packages (from rich>=13->evidently) (2.18.0)\n",
      "Requirement already satisfied: markdown-it-py>=2.2.0 in /home/akarx/MLOps/mlops_venv/lib/python3.10/site-packages (from rich>=13->evidently) (3.0.0)\n",
      "Requirement already satisfied: threadpoolctl>=3.1.0 in /home/akarx/MLOps/mlops_venv/lib/python3.10/site-packages (from scikit-learn>=1.0.1->evidently) (3.5.0)\n",
      "Collecting patsy>=0.5.6\n",
      "  Downloading patsy-0.5.6-py2.py3-none-any.whl (233 kB)\n",
      "\u001b[2K     \u001b[90m━━━━━━━━━━━━━━━━━━━━━━━━━━━━━━━━━━━━━\u001b[0m \u001b[32m233.9/233.9 KB\u001b[0m \u001b[31m981.2 kB/s\u001b[0m eta \u001b[36m0:00:00\u001b[0ma \u001b[36m0:00:01\u001b[0m\n",
      "\u001b[?25hRequirement already satisfied: shellingham>=1.3.0 in /home/akarx/MLOps/mlops_venv/lib/python3.10/site-packages (from typer>=0.3->evidently) (1.5.4)\n",
      "Collecting mypy-extensions>=0.3.0\n",
      "  Using cached mypy_extensions-1.0.0-py3-none-any.whl (4.7 kB)\n",
      "Requirement already satisfied: h11>=0.8 in /home/akarx/MLOps/mlops_venv/lib/python3.10/site-packages (from uvicorn[standard]>=0.22.0->evidently) (0.14.0)\n",
      "Requirement already satisfied: python-dotenv>=0.13 in /home/akarx/MLOps/mlops_venv/lib/python3.10/site-packages (from uvicorn[standard]>=0.22.0->evidently) (1.0.1)\n",
      "Requirement already satisfied: watchfiles>=0.13 in /home/akarx/MLOps/mlops_venv/lib/python3.10/site-packages (from uvicorn[standard]>=0.22.0->evidently) (0.22.0)\n",
      "Requirement already satisfied: websockets>=10.4 in /home/akarx/MLOps/mlops_venv/lib/python3.10/site-packages (from uvicorn[standard]>=0.22.0->evidently) (12.0)\n",
      "Requirement already satisfied: httptools>=0.5.0 in /home/akarx/MLOps/mlops_venv/lib/python3.10/site-packages (from uvicorn[standard]>=0.22.0->evidently) (0.6.1)\n",
      "Requirement already satisfied: uvloop!=0.15.0,!=0.15.1,>=0.14.0 in /home/akarx/MLOps/mlops_venv/lib/python3.10/site-packages (from uvicorn[standard]>=0.22.0->evidently) (0.19.0)\n",
      "Requirement already satisfied: sniffio>=1.1 in /home/akarx/MLOps/mlops_venv/lib/python3.10/site-packages (from anyio>=3->litestar>=2.8.3->evidently) (1.3.1)\n",
      "Requirement already satisfied: httpcore==1.* in /home/akarx/MLOps/mlops_venv/lib/python3.10/site-packages (from httpx>=0.22->litestar>=2.8.3->evidently) (1.0.5)\n",
      "Requirement already satisfied: mdurl~=0.1 in /home/akarx/MLOps/mlops_venv/lib/python3.10/site-packages (from markdown-it-py>=2.2.0->rich>=13->evidently) (0.1.2)\n",
      "Requirement already satisfied: six in /home/akarx/MLOps/mlops_venv/lib/python3.10/site-packages (from patsy>=0.5.6->statsmodels>=0.12.2->evidently) (1.16.0)\n",
      "Collecting faker\n",
      "  Downloading Faker-25.9.1-py3-none-any.whl (1.8 MB)\n",
      "\u001b[2K     \u001b[90m━━━━━━━━━━━━━━━━━━━━━━━━━━━━━━━━━━━━━━━━\u001b[0m \u001b[32m1.8/1.8 MB\u001b[0m \u001b[31m7.4 MB/s\u001b[0m eta \u001b[36m0:00:00\u001b[0m:00:01\u001b[0m\n",
      "\u001b[?25hInstalling collected packages: watchdog, tenacity, patsy, mypy-extensions, msgspec, dynaconf, typing-inspect, plotly, faker, statsmodels, rich-click, polyfactory, litestar, evidently\n",
      "Successfully installed dynaconf-3.2.5 evidently-0.4.28 faker-25.9.1 litestar-2.9.1 msgspec-0.18.6 mypy-extensions-1.0.0 patsy-0.5.6 plotly-5.22.0 polyfactory-2.16.0 rich-click-1.8.3 statsmodels-0.14.2 tenacity-8.4.2 typing-inspect-0.9.0 watchdog-4.0.1\n"
     ]
    }
   ],
   "source": [
    "!pip install evidently"
   ]
  },
  {
   "cell_type": "code",
   "execution_count": 49,
   "metadata": {},
   "outputs": [],
   "source": [
    "from evidently.report import report"
   ]
  },
  {
   "cell_type": "code",
   "execution_count": 50,
   "metadata": {},
   "outputs": [],
   "source": [
    "from evidently.metric_preset import (\n",
    "  DataDriftPreset,\n",
    "  DataQualityPreset,\n",
    "  RegressionPreset,\n",
    "  ClassificationPreset,\n",
    "  TargetDriftPreset\n",
    ")"
   ]
  },
  {
   "cell_type": "code",
   "execution_count": null,
   "metadata": {},
   "outputs": [],
   "source": []
  }
 ],
 "metadata": {
  "kernelspec": {
   "display_name": "mlops",
   "language": "python",
   "name": "mlops"
  },
  "language_info": {
   "codemirror_mode": {
    "name": "ipython",
    "version": 3
   },
   "file_extension": ".py",
   "mimetype": "text/x-python",
   "name": "python",
   "nbconvert_exporter": "python",
   "pygments_lexer": "ipython3",
   "version": "3.10.12"
  }
 },
 "nbformat": 4,
 "nbformat_minor": 2
}
