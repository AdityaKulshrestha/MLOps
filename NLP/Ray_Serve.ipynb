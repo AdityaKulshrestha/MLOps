{
 "cells": [
  {
   "cell_type": "code",
   "execution_count": 1,
   "metadata": {},
   "outputs": [],
   "source": [
    "from ray import serve\n",
    "\n",
    "from io import BytesIO\n",
    "from PIL import Image\n",
    "from starlette.requests import Request\n",
    "from typing import Dict\n",
    "\n",
    "import torch\n",
    "from torchvision import transforms\n",
    "from torchvision.models import resnet18"
   ]
  },
  {
   "cell_type": "code",
   "execution_count": 2,
   "metadata": {},
   "outputs": [],
   "source": [
    "@serve.deployment\n",
    "class ImageModel:\n",
    "    def __init__(self):\n",
    "        self.model = resnet18(pretrained=True).eval()\n",
    "        self.preprocessor = transforms.Compose(\n",
    "            [\n",
    "                transforms.Resize(224),\n",
    "                transforms.CenterCrop(224),\n",
    "                transforms.ToTensor(),\n",
    "                transforms.Lambda(lambda t: t[:3, ...]),  # remove alpha channel\n",
    "                transforms.Normalize(\n",
    "                    mean=[0.485, 0.456, 0.406], std=[0.229, 0.224, 0.225]\n",
    "                ),\n",
    "            ]\n",
    "        )\n",
    "\n",
    "    async def __call__(self, starlette_request: Request) -> Dict:\n",
    "        image_payload_bytes = await starlette_request.body()\n",
    "        pil_image = Image.open(BytesIO(image_payload_bytes))\n",
    "        print(\"[1/3] Parsed image data: {}\".format(pil_image))\n",
    "\n",
    "        pil_images = [pil_image]  # Our current batch size is one\n",
    "        input_tensor = torch.cat(\n",
    "            [self.preprocessor(i).unsqueeze(0) for i in pil_images]\n",
    "        )\n",
    "        print(\"[2/3] Images transformed, tensor shape {}\".format(input_tensor.shape))\n",
    "\n",
    "        with torch.no_grad():\n",
    "            output_tensor = self.model(input_tensor)\n",
    "        print(\"[3/3] Inference done!\")\n",
    "        return {\"class_index\": int(torch.argmax(output_tensor[0]))}"
   ]
  },
  {
   "cell_type": "code",
   "execution_count": 3,
   "metadata": {},
   "outputs": [],
   "source": [
    "image_model = ImageModel.bind()\n"
   ]
  },
  {
   "cell_type": "code",
   "execution_count": 7,
   "metadata": {},
   "outputs": [
    {
     "name": "stderr",
     "output_type": "stream",
     "text": [
      "2024-06-25 11:44:22,378\tINFO worker.py:1744 -- Started a local Ray instance. View the dashboard at \u001b[1m\u001b[32m127.0.0.1:8265 \u001b[39m\u001b[22m\n",
      "\u001b[36m(ProxyActor pid=1566120)\u001b[0m INFO 2024-06-25 11:44:25,161 proxy 10.138.187.90 proxy.py:1165 - Proxy starting on node 8ffd64913c370a1cec0d90bd6939baf7cf8d143d1b562cde1e75f413 (HTTP port: 8000).\n",
      "2024-06-25 11:44:25,198\tINFO handle.py:126 -- Created DeploymentHandle 'lhws518b' for Deployment(name='ImageModel', app='default').\n",
      "2024-06-25 11:44:25,199\tINFO handle.py:126 -- Created DeploymentHandle 'toio05p2' for Deployment(name='ImageModel', app='default').\n",
      "\u001b[36m(ServeController pid=1566029)\u001b[0m INFO 2024-06-25 11:44:25,272 controller 1566029 deployment_state.py:1598 - Deploying new version of Deployment(name='ImageModel', app='default') (initial target replicas: 1).\n",
      "\u001b[36m(ServeController pid=1566029)\u001b[0m INFO 2024-06-25 11:44:25,375 controller 1566029 deployment_state.py:1844 - Adding 1 replica to Deployment(name='ImageModel', app='default').\n",
      "\u001b[36m(ServeReplica:default:ImageModel pid=1566211)\u001b[0m /home/akarx/MLOps/mlops_venv/lib/python3.10/site-packages/torchvision/models/_utils.py:208: UserWarning: The parameter 'pretrained' is deprecated since 0.13 and may be removed in the future, please use 'weights' instead.\n",
      "\u001b[36m(ServeReplica:default:ImageModel pid=1566211)\u001b[0m   warnings.warn(\n",
      "\u001b[36m(ServeReplica:default:ImageModel pid=1566211)\u001b[0m /home/akarx/MLOps/mlops_venv/lib/python3.10/site-packages/torchvision/models/_utils.py:223: UserWarning: Arguments other than a weight enum or `None` for 'weights' are deprecated since 0.13 and may be removed in the future. The current behavior is equivalent to passing `weights=ResNet18_Weights.IMAGENET1K_V1`. You can also use `weights=ResNet18_Weights.DEFAULT` to get the most up-to-date weights.\n",
      "\u001b[36m(ServeReplica:default:ImageModel pid=1566211)\u001b[0m   warnings.warn(msg)\n",
      "\u001b[36m(ServeReplica:default:ImageModel pid=1566211)\u001b[0m Downloading: \"https://download.pytorch.org/models/resnet18-f37072fd.pth\" to /home/akarx/.cache/torch/hub/checkpoints/resnet18-f37072fd.pth\n",
      "  0%|          | 0.00/44.7M [00:00<?, ?B/s]566211)\u001b[0m \n",
      "  0%|          | 128k/44.7M [00:00<02:35, 301kB/s]\u001b[0m \n",
      "  1%|          | 256k/44.7M [00:00<01:52, 413kB/s]\u001b[0m \n",
      "  1%|          | 384k/44.7M [00:00<01:38, 471kB/s]\u001b[0m \n",
      "  1%|          | 512k/44.7M [00:01<01:31, 504kB/s]\u001b[0m \n",
      "  1%|▏         | 640k/44.7M [00:01<01:27, 529kB/s]\u001b[0m \n",
      "  2%|▏         | 896k/44.7M [00:01<01:03, 723kB/s]\u001b[0m \n",
      "  3%|▎         | 1.12M/44.7M [00:01<00:53, 854kB/s][0m \n",
      "  3%|▎         | 1.38M/44.7M [00:02<00:47, 954kB/s][0m \n",
      "  4%|▎         | 1.62M/44.7M [00:02<00:43, 1.04MB/s]0m \n",
      "  4%|▍         | 2.00M/44.7M [00:02<00:35, 1.26MB/s]0m \n",
      "  5%|▌         | 2.25M/44.7M [00:02<00:35, 1.26MB/s]0m \n",
      "  6%|▌         | 2.62M/44.7M [00:02<00:33, 1.32MB/s]0m \n",
      "  6%|▋         | 2.88M/44.7M [00:03<00:30, 1.43MB/s]0m \n",
      "  7%|▋         | 3.12M/44.7M [00:03<00:28, 1.55MB/s]0m \n",
      "  8%|▊         | 3.38M/44.7M [00:03<00:25, 1.69MB/s]0m \n",
      "  8%|▊         | 3.62M/44.7M [00:03<00:23, 1.86MB/s]0m \n",
      "  9%|▊         | 3.88M/44.7M [00:03<00:21, 1.98MB/s]0m \n",
      " 10%|▉         | 4.25M/44.7M [00:03<00:19, 2.21MB/s]0m \n",
      " 10%|█         | 4.62M/44.7M [00:03<00:17, 2.37MB/s]0m \n",
      " 11%|█         | 5.00M/44.7M [00:04<00:16, 2.49MB/s]0m \n",
      " 12%|█▏        | 5.50M/44.7M [00:04<00:13, 3.09MB/s]0m \n",
      " 13%|█▎        | 5.88M/44.7M [00:04<00:13, 3.02MB/s]0m \n",
      " 15%|█▍        | 6.62M/44.7M [00:04<00:10, 3.96MB/s]0m \n",
      " 16%|█▌        | 7.12M/44.7M [00:04<00:10, 3.92MB/s]0m \n",
      " 17%|█▋        | 7.75M/44.7M [00:04<00:08, 4.39MB/s]0m \n",
      " 19%|█▉        | 8.38M/44.7M [00:04<00:07, 4.78MB/s]0m \n",
      " 20%|██        | 9.00M/44.7M [00:04<00:07, 5.05MB/s]0m \n",
      " 22%|██▏       | 9.62M/44.7M [00:04<00:06, 5.37MB/s]0m \n",
      " 23%|██▎       | 10.2M/44.7M [00:05<00:06, 5.59MB/s]0m \n",
      " 24%|██▍       | 10.9M/44.7M [00:05<00:06, 5.77MB/s]0m \n",
      " 26%|██▌       | 11.5M/44.7M [00:05<00:05, 5.89MB/s]0m \n",
      " 27%|██▋       | 12.2M/44.7M [00:05<00:05, 6.17MB/s]0m \n",
      " 29%|██▉       | 12.9M/44.7M [00:05<00:05, 6.00MB/s]0m \n",
      " 31%|███       | 13.8M/44.7M [00:05<00:04, 6.83MB/s]0m \n",
      " 32%|███▏      | 14.5M/44.7M [00:05<00:04, 6.55MB/s]0m \n",
      " 34%|███▍      | 15.4M/44.7M [00:05<00:04, 7.21MB/s]0m \n",
      " 36%|███▌      | 16.1M/44.7M [00:05<00:04, 6.77MB/s]0m \n",
      " 38%|███▊      | 17.0M/44.7M [00:06<00:03, 7.38MB/s]0m \n",
      " 40%|████      | 18.0M/44.7M [00:06<00:03, 7.62MB/s]0m \n",
      " 42%|████▏     | 18.9M/44.7M [00:06<00:03, 7.95MB/s]0m \n",
      " 45%|████▍     | 20.0M/44.7M [00:06<00:03, 8.51MB/s]0m \n",
      " 47%|████▋     | 21.0M/44.7M [00:06<00:02, 8.99MB/s]0m \n",
      " 49%|████▉     | 21.9M/44.7M [00:06<00:02, 8.72MB/s]0m \n",
      " 51%|█████     | 22.8M/44.7M [00:06<00:02, 8.53MB/s]0m \n",
      " 55%|█████▍    | 24.4M/44.7M [00:06<00:02, 10.5MB/s]0m \n",
      " 57%|█████▋    | 25.5M/44.7M [00:07<00:02, 9.26MB/s]0m \n",
      " 60%|██████    | 26.9M/44.7M [00:07<00:01, 10.5MB/s]0m \n",
      " 63%|██████▎   | 28.0M/44.7M [00:07<00:01, 10.5MB/s]0m \n",
      " 66%|██████▌   | 29.5M/44.7M [00:07<00:01, 11.6MB/s]0m \n",
      " 72%|███████▏  | 32.4M/44.7M [00:07<00:00, 13.3MB/s]0m \n",
      " 76%|███████▌  | 33.8M/44.7M [00:07<00:00, 13.0MB/s]0m \n",
      " 79%|███████▉  | 35.4M/44.7M [00:07<00:00, 14.1MB/s]0m \n",
      " 82%|████████▏ | 36.8M/44.7M [00:07<00:00, 13.6MB/s]0m \n",
      " 86%|████████▌ | 38.4M/44.7M [00:08<00:00, 14.5MB/s]0m \n",
      " 89%|████████▉ | 39.9M/44.7M [00:08<00:00, 14.0MB/s]0m \n",
      " 93%|█████████▎| 41.5M/44.7M [00:08<00:00, 14.6MB/s]0m \n",
      " 96%|█████████▋| 43.0M/44.7M [00:08<00:00, 14.3MB/s]0m \n",
      "100%|██████████| 44.7M/44.7M [00:08<00:00, 5.54MB/s]0m \n",
      "2024-06-25 11:44:38,267\tINFO handle.py:126 -- Created DeploymentHandle 'xh8tb8gl' for Deployment(name='ImageModel', app='default').\n",
      "2024-06-25 11:44:38,268\tINFO api.py:584 -- Deployed app 'default' successfully.\n",
      "2024-06-25 11:44:38,277\tINFO handle.py:126 -- Created DeploymentHandle 'fr3tiey5' for Deployment(name='ImageModel', app='default').\n",
      "2024-06-25 11:44:38,279\tINFO handle.py:126 -- Created DeploymentHandle 'qnwk2d1c' for Deployment(name='ImageModel', app='default').\n",
      "2024-06-25 11:44:38,285\tINFO handle.py:126 -- Created DeploymentHandle 'cs8q1o84' for Deployment(name='ImageModel', app='default').\n",
      "2024-06-25 11:44:38,287\tINFO handle.py:126 -- Created DeploymentHandle 'evwq3p8c' for Deployment(name='ImageModel', app='default').\n",
      "2024-06-25 11:44:38,291\tINFO handle.py:126 -- Created DeploymentHandle 'juiarkp0' for Deployment(name='ImageModel', app='default').\n",
      "2024-06-25 11:44:38,292\tINFO handle.py:126 -- Created DeploymentHandle 'e4vjpikv' for Deployment(name='ImageModel', app='default').\n",
      "2024-06-25 11:44:38,293\tINFO handle.py:126 -- Created DeploymentHandle 'gylfdr9n' for Deployment(name='ImageModel', app='default').\n",
      "2024-06-25 11:44:38,299\tINFO handle.py:126 -- Created DeploymentHandle 'oez22ok2' for Deployment(name='ImageModel', app='default').\n",
      "2024-06-25 11:44:38,300\tINFO pow_2_scheduler.py:260 -- Got updated replicas for Deployment(name='ImageModel', app='default'): {'ie4nqt0g'}.\n",
      "2024-06-25 11:44:38,300\tINFO handle.py:126 -- Created DeploymentHandle 'ceuhr90w' for Deployment(name='ImageModel', app='default').\n",
      "2024-06-25 11:44:38,304\tINFO handle.py:126 -- Created DeploymentHandle 'lfcue4xw' for Deployment(name='ImageModel', app='default').\n",
      "2024-06-25 11:44:38,305\tINFO handle.py:126 -- Created DeploymentHandle 'vy4g8lmm' for Deployment(name='ImageModel', app='default').\n"
     ]
    },
    {
     "data": {
      "text/plain": [
       "DeploymentHandle(deployment='ImageModel')"
      ]
     },
     "execution_count": 7,
     "metadata": {},
     "output_type": "execute_result"
    },
    {
     "name": "stderr",
     "output_type": "stream",
     "text": [
      "\u001b[36m(ServeReplica:default:ImageModel pid=1566211)\u001b[0m INFO 2024-06-25 11:45:03,152 default_ImageModel ie4nqt0g 5b2c6460-3a18-415e-8df2-4041bb4adcc5 / replica.py:373 - __CALL__ OK 284.4ms\n",
      "\u001b[36m(ServeReplica:default:ImageModel pid=1566211)\u001b[0m ERROR 2024-06-25 11:45:57,569 default_ImageModel ie4nqt0g 33c90b70-0b5d-4d14-8373-b97c4397af6b / replica.py:359 - Request failed:\n",
      "\u001b[36m(ServeReplica:default:ImageModel pid=1566211)\u001b[0m \u001b[36mray::ServeReplica:default:ImageModel.handle_request_with_rejection()\u001b[39m (pid=1566211, ip=10.138.187.90)\n",
      "\u001b[36m(ServeReplica:default:ImageModel pid=1566211)\u001b[0m   File \"/home/akarx/MLOps/mlops_venv/lib/python3.10/site-packages/ray/serve/_private/utils.py\", line 168, in wrap_to_ray_error\n",
      "\u001b[36m(ServeReplica:default:ImageModel pid=1566211)\u001b[0m     raise exception\n",
      "\u001b[36m(ServeReplica:default:ImageModel pid=1566211)\u001b[0m   File \"/home/akarx/MLOps/mlops_venv/lib/python3.10/site-packages/ray/serve/_private/replica.py\", line 1132, in call_user_method\n",
      "\u001b[36m(ServeReplica:default:ImageModel pid=1566211)\u001b[0m     await self._call_func_or_gen(\n",
      "\u001b[36m(ServeReplica:default:ImageModel pid=1566211)\u001b[0m   File \"/home/akarx/MLOps/mlops_venv/lib/python3.10/site-packages/ray/serve/_private/replica.py\", line 856, in _call_func_or_gen\n",
      "\u001b[36m(ServeReplica:default:ImageModel pid=1566211)\u001b[0m     result = await result\n",
      "\u001b[36m(ServeReplica:default:ImageModel pid=1566211)\u001b[0m   File \"/tmp/ipykernel_1558567/4202449258.py\", line 19, in __call__\n",
      "\u001b[36m(ServeReplica:default:ImageModel pid=1566211)\u001b[0m   File \"/home/akarx/MLOps/mlops_venv/lib/python3.10/site-packages/PIL/Image.py\", line 3339, in open\n",
      "\u001b[36m(ServeReplica:default:ImageModel pid=1566211)\u001b[0m     raise UnidentifiedImageError(msg)\n",
      "\u001b[36m(ServeReplica:default:ImageModel pid=1566211)\u001b[0m PIL.UnidentifiedImageError: cannot identify image file <_io.BytesIO object at 0x7ee76ab67240>\n",
      "\u001b[36m(ServeReplica:default:ImageModel pid=1566211)\u001b[0m INFO 2024-06-25 11:45:57,570 default_ImageModel ie4nqt0g 33c90b70-0b5d-4d14-8373-b97c4397af6b / replica.py:373 - __CALL__ ERROR 26.7ms\n",
      "\u001b[36m(ServeReplica:default:ImageModel pid=1566211)\u001b[0m ERROR 2024-06-25 11:45:57,713 default_ImageModel ie4nqt0g 5b954409-714d-4654-9de7-69e7de8d284e /favicon.ico replica.py:359 - Request failed:\n",
      "\u001b[36m(ServeReplica:default:ImageModel pid=1566211)\u001b[0m \u001b[36mray::ServeReplica:default:ImageModel.handle_request_with_rejection()\u001b[39m (pid=1566211, ip=10.138.187.90)\n",
      "\u001b[36m(ServeReplica:default:ImageModel pid=1566211)\u001b[0m   File \"/home/akarx/MLOps/mlops_venv/lib/python3.10/site-packages/ray/serve/_private/utils.py\", line 168, in wrap_to_ray_error\n",
      "\u001b[36m(ServeReplica:default:ImageModel pid=1566211)\u001b[0m     raise exception\n",
      "\u001b[36m(ServeReplica:default:ImageModel pid=1566211)\u001b[0m   File \"/home/akarx/MLOps/mlops_venv/lib/python3.10/site-packages/ray/serve/_private/replica.py\", line 1132, in call_user_method\n",
      "\u001b[36m(ServeReplica:default:ImageModel pid=1566211)\u001b[0m     await self._call_func_or_gen(\n",
      "\u001b[36m(ServeReplica:default:ImageModel pid=1566211)\u001b[0m   File \"/home/akarx/MLOps/mlops_venv/lib/python3.10/site-packages/ray/serve/_private/replica.py\", line 856, in _call_func_or_gen\n",
      "\u001b[36m(ServeReplica:default:ImageModel pid=1566211)\u001b[0m     result = await result\n",
      "\u001b[36m(ServeReplica:default:ImageModel pid=1566211)\u001b[0m   File \"/tmp/ipykernel_1558567/4202449258.py\", line 19, in __call__\n",
      "\u001b[36m(ServeReplica:default:ImageModel pid=1566211)\u001b[0m   File \"/home/akarx/MLOps/mlops_venv/lib/python3.10/site-packages/PIL/Image.py\", line 3339, in open\n",
      "\u001b[36m(ServeReplica:default:ImageModel pid=1566211)\u001b[0m     raise UnidentifiedImageError(msg)\n",
      "\u001b[36m(ServeReplica:default:ImageModel pid=1566211)\u001b[0m PIL.UnidentifiedImageError: cannot identify image file <_io.BytesIO object at 0x7ee75e69a570>\n",
      "\u001b[36m(ServeReplica:default:ImageModel pid=1566211)\u001b[0m INFO 2024-06-25 11:45:57,714 default_ImageModel ie4nqt0g 5b954409-714d-4654-9de7-69e7de8d284e /favicon.ico replica.py:373 - __CALL__ ERROR 6.1ms\n"
     ]
    },
    {
     "name": "stderr",
     "output_type": "stream",
     "text": [
      "\u001b[36m(ServeReplica:default:ImageModel pid=1566211)\u001b[0m INFO 2024-06-25 11:47:13,003 default_ImageModel ie4nqt0g 36d66e74-2c78-45c1-be1a-71a5584e1eea / replica.py:373 - __CALL__ OK 236.7ms\n",
      "\u001b[36m(ServeReplica:default:ImageModel pid=1566211)\u001b[0m ERROR 2024-06-25 11:47:47,516 default_ImageModel ie4nqt0g b3dfa81a-ea0c-49f3-98e3-27c003a57c02 / replica.py:359 - Request failed:\n",
      "\u001b[36m(ServeReplica:default:ImageModel pid=1566211)\u001b[0m \u001b[36mray::ServeReplica:default:ImageModel.handle_request_with_rejection()\u001b[39m (pid=1566211, ip=10.138.187.90)\n",
      "\u001b[36m(ServeReplica:default:ImageModel pid=1566211)\u001b[0m   File \"/home/akarx/MLOps/mlops_venv/lib/python3.10/site-packages/ray/serve/_private/utils.py\", line 168, in wrap_to_ray_error\n",
      "\u001b[36m(ServeReplica:default:ImageModel pid=1566211)\u001b[0m     raise exception\n",
      "\u001b[36m(ServeReplica:default:ImageModel pid=1566211)\u001b[0m   File \"/home/akarx/MLOps/mlops_venv/lib/python3.10/site-packages/ray/serve/_private/replica.py\", line 1132, in call_user_method\n",
      "\u001b[36m(ServeReplica:default:ImageModel pid=1566211)\u001b[0m     await self._call_func_or_gen(\n",
      "\u001b[36m(ServeReplica:default:ImageModel pid=1566211)\u001b[0m   File \"/home/akarx/MLOps/mlops_venv/lib/python3.10/site-packages/ray/serve/_private/replica.py\", line 856, in _call_func_or_gen\n",
      "\u001b[36m(ServeReplica:default:ImageModel pid=1566211)\u001b[0m     result = await result\n",
      "\u001b[36m(ServeReplica:default:ImageModel pid=1566211)\u001b[0m   File \"/tmp/ipykernel_1558567/4202449258.py\", line 19, in __call__\n",
      "\u001b[36m(ServeReplica:default:ImageModel pid=1566211)\u001b[0m   File \"/home/akarx/MLOps/mlops_venv/lib/python3.10/site-packages/PIL/Image.py\", line 3339, in open\n",
      "\u001b[36m(ServeReplica:default:ImageModel pid=1566211)\u001b[0m     raise UnidentifiedImageError(msg)\n",
      "\u001b[36m(ServeReplica:default:ImageModel pid=1566211)\u001b[0m PIL.UnidentifiedImageError: cannot identify image file <_io.BytesIO object at 0x7ee75e69b240>\n",
      "\u001b[36m(ServeReplica:default:ImageModel pid=1566211)\u001b[0m INFO 2024-06-25 11:47:47,516 default_ImageModel ie4nqt0g b3dfa81a-ea0c-49f3-98e3-27c003a57c02 / replica.py:373 - __CALL__ ERROR 7.9ms\n",
      "\u001b[36m(ServeReplica:default:ImageModel pid=1566211)\u001b[0m ERROR 2024-06-25 11:47:47,572 default_ImageModel ie4nqt0g 6d90682a-e309-4b5c-9ed6-c7b496c8d90c /favicon.ico replica.py:359 - Request failed:\n",
      "\u001b[36m(ServeReplica:default:ImageModel pid=1566211)\u001b[0m \u001b[36mray::ServeReplica:default:ImageModel.handle_request_with_rejection()\u001b[39m (pid=1566211, ip=10.138.187.90)\n",
      "\u001b[36m(ServeReplica:default:ImageModel pid=1566211)\u001b[0m   File \"/home/akarx/MLOps/mlops_venv/lib/python3.10/site-packages/ray/serve/_private/utils.py\", line 168, in wrap_to_ray_error\n",
      "\u001b[36m(ServeReplica:default:ImageModel pid=1566211)\u001b[0m     raise exception\n",
      "\u001b[36m(ServeReplica:default:ImageModel pid=1566211)\u001b[0m   File \"/home/akarx/MLOps/mlops_venv/lib/python3.10/site-packages/ray/serve/_private/replica.py\", line 1132, in call_user_method\n",
      "\u001b[36m(ServeReplica:default:ImageModel pid=1566211)\u001b[0m     await self._call_func_or_gen(\n",
      "\u001b[36m(ServeReplica:default:ImageModel pid=1566211)\u001b[0m   File \"/home/akarx/MLOps/mlops_venv/lib/python3.10/site-packages/ray/serve/_private/replica.py\", line 856, in _call_func_or_gen\n",
      "\u001b[36m(ServeReplica:default:ImageModel pid=1566211)\u001b[0m     result = await result\n",
      "\u001b[36m(ServeReplica:default:ImageModel pid=1566211)\u001b[0m   File \"/tmp/ipykernel_1558567/4202449258.py\", line 19, in __call__\n",
      "\u001b[36m(ServeReplica:default:ImageModel pid=1566211)\u001b[0m   File \"/home/akarx/MLOps/mlops_venv/lib/python3.10/site-packages/PIL/Image.py\", line 3339, in open\n",
      "\u001b[36m(ServeReplica:default:ImageModel pid=1566211)\u001b[0m     raise UnidentifiedImageError(msg)\n",
      "\u001b[36m(ServeReplica:default:ImageModel pid=1566211)\u001b[0m PIL.UnidentifiedImageError: cannot identify image file <_io.BytesIO object at 0x7ee75e6ac400>\n",
      "\u001b[36m(ServeReplica:default:ImageModel pid=1566211)\u001b[0m INFO 2024-06-25 11:47:47,572 default_ImageModel ie4nqt0g 6d90682a-e309-4b5c-9ed6-c7b496c8d90c /favicon.ico replica.py:373 - __CALL__ ERROR 5.9ms\n"
     ]
    }
   ],
   "source": [
    "serve.run(image_model)\n"
   ]
  },
  {
   "cell_type": "code",
   "execution_count": 9,
   "metadata": {},
   "outputs": [
    {
     "name": "stdout",
     "output_type": "stream",
     "text": [
      "\u001b[36m(ServeReplica:default:ImageModel pid=1566211)\u001b[0m [1/3] Parsed image data: <PIL.PngImagePlugin.PngImageFile image mode=RGBA size=4726x1478 at 0x7EE75E6A8730>\n",
      "\u001b[36m(ServeReplica:default:ImageModel pid=1566211)\u001b[0m [2/3] Images transformed, tensor shape torch.Size([1, 3, 224, 224])\n",
      "\u001b[36m(ServeReplica:default:ImageModel pid=1566211)\u001b[0m [3/3] Inference done!\n"
     ]
    },
    {
     "name": "stdout",
     "output_type": "stream",
     "text": [
      "{'class_index': 919}\n"
     ]
    }
   ],
   "source": [
    "import requests\n",
    "\n",
    "ray_logo_bytes = requests.get(\n",
    "    \"https://raw.githubusercontent.com/ray-project/\"\n",
    "    \"ray/master/doc/source/images/ray_header_logo.png\"\n",
    ").content\n",
    "\n",
    "resp = requests.post(\"http://localhost:8000/\", data=ray_logo_bytes)\n",
    "print(resp.json())"
   ]
  },
  {
   "cell_type": "code",
   "execution_count": null,
   "metadata": {},
   "outputs": [],
   "source": []
  }
 ],
 "metadata": {
  "kernelspec": {
   "display_name": "mlops",
   "language": "python",
   "name": "mlops"
  },
  "language_info": {
   "codemirror_mode": {
    "name": "ipython",
    "version": 3
   },
   "file_extension": ".py",
   "mimetype": "text/x-python",
   "name": "python",
   "nbconvert_exporter": "python",
   "pygments_lexer": "ipython3",
   "version": "3.10.12"
  }
 },
 "nbformat": 4,
 "nbformat_minor": 2
}
